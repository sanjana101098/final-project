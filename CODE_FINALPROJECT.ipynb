{
 "cells": [
  {
   "cell_type": "markdown",
   "metadata": {
    "id": "HxrIANV978qt"
   },
   "source": [
    "Importing Libraries"
   ]
  },
  {
   "cell_type": "code",
   "execution_count": 2,
   "metadata": {
    "id": "GDStG2HG4U-s"
   },
   "outputs": [],
   "source": [
    "import pandas as pd\n",
    "import numpy as np\n",
    "import matplotlib.pyplot as plt\n",
    "import seaborn as sns\n",
    "from sklearn.metrics import mean_squared_error, mean_absolute_error, r2_score"
   ]
  },
  {
   "cell_type": "markdown",
   "metadata": {
    "id": "msAb27bd8A7G"
   },
   "source": [
    "Loading Dataset"
   ]
  },
  {
   "cell_type": "code",
   "execution_count": 3,
   "metadata": {
    "id": "GFn57F974yUW"
   },
   "outputs": [],
   "source": [
    "df = pd.read_csv('CAR_PRICES.csv')"
   ]
  },
  {
   "cell_type": "markdown",
   "metadata": {
    "id": "w8gtYUnA8Dj2"
   },
   "source": [
    "Data Pre Processing"
   ]
  },
  {
   "cell_type": "code",
   "execution_count": 4,
   "metadata": {
    "colab": {
     "base_uri": "https://localhost:8080/"
    },
    "id": "siWDseVD47vz",
    "outputId": "da5fc879-61a9-4362-dad4-335edb2339a9"
   },
   "outputs": [
    {
     "data": {
      "text/plain": [
       "(166168, 16)"
      ]
     },
     "execution_count": 4,
     "metadata": {},
     "output_type": "execute_result"
    }
   ],
   "source": [
    "df.shape"
   ]
  },
  {
   "cell_type": "code",
   "execution_count": 5,
   "metadata": {
    "colab": {
     "base_uri": "https://localhost:8080/",
     "height": 573
    },
    "id": "tLV-PRi44-gb",
    "outputId": "dfea22ff-6246-4352-fee4-401348ef57b3"
   },
   "outputs": [
    {
     "data": {
      "application/vnd.google.colaboratory.intrinsic+json": {
       "type": "dataframe",
       "variable_name": "df"
      },
      "text/html": [
       "\n",
       "  <div id=\"df-8213c6f1-95a8-441b-a78a-a6674079b413\" class=\"colab-df-container\">\n",
       "    <div>\n",
       "<style scoped>\n",
       "    .dataframe tbody tr th:only-of-type {\n",
       "        vertical-align: middle;\n",
       "    }\n",
       "\n",
       "    .dataframe tbody tr th {\n",
       "        vertical-align: top;\n",
       "    }\n",
       "\n",
       "    .dataframe thead th {\n",
       "        text-align: right;\n",
       "    }\n",
       "</style>\n",
       "<table border=\"1\" class=\"dataframe\">\n",
       "  <thead>\n",
       "    <tr style=\"text-align: right;\">\n",
       "      <th></th>\n",
       "      <th>year</th>\n",
       "      <th>make</th>\n",
       "      <th>model</th>\n",
       "      <th>trim</th>\n",
       "      <th>body</th>\n",
       "      <th>transmission</th>\n",
       "      <th>vin</th>\n",
       "      <th>state</th>\n",
       "      <th>condition</th>\n",
       "      <th>odometer</th>\n",
       "      <th>color</th>\n",
       "      <th>interior</th>\n",
       "      <th>seller</th>\n",
       "      <th>mmr</th>\n",
       "      <th>sellingprice</th>\n",
       "      <th>saledate</th>\n",
       "    </tr>\n",
       "  </thead>\n",
       "  <tbody>\n",
       "    <tr>\n",
       "      <th>0</th>\n",
       "      <td>2015</td>\n",
       "      <td>Kia</td>\n",
       "      <td>Sorento</td>\n",
       "      <td>LX</td>\n",
       "      <td>SUV</td>\n",
       "      <td>automatic</td>\n",
       "      <td>5xyktca69fg566472</td>\n",
       "      <td>ca</td>\n",
       "      <td>5.0</td>\n",
       "      <td>16639.0</td>\n",
       "      <td>white</td>\n",
       "      <td>black</td>\n",
       "      <td>kia motors america  inc</td>\n",
       "      <td>20500.0</td>\n",
       "      <td>21500.0</td>\n",
       "      <td>Tue Dec 16 2014 12:30:00 GMT-0800 (PST)</td>\n",
       "    </tr>\n",
       "    <tr>\n",
       "      <th>1</th>\n",
       "      <td>2015</td>\n",
       "      <td>Kia</td>\n",
       "      <td>Sorento</td>\n",
       "      <td>LX</td>\n",
       "      <td>SUV</td>\n",
       "      <td>automatic</td>\n",
       "      <td>5xyktca69fg561319</td>\n",
       "      <td>ca</td>\n",
       "      <td>5.0</td>\n",
       "      <td>9393.0</td>\n",
       "      <td>white</td>\n",
       "      <td>beige</td>\n",
       "      <td>kia motors america  inc</td>\n",
       "      <td>20800.0</td>\n",
       "      <td>21500.0</td>\n",
       "      <td>Tue Dec 16 2014 12:30:00 GMT-0800 (PST)</td>\n",
       "    </tr>\n",
       "    <tr>\n",
       "      <th>2</th>\n",
       "      <td>2014</td>\n",
       "      <td>BMW</td>\n",
       "      <td>3 Series</td>\n",
       "      <td>328i SULEV</td>\n",
       "      <td>Sedan</td>\n",
       "      <td>automatic</td>\n",
       "      <td>wba3c1c51ek116351</td>\n",
       "      <td>ca</td>\n",
       "      <td>45.0</td>\n",
       "      <td>1331.0</td>\n",
       "      <td>gray</td>\n",
       "      <td>black</td>\n",
       "      <td>financial services remarketing (lease)</td>\n",
       "      <td>31900.0</td>\n",
       "      <td>30000.0</td>\n",
       "      <td>Thu Jan 15 2015 04:30:00 GMT-0800 (PST)</td>\n",
       "    </tr>\n",
       "    <tr>\n",
       "      <th>3</th>\n",
       "      <td>2015</td>\n",
       "      <td>Volvo</td>\n",
       "      <td>S60</td>\n",
       "      <td>T5</td>\n",
       "      <td>Sedan</td>\n",
       "      <td>automatic</td>\n",
       "      <td>yv1612tb4f1310987</td>\n",
       "      <td>ca</td>\n",
       "      <td>41.0</td>\n",
       "      <td>14282.0</td>\n",
       "      <td>white</td>\n",
       "      <td>black</td>\n",
       "      <td>volvo na rep/world omni</td>\n",
       "      <td>27500.0</td>\n",
       "      <td>27750.0</td>\n",
       "      <td>Thu Jan 29 2015 04:30:00 GMT-0800 (PST)</td>\n",
       "    </tr>\n",
       "    <tr>\n",
       "      <th>4</th>\n",
       "      <td>2014</td>\n",
       "      <td>BMW</td>\n",
       "      <td>6 Series Gran Coupe</td>\n",
       "      <td>650i</td>\n",
       "      <td>Sedan</td>\n",
       "      <td>automatic</td>\n",
       "      <td>wba6b2c57ed129731</td>\n",
       "      <td>ca</td>\n",
       "      <td>43.0</td>\n",
       "      <td>2641.0</td>\n",
       "      <td>gray</td>\n",
       "      <td>black</td>\n",
       "      <td>financial services remarketing (lease)</td>\n",
       "      <td>66000.0</td>\n",
       "      <td>67000.0</td>\n",
       "      <td>Thu Dec 18 2014 12:30:00 GMT-0800 (PST)</td>\n",
       "    </tr>\n",
       "  </tbody>\n",
       "</table>\n",
       "</div>\n",
       "    <div class=\"colab-df-buttons\">\n",
       "\n",
       "  <div class=\"colab-df-container\">\n",
       "    <button class=\"colab-df-convert\" onclick=\"convertToInteractive('df-8213c6f1-95a8-441b-a78a-a6674079b413')\"\n",
       "            title=\"Convert this dataframe to an interactive table.\"\n",
       "            style=\"display:none;\">\n",
       "\n",
       "  <svg xmlns=\"http://www.w3.org/2000/svg\" height=\"24px\" viewBox=\"0 -960 960 960\">\n",
       "    <path d=\"M120-120v-720h720v720H120Zm60-500h600v-160H180v160Zm220 220h160v-160H400v160Zm0 220h160v-160H400v160ZM180-400h160v-160H180v160Zm440 0h160v-160H620v160ZM180-180h160v-160H180v160Zm440 0h160v-160H620v160Z\"/>\n",
       "  </svg>\n",
       "    </button>\n",
       "\n",
       "  <style>\n",
       "    .colab-df-container {\n",
       "      display:flex;\n",
       "      gap: 12px;\n",
       "    }\n",
       "\n",
       "    .colab-df-convert {\n",
       "      background-color: #E8F0FE;\n",
       "      border: none;\n",
       "      border-radius: 50%;\n",
       "      cursor: pointer;\n",
       "      display: none;\n",
       "      fill: #1967D2;\n",
       "      height: 32px;\n",
       "      padding: 0 0 0 0;\n",
       "      width: 32px;\n",
       "    }\n",
       "\n",
       "    .colab-df-convert:hover {\n",
       "      background-color: #E2EBFA;\n",
       "      box-shadow: 0px 1px 2px rgba(60, 64, 67, 0.3), 0px 1px 3px 1px rgba(60, 64, 67, 0.15);\n",
       "      fill: #174EA6;\n",
       "    }\n",
       "\n",
       "    .colab-df-buttons div {\n",
       "      margin-bottom: 4px;\n",
       "    }\n",
       "\n",
       "    [theme=dark] .colab-df-convert {\n",
       "      background-color: #3B4455;\n",
       "      fill: #D2E3FC;\n",
       "    }\n",
       "\n",
       "    [theme=dark] .colab-df-convert:hover {\n",
       "      background-color: #434B5C;\n",
       "      box-shadow: 0px 1px 3px 1px rgba(0, 0, 0, 0.15);\n",
       "      filter: drop-shadow(0px 1px 2px rgba(0, 0, 0, 0.3));\n",
       "      fill: #FFFFFF;\n",
       "    }\n",
       "  </style>\n",
       "\n",
       "    <script>\n",
       "      const buttonEl =\n",
       "        document.querySelector('#df-8213c6f1-95a8-441b-a78a-a6674079b413 button.colab-df-convert');\n",
       "      buttonEl.style.display =\n",
       "        google.colab.kernel.accessAllowed ? 'block' : 'none';\n",
       "\n",
       "      async function convertToInteractive(key) {\n",
       "        const element = document.querySelector('#df-8213c6f1-95a8-441b-a78a-a6674079b413');\n",
       "        const dataTable =\n",
       "          await google.colab.kernel.invokeFunction('convertToInteractive',\n",
       "                                                    [key], {});\n",
       "        if (!dataTable) return;\n",
       "\n",
       "        const docLinkHtml = 'Like what you see? Visit the ' +\n",
       "          '<a target=\"_blank\" href=https://colab.research.google.com/notebooks/data_table.ipynb>data table notebook</a>'\n",
       "          + ' to learn more about interactive tables.';\n",
       "        element.innerHTML = '';\n",
       "        dataTable['output_type'] = 'display_data';\n",
       "        await google.colab.output.renderOutput(dataTable, element);\n",
       "        const docLink = document.createElement('div');\n",
       "        docLink.innerHTML = docLinkHtml;\n",
       "        element.appendChild(docLink);\n",
       "      }\n",
       "    </script>\n",
       "  </div>\n",
       "\n",
       "\n",
       "<div id=\"df-177cc9ae-c30d-49e1-801d-aef6481d8260\">\n",
       "  <button class=\"colab-df-quickchart\" onclick=\"quickchart('df-177cc9ae-c30d-49e1-801d-aef6481d8260')\"\n",
       "            title=\"Suggest charts\"\n",
       "            style=\"display:none;\">\n",
       "\n",
       "<svg xmlns=\"http://www.w3.org/2000/svg\" height=\"24px\"viewBox=\"0 0 24 24\"\n",
       "     width=\"24px\">\n",
       "    <g>\n",
       "        <path d=\"M19 3H5c-1.1 0-2 .9-2 2v14c0 1.1.9 2 2 2h14c1.1 0 2-.9 2-2V5c0-1.1-.9-2-2-2zM9 17H7v-7h2v7zm4 0h-2V7h2v10zm4 0h-2v-4h2v4z\"/>\n",
       "    </g>\n",
       "</svg>\n",
       "  </button>\n",
       "\n",
       "<style>\n",
       "  .colab-df-quickchart {\n",
       "      --bg-color: #E8F0FE;\n",
       "      --fill-color: #1967D2;\n",
       "      --hover-bg-color: #E2EBFA;\n",
       "      --hover-fill-color: #174EA6;\n",
       "      --disabled-fill-color: #AAA;\n",
       "      --disabled-bg-color: #DDD;\n",
       "  }\n",
       "\n",
       "  [theme=dark] .colab-df-quickchart {\n",
       "      --bg-color: #3B4455;\n",
       "      --fill-color: #D2E3FC;\n",
       "      --hover-bg-color: #434B5C;\n",
       "      --hover-fill-color: #FFFFFF;\n",
       "      --disabled-bg-color: #3B4455;\n",
       "      --disabled-fill-color: #666;\n",
       "  }\n",
       "\n",
       "  .colab-df-quickchart {\n",
       "    background-color: var(--bg-color);\n",
       "    border: none;\n",
       "    border-radius: 50%;\n",
       "    cursor: pointer;\n",
       "    display: none;\n",
       "    fill: var(--fill-color);\n",
       "    height: 32px;\n",
       "    padding: 0;\n",
       "    width: 32px;\n",
       "  }\n",
       "\n",
       "  .colab-df-quickchart:hover {\n",
       "    background-color: var(--hover-bg-color);\n",
       "    box-shadow: 0 1px 2px rgba(60, 64, 67, 0.3), 0 1px 3px 1px rgba(60, 64, 67, 0.15);\n",
       "    fill: var(--button-hover-fill-color);\n",
       "  }\n",
       "\n",
       "  .colab-df-quickchart-complete:disabled,\n",
       "  .colab-df-quickchart-complete:disabled:hover {\n",
       "    background-color: var(--disabled-bg-color);\n",
       "    fill: var(--disabled-fill-color);\n",
       "    box-shadow: none;\n",
       "  }\n",
       "\n",
       "  .colab-df-spinner {\n",
       "    border: 2px solid var(--fill-color);\n",
       "    border-color: transparent;\n",
       "    border-bottom-color: var(--fill-color);\n",
       "    animation:\n",
       "      spin 1s steps(1) infinite;\n",
       "  }\n",
       "\n",
       "  @keyframes spin {\n",
       "    0% {\n",
       "      border-color: transparent;\n",
       "      border-bottom-color: var(--fill-color);\n",
       "      border-left-color: var(--fill-color);\n",
       "    }\n",
       "    20% {\n",
       "      border-color: transparent;\n",
       "      border-left-color: var(--fill-color);\n",
       "      border-top-color: var(--fill-color);\n",
       "    }\n",
       "    30% {\n",
       "      border-color: transparent;\n",
       "      border-left-color: var(--fill-color);\n",
       "      border-top-color: var(--fill-color);\n",
       "      border-right-color: var(--fill-color);\n",
       "    }\n",
       "    40% {\n",
       "      border-color: transparent;\n",
       "      border-right-color: var(--fill-color);\n",
       "      border-top-color: var(--fill-color);\n",
       "    }\n",
       "    60% {\n",
       "      border-color: transparent;\n",
       "      border-right-color: var(--fill-color);\n",
       "    }\n",
       "    80% {\n",
       "      border-color: transparent;\n",
       "      border-right-color: var(--fill-color);\n",
       "      border-bottom-color: var(--fill-color);\n",
       "    }\n",
       "    90% {\n",
       "      border-color: transparent;\n",
       "      border-bottom-color: var(--fill-color);\n",
       "    }\n",
       "  }\n",
       "</style>\n",
       "\n",
       "  <script>\n",
       "    async function quickchart(key) {\n",
       "      const quickchartButtonEl =\n",
       "        document.querySelector('#' + key + ' button');\n",
       "      quickchartButtonEl.disabled = true;  // To prevent multiple clicks.\n",
       "      quickchartButtonEl.classList.add('colab-df-spinner');\n",
       "      try {\n",
       "        const charts = await google.colab.kernel.invokeFunction(\n",
       "            'suggestCharts', [key], {});\n",
       "      } catch (error) {\n",
       "        console.error('Error during call to suggestCharts:', error);\n",
       "      }\n",
       "      quickchartButtonEl.classList.remove('colab-df-spinner');\n",
       "      quickchartButtonEl.classList.add('colab-df-quickchart-complete');\n",
       "    }\n",
       "    (() => {\n",
       "      let quickchartButtonEl =\n",
       "        document.querySelector('#df-177cc9ae-c30d-49e1-801d-aef6481d8260 button');\n",
       "      quickchartButtonEl.style.display =\n",
       "        google.colab.kernel.accessAllowed ? 'block' : 'none';\n",
       "    })();\n",
       "  </script>\n",
       "</div>\n",
       "\n",
       "    </div>\n",
       "  </div>\n"
      ],
      "text/plain": [
       "   year   make                model        trim   body transmission  \\\n",
       "0  2015    Kia              Sorento          LX    SUV    automatic   \n",
       "1  2015    Kia              Sorento          LX    SUV    automatic   \n",
       "2  2014    BMW             3 Series  328i SULEV  Sedan    automatic   \n",
       "3  2015  Volvo                  S60          T5  Sedan    automatic   \n",
       "4  2014    BMW  6 Series Gran Coupe        650i  Sedan    automatic   \n",
       "\n",
       "                 vin state  condition  odometer  color interior  \\\n",
       "0  5xyktca69fg566472    ca        5.0   16639.0  white    black   \n",
       "1  5xyktca69fg561319    ca        5.0    9393.0  white    beige   \n",
       "2  wba3c1c51ek116351    ca       45.0    1331.0   gray    black   \n",
       "3  yv1612tb4f1310987    ca       41.0   14282.0  white    black   \n",
       "4  wba6b2c57ed129731    ca       43.0    2641.0   gray    black   \n",
       "\n",
       "                                   seller      mmr  sellingprice  \\\n",
       "0                 kia motors america  inc  20500.0       21500.0   \n",
       "1                 kia motors america  inc  20800.0       21500.0   \n",
       "2  financial services remarketing (lease)  31900.0       30000.0   \n",
       "3                 volvo na rep/world omni  27500.0       27750.0   \n",
       "4  financial services remarketing (lease)  66000.0       67000.0   \n",
       "\n",
       "                                  saledate  \n",
       "0  Tue Dec 16 2014 12:30:00 GMT-0800 (PST)  \n",
       "1  Tue Dec 16 2014 12:30:00 GMT-0800 (PST)  \n",
       "2  Thu Jan 15 2015 04:30:00 GMT-0800 (PST)  \n",
       "3  Thu Jan 29 2015 04:30:00 GMT-0800 (PST)  \n",
       "4  Thu Dec 18 2014 12:30:00 GMT-0800 (PST)  "
      ]
     },
     "execution_count": 5,
     "metadata": {},
     "output_type": "execute_result"
    }
   ],
   "source": [
    "df.head(5)"
   ]
  },
  {
   "cell_type": "code",
   "execution_count": 6,
   "metadata": {
    "colab": {
     "base_uri": "https://localhost:8080/"
    },
    "id": "OGxbE08Y5EaP",
    "outputId": "b4552d1f-84c5-4fbd-9f13-efea5f2485b9"
   },
   "outputs": [
    {
     "name": "stdout",
     "output_type": "stream",
     "text": [
      "<class 'pandas.core.frame.DataFrame'>\n",
      "RangeIndex: 166168 entries, 0 to 166167\n",
      "Data columns (total 16 columns):\n",
      " #   Column        Non-Null Count   Dtype  \n",
      "---  ------        --------------   -----  \n",
      " 0   year          166168 non-null  int64  \n",
      " 1   make          164684 non-null  object \n",
      " 2   model         164656 non-null  object \n",
      " 3   trim          164355 non-null  object \n",
      " 4   body          161811 non-null  object \n",
      " 5   transmission  146486 non-null  object \n",
      " 6   vin           166168 non-null  object \n",
      " 7   state         166167 non-null  object \n",
      " 8   condition     154375 non-null  float64\n",
      " 9   odometer      166090 non-null  float64\n",
      " 10  color         165889 non-null  object \n",
      " 11  interior      165889 non-null  object \n",
      " 12  seller        166167 non-null  object \n",
      " 13  mmr           166167 non-null  float64\n",
      " 14  sellingprice  166167 non-null  float64\n",
      " 15  saledate      166167 non-null  object \n",
      "dtypes: float64(4), int64(1), object(11)\n",
      "memory usage: 20.3+ MB\n"
     ]
    }
   ],
   "source": [
    "df.info()"
   ]
  },
  {
   "cell_type": "code",
   "execution_count": 7,
   "metadata": {
    "colab": {
     "base_uri": "https://localhost:8080/",
     "height": 300
    },
    "id": "BX5caRaT5KLy",
    "outputId": "9178ca24-04f9-4883-80d3-9eaacd83ae5e"
   },
   "outputs": [
    {
     "data": {
      "application/vnd.google.colaboratory.intrinsic+json": {
       "summary": "{\n  \"name\": \"df\",\n  \"rows\": 8,\n  \"fields\": [\n    {\n      \"column\": \"year\",\n      \"properties\": {\n        \"dtype\": \"number\",\n        \"std\": 58145.18422312686,\n        \"min\": 4.156622351899801,\n        \"max\": 166168.0,\n        \"num_unique_values\": 8,\n        \"samples\": [\n          2009.5417830147803,\n          2011.0,\n          166168.0\n        ],\n        \"semantic_type\": \"\",\n        \"description\": \"\"\n      }\n    },\n    {\n      \"column\": \"condition\",\n      \"properties\": {\n        \"dtype\": \"number\",\n        \"std\": 54570.17951960713,\n        \"min\": 1.0,\n        \"max\": 154375.0,\n        \"num_unique_values\": 8,\n        \"samples\": [\n          29.839274493927125,\n          34.0,\n          154375.0\n        ],\n        \"semantic_type\": \"\",\n        \"description\": \"\"\n      }\n    },\n    {\n      \"column\": \"odometer\",\n      \"properties\": {\n        \"dtype\": \"number\",\n        \"std\": 332724.4761094873,\n        \"min\": 1.0,\n        \"max\": 999999.0,\n        \"num_unique_values\": 8,\n        \"samples\": [\n          72487.63192847252,\n          57093.5,\n          166090.0\n        ],\n        \"semantic_type\": \"\",\n        \"description\": \"\"\n      }\n    },\n    {\n      \"column\": \"mmr\",\n      \"properties\": {\n        \"dtype\": \"number\",\n        \"std\": 74976.0302204024,\n        \"min\": 25.0,\n        \"max\": 176000.0,\n        \"num_unique_values\": 8,\n        \"samples\": [\n          12967.734417784519,\n          11700.0,\n          166167.0\n        ],\n        \"semantic_type\": \"\",\n        \"description\": \"\"\n      }\n    },\n    {\n      \"column\": \"sellingprice\",\n      \"properties\": {\n        \"dtype\": \"number\",\n        \"std\": 73518.06904097061,\n        \"min\": 1.0,\n        \"max\": 169500.0,\n        \"num_unique_values\": 8,\n        \"samples\": [\n          12687.880493720173,\n          11400.0,\n          166167.0\n        ],\n        \"semantic_type\": \"\",\n        \"description\": \"\"\n      }\n    }\n  ]\n}",
       "type": "dataframe"
      },
      "text/html": [
       "\n",
       "  <div id=\"df-60bae586-76d2-4839-b15e-c47b053bfcb7\" class=\"colab-df-container\">\n",
       "    <div>\n",
       "<style scoped>\n",
       "    .dataframe tbody tr th:only-of-type {\n",
       "        vertical-align: middle;\n",
       "    }\n",
       "\n",
       "    .dataframe tbody tr th {\n",
       "        vertical-align: top;\n",
       "    }\n",
       "\n",
       "    .dataframe thead th {\n",
       "        text-align: right;\n",
       "    }\n",
       "</style>\n",
       "<table border=\"1\" class=\"dataframe\">\n",
       "  <thead>\n",
       "    <tr style=\"text-align: right;\">\n",
       "      <th></th>\n",
       "      <th>year</th>\n",
       "      <th>condition</th>\n",
       "      <th>odometer</th>\n",
       "      <th>mmr</th>\n",
       "      <th>sellingprice</th>\n",
       "    </tr>\n",
       "  </thead>\n",
       "  <tbody>\n",
       "    <tr>\n",
       "      <th>count</th>\n",
       "      <td>166168.000000</td>\n",
       "      <td>154375.000000</td>\n",
       "      <td>166090.000000</td>\n",
       "      <td>166167.000000</td>\n",
       "      <td>166167.000000</td>\n",
       "    </tr>\n",
       "    <tr>\n",
       "      <th>mean</th>\n",
       "      <td>2009.541783</td>\n",
       "      <td>29.839274</td>\n",
       "      <td>72487.631928</td>\n",
       "      <td>12967.734418</td>\n",
       "      <td>12687.880494</td>\n",
       "    </tr>\n",
       "    <tr>\n",
       "      <th>std</th>\n",
       "      <td>4.156622</td>\n",
       "      <td>13.770831</td>\n",
       "      <td>56243.918069</td>\n",
       "      <td>9394.050746</td>\n",
       "      <td>9448.656388</td>\n",
       "    </tr>\n",
       "    <tr>\n",
       "      <th>min</th>\n",
       "      <td>1984.000000</td>\n",
       "      <td>1.000000</td>\n",
       "      <td>1.000000</td>\n",
       "      <td>25.000000</td>\n",
       "      <td>1.000000</td>\n",
       "    </tr>\n",
       "    <tr>\n",
       "      <th>25%</th>\n",
       "      <td>2007.000000</td>\n",
       "      <td>22.000000</td>\n",
       "      <td>28727.250000</td>\n",
       "      <td>5975.000000</td>\n",
       "      <td>5600.000000</td>\n",
       "    </tr>\n",
       "    <tr>\n",
       "      <th>50%</th>\n",
       "      <td>2011.000000</td>\n",
       "      <td>34.000000</td>\n",
       "      <td>57093.500000</td>\n",
       "      <td>11700.000000</td>\n",
       "      <td>11400.000000</td>\n",
       "    </tr>\n",
       "    <tr>\n",
       "      <th>75%</th>\n",
       "      <td>2013.000000</td>\n",
       "      <td>41.000000</td>\n",
       "      <td>106757.500000</td>\n",
       "      <td>17500.000000</td>\n",
       "      <td>17300.000000</td>\n",
       "    </tr>\n",
       "    <tr>\n",
       "      <th>max</th>\n",
       "      <td>2015.000000</td>\n",
       "      <td>49.000000</td>\n",
       "      <td>999999.000000</td>\n",
       "      <td>176000.000000</td>\n",
       "      <td>169500.000000</td>\n",
       "    </tr>\n",
       "  </tbody>\n",
       "</table>\n",
       "</div>\n",
       "    <div class=\"colab-df-buttons\">\n",
       "\n",
       "  <div class=\"colab-df-container\">\n",
       "    <button class=\"colab-df-convert\" onclick=\"convertToInteractive('df-60bae586-76d2-4839-b15e-c47b053bfcb7')\"\n",
       "            title=\"Convert this dataframe to an interactive table.\"\n",
       "            style=\"display:none;\">\n",
       "\n",
       "  <svg xmlns=\"http://www.w3.org/2000/svg\" height=\"24px\" viewBox=\"0 -960 960 960\">\n",
       "    <path d=\"M120-120v-720h720v720H120Zm60-500h600v-160H180v160Zm220 220h160v-160H400v160Zm0 220h160v-160H400v160ZM180-400h160v-160H180v160Zm440 0h160v-160H620v160ZM180-180h160v-160H180v160Zm440 0h160v-160H620v160Z\"/>\n",
       "  </svg>\n",
       "    </button>\n",
       "\n",
       "  <style>\n",
       "    .colab-df-container {\n",
       "      display:flex;\n",
       "      gap: 12px;\n",
       "    }\n",
       "\n",
       "    .colab-df-convert {\n",
       "      background-color: #E8F0FE;\n",
       "      border: none;\n",
       "      border-radius: 50%;\n",
       "      cursor: pointer;\n",
       "      display: none;\n",
       "      fill: #1967D2;\n",
       "      height: 32px;\n",
       "      padding: 0 0 0 0;\n",
       "      width: 32px;\n",
       "    }\n",
       "\n",
       "    .colab-df-convert:hover {\n",
       "      background-color: #E2EBFA;\n",
       "      box-shadow: 0px 1px 2px rgba(60, 64, 67, 0.3), 0px 1px 3px 1px rgba(60, 64, 67, 0.15);\n",
       "      fill: #174EA6;\n",
       "    }\n",
       "\n",
       "    .colab-df-buttons div {\n",
       "      margin-bottom: 4px;\n",
       "    }\n",
       "\n",
       "    [theme=dark] .colab-df-convert {\n",
       "      background-color: #3B4455;\n",
       "      fill: #D2E3FC;\n",
       "    }\n",
       "\n",
       "    [theme=dark] .colab-df-convert:hover {\n",
       "      background-color: #434B5C;\n",
       "      box-shadow: 0px 1px 3px 1px rgba(0, 0, 0, 0.15);\n",
       "      filter: drop-shadow(0px 1px 2px rgba(0, 0, 0, 0.3));\n",
       "      fill: #FFFFFF;\n",
       "    }\n",
       "  </style>\n",
       "\n",
       "    <script>\n",
       "      const buttonEl =\n",
       "        document.querySelector('#df-60bae586-76d2-4839-b15e-c47b053bfcb7 button.colab-df-convert');\n",
       "      buttonEl.style.display =\n",
       "        google.colab.kernel.accessAllowed ? 'block' : 'none';\n",
       "\n",
       "      async function convertToInteractive(key) {\n",
       "        const element = document.querySelector('#df-60bae586-76d2-4839-b15e-c47b053bfcb7');\n",
       "        const dataTable =\n",
       "          await google.colab.kernel.invokeFunction('convertToInteractive',\n",
       "                                                    [key], {});\n",
       "        if (!dataTable) return;\n",
       "\n",
       "        const docLinkHtml = 'Like what you see? Visit the ' +\n",
       "          '<a target=\"_blank\" href=https://colab.research.google.com/notebooks/data_table.ipynb>data table notebook</a>'\n",
       "          + ' to learn more about interactive tables.';\n",
       "        element.innerHTML = '';\n",
       "        dataTable['output_type'] = 'display_data';\n",
       "        await google.colab.output.renderOutput(dataTable, element);\n",
       "        const docLink = document.createElement('div');\n",
       "        docLink.innerHTML = docLinkHtml;\n",
       "        element.appendChild(docLink);\n",
       "      }\n",
       "    </script>\n",
       "  </div>\n",
       "\n",
       "\n",
       "<div id=\"df-543a6470-c5ce-4d2b-9e6e-03e94d24f895\">\n",
       "  <button class=\"colab-df-quickchart\" onclick=\"quickchart('df-543a6470-c5ce-4d2b-9e6e-03e94d24f895')\"\n",
       "            title=\"Suggest charts\"\n",
       "            style=\"display:none;\">\n",
       "\n",
       "<svg xmlns=\"http://www.w3.org/2000/svg\" height=\"24px\"viewBox=\"0 0 24 24\"\n",
       "     width=\"24px\">\n",
       "    <g>\n",
       "        <path d=\"M19 3H5c-1.1 0-2 .9-2 2v14c0 1.1.9 2 2 2h14c1.1 0 2-.9 2-2V5c0-1.1-.9-2-2-2zM9 17H7v-7h2v7zm4 0h-2V7h2v10zm4 0h-2v-4h2v4z\"/>\n",
       "    </g>\n",
       "</svg>\n",
       "  </button>\n",
       "\n",
       "<style>\n",
       "  .colab-df-quickchart {\n",
       "      --bg-color: #E8F0FE;\n",
       "      --fill-color: #1967D2;\n",
       "      --hover-bg-color: #E2EBFA;\n",
       "      --hover-fill-color: #174EA6;\n",
       "      --disabled-fill-color: #AAA;\n",
       "      --disabled-bg-color: #DDD;\n",
       "  }\n",
       "\n",
       "  [theme=dark] .colab-df-quickchart {\n",
       "      --bg-color: #3B4455;\n",
       "      --fill-color: #D2E3FC;\n",
       "      --hover-bg-color: #434B5C;\n",
       "      --hover-fill-color: #FFFFFF;\n",
       "      --disabled-bg-color: #3B4455;\n",
       "      --disabled-fill-color: #666;\n",
       "  }\n",
       "\n",
       "  .colab-df-quickchart {\n",
       "    background-color: var(--bg-color);\n",
       "    border: none;\n",
       "    border-radius: 50%;\n",
       "    cursor: pointer;\n",
       "    display: none;\n",
       "    fill: var(--fill-color);\n",
       "    height: 32px;\n",
       "    padding: 0;\n",
       "    width: 32px;\n",
       "  }\n",
       "\n",
       "  .colab-df-quickchart:hover {\n",
       "    background-color: var(--hover-bg-color);\n",
       "    box-shadow: 0 1px 2px rgba(60, 64, 67, 0.3), 0 1px 3px 1px rgba(60, 64, 67, 0.15);\n",
       "    fill: var(--button-hover-fill-color);\n",
       "  }\n",
       "\n",
       "  .colab-df-quickchart-complete:disabled,\n",
       "  .colab-df-quickchart-complete:disabled:hover {\n",
       "    background-color: var(--disabled-bg-color);\n",
       "    fill: var(--disabled-fill-color);\n",
       "    box-shadow: none;\n",
       "  }\n",
       "\n",
       "  .colab-df-spinner {\n",
       "    border: 2px solid var(--fill-color);\n",
       "    border-color: transparent;\n",
       "    border-bottom-color: var(--fill-color);\n",
       "    animation:\n",
       "      spin 1s steps(1) infinite;\n",
       "  }\n",
       "\n",
       "  @keyframes spin {\n",
       "    0% {\n",
       "      border-color: transparent;\n",
       "      border-bottom-color: var(--fill-color);\n",
       "      border-left-color: var(--fill-color);\n",
       "    }\n",
       "    20% {\n",
       "      border-color: transparent;\n",
       "      border-left-color: var(--fill-color);\n",
       "      border-top-color: var(--fill-color);\n",
       "    }\n",
       "    30% {\n",
       "      border-color: transparent;\n",
       "      border-left-color: var(--fill-color);\n",
       "      border-top-color: var(--fill-color);\n",
       "      border-right-color: var(--fill-color);\n",
       "    }\n",
       "    40% {\n",
       "      border-color: transparent;\n",
       "      border-right-color: var(--fill-color);\n",
       "      border-top-color: var(--fill-color);\n",
       "    }\n",
       "    60% {\n",
       "      border-color: transparent;\n",
       "      border-right-color: var(--fill-color);\n",
       "    }\n",
       "    80% {\n",
       "      border-color: transparent;\n",
       "      border-right-color: var(--fill-color);\n",
       "      border-bottom-color: var(--fill-color);\n",
       "    }\n",
       "    90% {\n",
       "      border-color: transparent;\n",
       "      border-bottom-color: var(--fill-color);\n",
       "    }\n",
       "  }\n",
       "</style>\n",
       "\n",
       "  <script>\n",
       "    async function quickchart(key) {\n",
       "      const quickchartButtonEl =\n",
       "        document.querySelector('#' + key + ' button');\n",
       "      quickchartButtonEl.disabled = true;  // To prevent multiple clicks.\n",
       "      quickchartButtonEl.classList.add('colab-df-spinner');\n",
       "      try {\n",
       "        const charts = await google.colab.kernel.invokeFunction(\n",
       "            'suggestCharts', [key], {});\n",
       "      } catch (error) {\n",
       "        console.error('Error during call to suggestCharts:', error);\n",
       "      }\n",
       "      quickchartButtonEl.classList.remove('colab-df-spinner');\n",
       "      quickchartButtonEl.classList.add('colab-df-quickchart-complete');\n",
       "    }\n",
       "    (() => {\n",
       "      let quickchartButtonEl =\n",
       "        document.querySelector('#df-543a6470-c5ce-4d2b-9e6e-03e94d24f895 button');\n",
       "      quickchartButtonEl.style.display =\n",
       "        google.colab.kernel.accessAllowed ? 'block' : 'none';\n",
       "    })();\n",
       "  </script>\n",
       "</div>\n",
       "\n",
       "    </div>\n",
       "  </div>\n"
      ],
      "text/plain": [
       "                year      condition       odometer            mmr  \\\n",
       "count  166168.000000  154375.000000  166090.000000  166167.000000   \n",
       "mean     2009.541783      29.839274   72487.631928   12967.734418   \n",
       "std         4.156622      13.770831   56243.918069    9394.050746   \n",
       "min      1984.000000       1.000000       1.000000      25.000000   \n",
       "25%      2007.000000      22.000000   28727.250000    5975.000000   \n",
       "50%      2011.000000      34.000000   57093.500000   11700.000000   \n",
       "75%      2013.000000      41.000000  106757.500000   17500.000000   \n",
       "max      2015.000000      49.000000  999999.000000  176000.000000   \n",
       "\n",
       "        sellingprice  \n",
       "count  166167.000000  \n",
       "mean    12687.880494  \n",
       "std      9448.656388  \n",
       "min         1.000000  \n",
       "25%      5600.000000  \n",
       "50%     11400.000000  \n",
       "75%     17300.000000  \n",
       "max    169500.000000  "
      ]
     },
     "execution_count": 7,
     "metadata": {},
     "output_type": "execute_result"
    }
   ],
   "source": [
    "df.describe()"
   ]
  },
  {
   "cell_type": "markdown",
   "metadata": {
    "id": "99BHuaEa7LZ3"
   },
   "source": [
    "CHECKING FOR NULL VALUES"
   ]
  },
  {
   "cell_type": "code",
   "execution_count": 8,
   "metadata": {
    "colab": {
     "base_uri": "https://localhost:8080/",
     "height": 586
    },
    "id": "UT0LkI945LEj",
    "outputId": "1f582f53-bb2e-4082-dffa-3058be51cb2e"
   },
   "outputs": [
    {
     "data": {
      "text/html": [
       "<div>\n",
       "<style scoped>\n",
       "    .dataframe tbody tr th:only-of-type {\n",
       "        vertical-align: middle;\n",
       "    }\n",
       "\n",
       "    .dataframe tbody tr th {\n",
       "        vertical-align: top;\n",
       "    }\n",
       "\n",
       "    .dataframe thead th {\n",
       "        text-align: right;\n",
       "    }\n",
       "</style>\n",
       "<table border=\"1\" class=\"dataframe\">\n",
       "  <thead>\n",
       "    <tr style=\"text-align: right;\">\n",
       "      <th></th>\n",
       "      <th>0</th>\n",
       "    </tr>\n",
       "  </thead>\n",
       "  <tbody>\n",
       "    <tr>\n",
       "      <th>year</th>\n",
       "      <td>0</td>\n",
       "    </tr>\n",
       "    <tr>\n",
       "      <th>make</th>\n",
       "      <td>1484</td>\n",
       "    </tr>\n",
       "    <tr>\n",
       "      <th>model</th>\n",
       "      <td>1512</td>\n",
       "    </tr>\n",
       "    <tr>\n",
       "      <th>trim</th>\n",
       "      <td>1813</td>\n",
       "    </tr>\n",
       "    <tr>\n",
       "      <th>body</th>\n",
       "      <td>4357</td>\n",
       "    </tr>\n",
       "    <tr>\n",
       "      <th>transmission</th>\n",
       "      <td>19682</td>\n",
       "    </tr>\n",
       "    <tr>\n",
       "      <th>vin</th>\n",
       "      <td>0</td>\n",
       "    </tr>\n",
       "    <tr>\n",
       "      <th>state</th>\n",
       "      <td>1</td>\n",
       "    </tr>\n",
       "    <tr>\n",
       "      <th>condition</th>\n",
       "      <td>11793</td>\n",
       "    </tr>\n",
       "    <tr>\n",
       "      <th>odometer</th>\n",
       "      <td>78</td>\n",
       "    </tr>\n",
       "    <tr>\n",
       "      <th>color</th>\n",
       "      <td>279</td>\n",
       "    </tr>\n",
       "    <tr>\n",
       "      <th>interior</th>\n",
       "      <td>279</td>\n",
       "    </tr>\n",
       "    <tr>\n",
       "      <th>seller</th>\n",
       "      <td>1</td>\n",
       "    </tr>\n",
       "    <tr>\n",
       "      <th>mmr</th>\n",
       "      <td>1</td>\n",
       "    </tr>\n",
       "    <tr>\n",
       "      <th>sellingprice</th>\n",
       "      <td>1</td>\n",
       "    </tr>\n",
       "    <tr>\n",
       "      <th>saledate</th>\n",
       "      <td>1</td>\n",
       "    </tr>\n",
       "  </tbody>\n",
       "</table>\n",
       "</div><br><label><b>dtype:</b> int64</label>"
      ],
      "text/plain": [
       "year                0\n",
       "make             1484\n",
       "model            1512\n",
       "trim             1813\n",
       "body             4357\n",
       "transmission    19682\n",
       "vin                 0\n",
       "state               1\n",
       "condition       11793\n",
       "odometer           78\n",
       "color             279\n",
       "interior          279\n",
       "seller              1\n",
       "mmr                 1\n",
       "sellingprice        1\n",
       "saledate            1\n",
       "dtype: int64"
      ]
     },
     "execution_count": 8,
     "metadata": {},
     "output_type": "execute_result"
    }
   ],
   "source": [
    "df.isnull().sum()"
   ]
  },
  {
   "cell_type": "markdown",
   "metadata": {
    "id": "66-sF6U68ZL6"
   },
   "source": [
    "Removing Extra Spaces"
   ]
  },
  {
   "cell_type": "code",
   "execution_count": 9,
   "metadata": {
    "id": "C6l0l2_I5UgJ"
   },
   "outputs": [],
   "source": [
    "str_cols = ['make', 'model', 'trim', 'body', 'transmission', 'vin', 'state', 'color', 'interior', 'seller', 'saledate']\n",
    "df[str_cols] = df[str_cols].apply(lambda x: x.str.strip())"
   ]
  },
  {
   "cell_type": "markdown",
   "metadata": {
    "id": "l2ntqtU87I-b"
   },
   "source": [
    "REMOVING NULL VALUES"
   ]
  },
  {
   "cell_type": "code",
   "execution_count": 10,
   "metadata": {
    "colab": {
     "base_uri": "https://localhost:8080/",
     "height": 586
    },
    "id": "GjNQG_dJ5VWV",
    "outputId": "2e3f1f91-23cc-46bc-ddf6-089e65b0ffef"
   },
   "outputs": [
    {
     "data": {
      "text/html": [
       "<div>\n",
       "<style scoped>\n",
       "    .dataframe tbody tr th:only-of-type {\n",
       "        vertical-align: middle;\n",
       "    }\n",
       "\n",
       "    .dataframe tbody tr th {\n",
       "        vertical-align: top;\n",
       "    }\n",
       "\n",
       "    .dataframe thead th {\n",
       "        text-align: right;\n",
       "    }\n",
       "</style>\n",
       "<table border=\"1\" class=\"dataframe\">\n",
       "  <thead>\n",
       "    <tr style=\"text-align: right;\">\n",
       "      <th></th>\n",
       "      <th>0</th>\n",
       "    </tr>\n",
       "  </thead>\n",
       "  <tbody>\n",
       "    <tr>\n",
       "      <th>year</th>\n",
       "      <td>0</td>\n",
       "    </tr>\n",
       "    <tr>\n",
       "      <th>make</th>\n",
       "      <td>0</td>\n",
       "    </tr>\n",
       "    <tr>\n",
       "      <th>model</th>\n",
       "      <td>0</td>\n",
       "    </tr>\n",
       "    <tr>\n",
       "      <th>trim</th>\n",
       "      <td>0</td>\n",
       "    </tr>\n",
       "    <tr>\n",
       "      <th>body</th>\n",
       "      <td>0</td>\n",
       "    </tr>\n",
       "    <tr>\n",
       "      <th>transmission</th>\n",
       "      <td>0</td>\n",
       "    </tr>\n",
       "    <tr>\n",
       "      <th>vin</th>\n",
       "      <td>0</td>\n",
       "    </tr>\n",
       "    <tr>\n",
       "      <th>state</th>\n",
       "      <td>0</td>\n",
       "    </tr>\n",
       "    <tr>\n",
       "      <th>condition</th>\n",
       "      <td>0</td>\n",
       "    </tr>\n",
       "    <tr>\n",
       "      <th>odometer</th>\n",
       "      <td>0</td>\n",
       "    </tr>\n",
       "    <tr>\n",
       "      <th>color</th>\n",
       "      <td>0</td>\n",
       "    </tr>\n",
       "    <tr>\n",
       "      <th>interior</th>\n",
       "      <td>0</td>\n",
       "    </tr>\n",
       "    <tr>\n",
       "      <th>seller</th>\n",
       "      <td>0</td>\n",
       "    </tr>\n",
       "    <tr>\n",
       "      <th>mmr</th>\n",
       "      <td>0</td>\n",
       "    </tr>\n",
       "    <tr>\n",
       "      <th>sellingprice</th>\n",
       "      <td>0</td>\n",
       "    </tr>\n",
       "    <tr>\n",
       "      <th>saledate</th>\n",
       "      <td>0</td>\n",
       "    </tr>\n",
       "  </tbody>\n",
       "</table>\n",
       "</div><br><label><b>dtype:</b> int64</label>"
      ],
      "text/plain": [
       "year            0\n",
       "make            0\n",
       "model           0\n",
       "trim            0\n",
       "body            0\n",
       "transmission    0\n",
       "vin             0\n",
       "state           0\n",
       "condition       0\n",
       "odometer        0\n",
       "color           0\n",
       "interior        0\n",
       "seller          0\n",
       "mmr             0\n",
       "sellingprice    0\n",
       "saledate        0\n",
       "dtype: int64"
      ]
     },
     "execution_count": 10,
     "metadata": {},
     "output_type": "execute_result"
    }
   ],
   "source": [
    "numerical_cols = ['odometer', 'mmr', 'sellingprice']\n",
    "df[numerical_cols] = df[numerical_cols].fillna(df[numerical_cols].median())\n",
    "columns_to_check = ['make', 'model', 'trim', 'body', 'transmission', 'color', 'interior', 'condition', 'saledate']\n",
    "df = df.dropna(subset=columns_to_check)\n",
    "df.isnull().sum()"
   ]
  },
  {
   "cell_type": "markdown",
   "metadata": {
    "id": "MaRDJ5gL7Gp-"
   },
   "source": [
    "ENCODING"
   ]
  },
  {
   "cell_type": "code",
   "execution_count": 11,
   "metadata": {
    "colab": {
     "base_uri": "https://localhost:8080/"
    },
    "id": "R1UTPs8f5dy6",
    "outputId": "2072929e-bea7-43f5-9925-7ca2f9fc274a"
   },
   "outputs": [
    {
     "name": "stderr",
     "output_type": "stream",
     "text": [
      "<ipython-input-11-0253761ecb8c>:2: FutureWarning: Downcasting behavior in `replace` is deprecated and will be removed in a future version. To retain the old behavior, explicitly call `result.infer_objects(copy=False)`. To opt-in to the future behavior, set `pd.set_option('future.no_silent_downcasting', True)`\n",
      "  df['transmission'] = df['transmission'].replace({'automatic': 1, 'manual': 0})\n"
     ]
    }
   ],
   "source": [
    "df['transmission'] = df['transmission'].replace({'autmatic': 'automatic', 'manaul': 'manual'})\n",
    "df['transmission'] = df['transmission'].replace({'automatic': 1, 'manual': 0})"
   ]
  },
  {
   "cell_type": "markdown",
   "metadata": {
    "id": "pGX3TTPk7Eu1"
   },
   "source": [
    "RENAMING COLUMNS"
   ]
  },
  {
   "cell_type": "code",
   "execution_count": 12,
   "metadata": {
    "id": "_XyL7mWS5gus"
   },
   "outputs": [],
   "source": [
    "df.rename(columns={'mmr': 'market_reference_price'}, inplace=True)\n",
    "df.rename(columns = {'vin': 'vehicle identification number'},inplace=True)"
   ]
  },
  {
   "cell_type": "markdown",
   "metadata": {
    "id": "-FDB0y3w8dhz"
   },
   "source": [
    "Standardize, Normalize & Round 'condition' Column\n",
    "\n"
   ]
  },
  {
   "cell_type": "code",
   "execution_count": 14,
   "metadata": {
    "colab": {
     "base_uri": "https://localhost:8080/"
    },
    "collapsed": true,
    "id": "qhoSLVAu5kLg",
    "outputId": "ba6c7084-cd67-4d68-b157-8f765f65cbdb"
   },
   "outputs": [
    {
     "name": "stderr",
     "output_type": "stream",
     "text": [
      "<ipython-input-14-d4eceac8f138>:4: SettingWithCopyWarning: \n",
      "A value is trying to be set on a copy of a slice from a DataFrame.\n",
      "Try using .loc[row_indexer,col_indexer] = value instead\n",
      "\n",
      "See the caveats in the documentation: https://pandas.pydata.org/pandas-docs/stable/user_guide/indexing.html#returning-a-view-versus-a-copy\n",
      "  df['condition'] = StandardScaler().fit_transform(df[['condition']])\n",
      "<ipython-input-14-d4eceac8f138>:5: SettingWithCopyWarning: \n",
      "A value is trying to be set on a copy of a slice from a DataFrame.\n",
      "Try using .loc[row_indexer,col_indexer] = value instead\n",
      "\n",
      "See the caveats in the documentation: https://pandas.pydata.org/pandas-docs/stable/user_guide/indexing.html#returning-a-view-versus-a-copy\n",
      "  df['condition'] = (df['condition'] - df['condition'].mean()) / df['condition'].std()\n",
      "<ipython-input-14-d4eceac8f138>:8: SettingWithCopyWarning: \n",
      "A value is trying to be set on a copy of a slice from a DataFrame.\n",
      "Try using .loc[row_indexer,col_indexer] = value instead\n",
      "\n",
      "See the caveats in the documentation: https://pandas.pydata.org/pandas-docs/stable/user_guide/indexing.html#returning-a-view-versus-a-copy\n",
      "  df['condition'] = scaler.fit_transform(df[['condition']])\n",
      "<ipython-input-14-d4eceac8f138>:13: SettingWithCopyWarning: \n",
      "A value is trying to be set on a copy of a slice from a DataFrame.\n",
      "Try using .loc[row_indexer,col_indexer] = value instead\n",
      "\n",
      "See the caveats in the documentation: https://pandas.pydata.org/pandas-docs/stable/user_guide/indexing.html#returning-a-view-versus-a-copy\n",
      "  df['condition'] = df['condition'].apply(round_column_values)\n"
     ]
    }
   ],
   "source": [
    "from sklearn.preprocessing import StandardScaler\n",
    "from sklearn.preprocessing import MinMaxScaler\n",
    "\n",
    "df['condition'] = StandardScaler().fit_transform(df[['condition']])\n",
    "df['condition'] = (df['condition'] - df['condition'].mean()) / df['condition'].std()\n",
    "\n",
    "scaler = MinMaxScaler()\n",
    "df['condition'] = scaler.fit_transform(df[['condition']])\n",
    "\n",
    "def round_column_values(value):\n",
    "    return round(value, 2)  # Round to 2 decimal places, change as needed\n",
    "\n",
    "df['condition'] = df['condition'].apply(round_column_values)"
   ]
  },
  {
   "cell_type": "markdown",
   "metadata": {
    "id": "Hk188Mn17Bz0"
   },
   "source": [
    "FORMATTING COLUMNS"
   ]
  },
  {
   "cell_type": "code",
   "execution_count": 13,
   "metadata": {
    "colab": {
     "base_uri": "https://localhost:8080/"
    },
    "id": "TQlQD6Tg5pTG",
    "outputId": "5b92c5f8-0c0f-4c5f-da00-8c945f8de6c9"
   },
   "outputs": [
    {
     "name": "stdout",
     "output_type": "stream",
     "text": [
      "0         CA\n",
      "1         CA\n",
      "2         CA\n",
      "3         CA\n",
      "4         CA\n",
      "          ..\n",
      "166161    CA\n",
      "166162    NC\n",
      "166163    OH\n",
      "166164    VA\n",
      "166165    OH\n",
      "Name: state, Length: 133185, dtype: object\n"
     ]
    }
   ],
   "source": [
    "df['state'] = df['state'].str.upper()\n",
    "print(df['state'])"
   ]
  },
  {
   "cell_type": "markdown",
   "metadata": {
    "id": "hz5dY0Vi6_WR"
   },
   "source": [
    "MODIFYING DATE COLUMN"
   ]
  },
  {
   "cell_type": "code",
   "execution_count": 14,
   "metadata": {
    "collapsed": true,
    "id": "beeuD4tN6Uyr"
   },
   "outputs": [],
   "source": [
    "df['saledate'] = df['saledate'].astype(str)\n",
    "df['sale_date_clean'] = df['saledate'].str.slice(start=4, stop=16)\n",
    "df.drop(['saledate'], axis=1, inplace=True)"
   ]
  },
  {
   "cell_type": "code",
   "execution_count": 17,
   "metadata": {
    "colab": {
     "base_uri": "https://localhost:8080/",
     "height": 434
    },
    "id": "3YXQDxWM6IKo",
    "outputId": "382b64de-5438-4aae-8c50-26cf2b484c8a"
   },
   "outputs": [
    {
     "data": {
      "application/vnd.google.colaboratory.intrinsic+json": {
       "type": "dataframe",
       "variable_name": "df"
      },
      "text/html": [
       "\n",
       "  <div id=\"df-0c2a01b5-4e2e-4d7d-891f-3c3e866b144a\" class=\"colab-df-container\">\n",
       "    <div>\n",
       "<style scoped>\n",
       "    .dataframe tbody tr th:only-of-type {\n",
       "        vertical-align: middle;\n",
       "    }\n",
       "\n",
       "    .dataframe tbody tr th {\n",
       "        vertical-align: top;\n",
       "    }\n",
       "\n",
       "    .dataframe thead th {\n",
       "        text-align: right;\n",
       "    }\n",
       "</style>\n",
       "<table border=\"1\" class=\"dataframe\">\n",
       "  <thead>\n",
       "    <tr style=\"text-align: right;\">\n",
       "      <th></th>\n",
       "      <th>year</th>\n",
       "      <th>make</th>\n",
       "      <th>model</th>\n",
       "      <th>trim</th>\n",
       "      <th>body</th>\n",
       "      <th>transmission</th>\n",
       "      <th>vehicle identification number</th>\n",
       "      <th>state</th>\n",
       "      <th>condition</th>\n",
       "      <th>odometer</th>\n",
       "      <th>color</th>\n",
       "      <th>interior</th>\n",
       "      <th>seller</th>\n",
       "      <th>market_reference_price</th>\n",
       "      <th>sellingprice</th>\n",
       "      <th>sale_date_clean</th>\n",
       "    </tr>\n",
       "  </thead>\n",
       "  <tbody>\n",
       "    <tr>\n",
       "      <th>0</th>\n",
       "      <td>2015</td>\n",
       "      <td>Kia</td>\n",
       "      <td>Sorento</td>\n",
       "      <td>LX</td>\n",
       "      <td>SUV</td>\n",
       "      <td>1</td>\n",
       "      <td>5xyktca69fg566472</td>\n",
       "      <td>CA</td>\n",
       "      <td>0.08</td>\n",
       "      <td>16639.0</td>\n",
       "      <td>white</td>\n",
       "      <td>black</td>\n",
       "      <td>kia motors america  inc</td>\n",
       "      <td>20500</td>\n",
       "      <td>21500</td>\n",
       "      <td>Dec 16 2014</td>\n",
       "    </tr>\n",
       "    <tr>\n",
       "      <th>1</th>\n",
       "      <td>2015</td>\n",
       "      <td>Kia</td>\n",
       "      <td>Sorento</td>\n",
       "      <td>LX</td>\n",
       "      <td>SUV</td>\n",
       "      <td>1</td>\n",
       "      <td>5xyktca69fg561319</td>\n",
       "      <td>CA</td>\n",
       "      <td>0.08</td>\n",
       "      <td>9393.0</td>\n",
       "      <td>white</td>\n",
       "      <td>beige</td>\n",
       "      <td>kia motors america  inc</td>\n",
       "      <td>20800</td>\n",
       "      <td>21500</td>\n",
       "      <td>Dec 16 2014</td>\n",
       "    </tr>\n",
       "    <tr>\n",
       "      <th>2</th>\n",
       "      <td>2014</td>\n",
       "      <td>BMW</td>\n",
       "      <td>3 Series</td>\n",
       "      <td>328i SULEV</td>\n",
       "      <td>Sedan</td>\n",
       "      <td>1</td>\n",
       "      <td>wba3c1c51ek116351</td>\n",
       "      <td>CA</td>\n",
       "      <td>0.92</td>\n",
       "      <td>1331.0</td>\n",
       "      <td>gray</td>\n",
       "      <td>black</td>\n",
       "      <td>financial services remarketing (lease)</td>\n",
       "      <td>31900</td>\n",
       "      <td>30000</td>\n",
       "      <td>Jan 15 2015</td>\n",
       "    </tr>\n",
       "    <tr>\n",
       "      <th>3</th>\n",
       "      <td>2015</td>\n",
       "      <td>Volvo</td>\n",
       "      <td>S60</td>\n",
       "      <td>T5</td>\n",
       "      <td>Sedan</td>\n",
       "      <td>1</td>\n",
       "      <td>yv1612tb4f1310987</td>\n",
       "      <td>CA</td>\n",
       "      <td>0.83</td>\n",
       "      <td>14282.0</td>\n",
       "      <td>white</td>\n",
       "      <td>black</td>\n",
       "      <td>volvo na rep/world omni</td>\n",
       "      <td>27500</td>\n",
       "      <td>27750</td>\n",
       "      <td>Jan 29 2015</td>\n",
       "    </tr>\n",
       "    <tr>\n",
       "      <th>4</th>\n",
       "      <td>2014</td>\n",
       "      <td>BMW</td>\n",
       "      <td>6 Series Gran Coupe</td>\n",
       "      <td>650i</td>\n",
       "      <td>Sedan</td>\n",
       "      <td>1</td>\n",
       "      <td>wba6b2c57ed129731</td>\n",
       "      <td>CA</td>\n",
       "      <td>0.88</td>\n",
       "      <td>2641.0</td>\n",
       "      <td>gray</td>\n",
       "      <td>black</td>\n",
       "      <td>financial services remarketing (lease)</td>\n",
       "      <td>66000</td>\n",
       "      <td>67000</td>\n",
       "      <td>Dec 18 2014</td>\n",
       "    </tr>\n",
       "  </tbody>\n",
       "</table>\n",
       "</div>\n",
       "    <div class=\"colab-df-buttons\">\n",
       "\n",
       "  <div class=\"colab-df-container\">\n",
       "    <button class=\"colab-df-convert\" onclick=\"convertToInteractive('df-0c2a01b5-4e2e-4d7d-891f-3c3e866b144a')\"\n",
       "            title=\"Convert this dataframe to an interactive table.\"\n",
       "            style=\"display:none;\">\n",
       "\n",
       "  <svg xmlns=\"http://www.w3.org/2000/svg\" height=\"24px\" viewBox=\"0 -960 960 960\">\n",
       "    <path d=\"M120-120v-720h720v720H120Zm60-500h600v-160H180v160Zm220 220h160v-160H400v160Zm0 220h160v-160H400v160ZM180-400h160v-160H180v160Zm440 0h160v-160H620v160ZM180-180h160v-160H180v160Zm440 0h160v-160H620v160Z\"/>\n",
       "  </svg>\n",
       "    </button>\n",
       "\n",
       "  <style>\n",
       "    .colab-df-container {\n",
       "      display:flex;\n",
       "      gap: 12px;\n",
       "    }\n",
       "\n",
       "    .colab-df-convert {\n",
       "      background-color: #E8F0FE;\n",
       "      border: none;\n",
       "      border-radius: 50%;\n",
       "      cursor: pointer;\n",
       "      display: none;\n",
       "      fill: #1967D2;\n",
       "      height: 32px;\n",
       "      padding: 0 0 0 0;\n",
       "      width: 32px;\n",
       "    }\n",
       "\n",
       "    .colab-df-convert:hover {\n",
       "      background-color: #E2EBFA;\n",
       "      box-shadow: 0px 1px 2px rgba(60, 64, 67, 0.3), 0px 1px 3px 1px rgba(60, 64, 67, 0.15);\n",
       "      fill: #174EA6;\n",
       "    }\n",
       "\n",
       "    .colab-df-buttons div {\n",
       "      margin-bottom: 4px;\n",
       "    }\n",
       "\n",
       "    [theme=dark] .colab-df-convert {\n",
       "      background-color: #3B4455;\n",
       "      fill: #D2E3FC;\n",
       "    }\n",
       "\n",
       "    [theme=dark] .colab-df-convert:hover {\n",
       "      background-color: #434B5C;\n",
       "      box-shadow: 0px 1px 3px 1px rgba(0, 0, 0, 0.15);\n",
       "      filter: drop-shadow(0px 1px 2px rgba(0, 0, 0, 0.3));\n",
       "      fill: #FFFFFF;\n",
       "    }\n",
       "  </style>\n",
       "\n",
       "    <script>\n",
       "      const buttonEl =\n",
       "        document.querySelector('#df-0c2a01b5-4e2e-4d7d-891f-3c3e866b144a button.colab-df-convert');\n",
       "      buttonEl.style.display =\n",
       "        google.colab.kernel.accessAllowed ? 'block' : 'none';\n",
       "\n",
       "      async function convertToInteractive(key) {\n",
       "        const element = document.querySelector('#df-0c2a01b5-4e2e-4d7d-891f-3c3e866b144a');\n",
       "        const dataTable =\n",
       "          await google.colab.kernel.invokeFunction('convertToInteractive',\n",
       "                                                    [key], {});\n",
       "        if (!dataTable) return;\n",
       "\n",
       "        const docLinkHtml = 'Like what you see? Visit the ' +\n",
       "          '<a target=\"_blank\" href=https://colab.research.google.com/notebooks/data_table.ipynb>data table notebook</a>'\n",
       "          + ' to learn more about interactive tables.';\n",
       "        element.innerHTML = '';\n",
       "        dataTable['output_type'] = 'display_data';\n",
       "        await google.colab.output.renderOutput(dataTable, element);\n",
       "        const docLink = document.createElement('div');\n",
       "        docLink.innerHTML = docLinkHtml;\n",
       "        element.appendChild(docLink);\n",
       "      }\n",
       "    </script>\n",
       "  </div>\n",
       "\n",
       "\n",
       "<div id=\"df-75616847-cda0-488c-b93f-0859375e97f1\">\n",
       "  <button class=\"colab-df-quickchart\" onclick=\"quickchart('df-75616847-cda0-488c-b93f-0859375e97f1')\"\n",
       "            title=\"Suggest charts\"\n",
       "            style=\"display:none;\">\n",
       "\n",
       "<svg xmlns=\"http://www.w3.org/2000/svg\" height=\"24px\"viewBox=\"0 0 24 24\"\n",
       "     width=\"24px\">\n",
       "    <g>\n",
       "        <path d=\"M19 3H5c-1.1 0-2 .9-2 2v14c0 1.1.9 2 2 2h14c1.1 0 2-.9 2-2V5c0-1.1-.9-2-2-2zM9 17H7v-7h2v7zm4 0h-2V7h2v10zm4 0h-2v-4h2v4z\"/>\n",
       "    </g>\n",
       "</svg>\n",
       "  </button>\n",
       "\n",
       "<style>\n",
       "  .colab-df-quickchart {\n",
       "      --bg-color: #E8F0FE;\n",
       "      --fill-color: #1967D2;\n",
       "      --hover-bg-color: #E2EBFA;\n",
       "      --hover-fill-color: #174EA6;\n",
       "      --disabled-fill-color: #AAA;\n",
       "      --disabled-bg-color: #DDD;\n",
       "  }\n",
       "\n",
       "  [theme=dark] .colab-df-quickchart {\n",
       "      --bg-color: #3B4455;\n",
       "      --fill-color: #D2E3FC;\n",
       "      --hover-bg-color: #434B5C;\n",
       "      --hover-fill-color: #FFFFFF;\n",
       "      --disabled-bg-color: #3B4455;\n",
       "      --disabled-fill-color: #666;\n",
       "  }\n",
       "\n",
       "  .colab-df-quickchart {\n",
       "    background-color: var(--bg-color);\n",
       "    border: none;\n",
       "    border-radius: 50%;\n",
       "    cursor: pointer;\n",
       "    display: none;\n",
       "    fill: var(--fill-color);\n",
       "    height: 32px;\n",
       "    padding: 0;\n",
       "    width: 32px;\n",
       "  }\n",
       "\n",
       "  .colab-df-quickchart:hover {\n",
       "    background-color: var(--hover-bg-color);\n",
       "    box-shadow: 0 1px 2px rgba(60, 64, 67, 0.3), 0 1px 3px 1px rgba(60, 64, 67, 0.15);\n",
       "    fill: var(--button-hover-fill-color);\n",
       "  }\n",
       "\n",
       "  .colab-df-quickchart-complete:disabled,\n",
       "  .colab-df-quickchart-complete:disabled:hover {\n",
       "    background-color: var(--disabled-bg-color);\n",
       "    fill: var(--disabled-fill-color);\n",
       "    box-shadow: none;\n",
       "  }\n",
       "\n",
       "  .colab-df-spinner {\n",
       "    border: 2px solid var(--fill-color);\n",
       "    border-color: transparent;\n",
       "    border-bottom-color: var(--fill-color);\n",
       "    animation:\n",
       "      spin 1s steps(1) infinite;\n",
       "  }\n",
       "\n",
       "  @keyframes spin {\n",
       "    0% {\n",
       "      border-color: transparent;\n",
       "      border-bottom-color: var(--fill-color);\n",
       "      border-left-color: var(--fill-color);\n",
       "    }\n",
       "    20% {\n",
       "      border-color: transparent;\n",
       "      border-left-color: var(--fill-color);\n",
       "      border-top-color: var(--fill-color);\n",
       "    }\n",
       "    30% {\n",
       "      border-color: transparent;\n",
       "      border-left-color: var(--fill-color);\n",
       "      border-top-color: var(--fill-color);\n",
       "      border-right-color: var(--fill-color);\n",
       "    }\n",
       "    40% {\n",
       "      border-color: transparent;\n",
       "      border-right-color: var(--fill-color);\n",
       "      border-top-color: var(--fill-color);\n",
       "    }\n",
       "    60% {\n",
       "      border-color: transparent;\n",
       "      border-right-color: var(--fill-color);\n",
       "    }\n",
       "    80% {\n",
       "      border-color: transparent;\n",
       "      border-right-color: var(--fill-color);\n",
       "      border-bottom-color: var(--fill-color);\n",
       "    }\n",
       "    90% {\n",
       "      border-color: transparent;\n",
       "      border-bottom-color: var(--fill-color);\n",
       "    }\n",
       "  }\n",
       "</style>\n",
       "\n",
       "  <script>\n",
       "    async function quickchart(key) {\n",
       "      const quickchartButtonEl =\n",
       "        document.querySelector('#' + key + ' button');\n",
       "      quickchartButtonEl.disabled = true;  // To prevent multiple clicks.\n",
       "      quickchartButtonEl.classList.add('colab-df-spinner');\n",
       "      try {\n",
       "        const charts = await google.colab.kernel.invokeFunction(\n",
       "            'suggestCharts', [key], {});\n",
       "      } catch (error) {\n",
       "        console.error('Error during call to suggestCharts:', error);\n",
       "      }\n",
       "      quickchartButtonEl.classList.remove('colab-df-spinner');\n",
       "      quickchartButtonEl.classList.add('colab-df-quickchart-complete');\n",
       "    }\n",
       "    (() => {\n",
       "      let quickchartButtonEl =\n",
       "        document.querySelector('#df-75616847-cda0-488c-b93f-0859375e97f1 button');\n",
       "      quickchartButtonEl.style.display =\n",
       "        google.colab.kernel.accessAllowed ? 'block' : 'none';\n",
       "    })();\n",
       "  </script>\n",
       "</div>\n",
       "\n",
       "    </div>\n",
       "  </div>\n"
      ],
      "text/plain": [
       "   year   make                model        trim   body  transmission  \\\n",
       "0  2015    Kia              Sorento          LX    SUV             1   \n",
       "1  2015    Kia              Sorento          LX    SUV             1   \n",
       "2  2014    BMW             3 Series  328i SULEV  Sedan             1   \n",
       "3  2015  Volvo                  S60          T5  Sedan             1   \n",
       "4  2014    BMW  6 Series Gran Coupe        650i  Sedan             1   \n",
       "\n",
       "  vehicle identification number state  condition  odometer  color interior  \\\n",
       "0             5xyktca69fg566472    CA       0.08   16639.0  white    black   \n",
       "1             5xyktca69fg561319    CA       0.08    9393.0  white    beige   \n",
       "2             wba3c1c51ek116351    CA       0.92    1331.0   gray    black   \n",
       "3             yv1612tb4f1310987    CA       0.83   14282.0  white    black   \n",
       "4             wba6b2c57ed129731    CA       0.88    2641.0   gray    black   \n",
       "\n",
       "                                   seller  market_reference_price  \\\n",
       "0                 kia motors america  inc                   20500   \n",
       "1                 kia motors america  inc                   20800   \n",
       "2  financial services remarketing (lease)                   31900   \n",
       "3                 volvo na rep/world omni                   27500   \n",
       "4  financial services remarketing (lease)                   66000   \n",
       "\n",
       "   sellingprice sale_date_clean  \n",
       "0         21500    Dec 16 2014   \n",
       "1         21500    Dec 16 2014   \n",
       "2         30000    Jan 15 2015   \n",
       "3         27750    Jan 29 2015   \n",
       "4         67000    Dec 18 2014   "
      ]
     },
     "execution_count": 17,
     "metadata": {},
     "output_type": "execute_result"
    }
   ],
   "source": [
    "df.head()"
   ]
  },
  {
   "cell_type": "markdown",
   "metadata": {
    "id": "6WvD03k767jI"
   },
   "source": [
    "REMOVING OUTLIERS"
   ]
  },
  {
   "cell_type": "code",
   "execution_count": 15,
   "metadata": {
    "colab": {
     "base_uri": "https://localhost:8080/",
     "height": 434
    },
    "id": "DO0SOq2R6u2p",
    "outputId": "7fedefc4-935b-419e-c8b5-3c12d4d2f5fa"
   },
   "outputs": [
    {
     "data": {
      "application/vnd.google.colaboratory.intrinsic+json": {
       "type": "dataframe",
       "variable_name": "df"
      },
      "text/html": [
       "\n",
       "  <div id=\"df-b3936e83-dfaf-41d7-9583-70c4b0638fbc\" class=\"colab-df-container\">\n",
       "    <div>\n",
       "<style scoped>\n",
       "    .dataframe tbody tr th:only-of-type {\n",
       "        vertical-align: middle;\n",
       "    }\n",
       "\n",
       "    .dataframe tbody tr th {\n",
       "        vertical-align: top;\n",
       "    }\n",
       "\n",
       "    .dataframe thead th {\n",
       "        text-align: right;\n",
       "    }\n",
       "</style>\n",
       "<table border=\"1\" class=\"dataframe\">\n",
       "  <thead>\n",
       "    <tr style=\"text-align: right;\">\n",
       "      <th></th>\n",
       "      <th>year</th>\n",
       "      <th>make</th>\n",
       "      <th>model</th>\n",
       "      <th>trim</th>\n",
       "      <th>body</th>\n",
       "      <th>transmission</th>\n",
       "      <th>vehicle identification number</th>\n",
       "      <th>state</th>\n",
       "      <th>condition</th>\n",
       "      <th>odometer</th>\n",
       "      <th>color</th>\n",
       "      <th>interior</th>\n",
       "      <th>seller</th>\n",
       "      <th>market_reference_price</th>\n",
       "      <th>sellingprice</th>\n",
       "      <th>sale_date_clean</th>\n",
       "    </tr>\n",
       "  </thead>\n",
       "  <tbody>\n",
       "    <tr>\n",
       "      <th>0</th>\n",
       "      <td>2015</td>\n",
       "      <td>Kia</td>\n",
       "      <td>Sorento</td>\n",
       "      <td>LX</td>\n",
       "      <td>SUV</td>\n",
       "      <td>1</td>\n",
       "      <td>5xyktca69fg566472</td>\n",
       "      <td>CA</td>\n",
       "      <td>5.0</td>\n",
       "      <td>16639.0</td>\n",
       "      <td>white</td>\n",
       "      <td>black</td>\n",
       "      <td>kia motors america  inc</td>\n",
       "      <td>20500.0</td>\n",
       "      <td>21500.0</td>\n",
       "      <td>Dec 16 2014</td>\n",
       "    </tr>\n",
       "    <tr>\n",
       "      <th>1</th>\n",
       "      <td>2015</td>\n",
       "      <td>Kia</td>\n",
       "      <td>Sorento</td>\n",
       "      <td>LX</td>\n",
       "      <td>SUV</td>\n",
       "      <td>1</td>\n",
       "      <td>5xyktca69fg561319</td>\n",
       "      <td>CA</td>\n",
       "      <td>5.0</td>\n",
       "      <td>9393.0</td>\n",
       "      <td>white</td>\n",
       "      <td>beige</td>\n",
       "      <td>kia motors america  inc</td>\n",
       "      <td>20800.0</td>\n",
       "      <td>21500.0</td>\n",
       "      <td>Dec 16 2014</td>\n",
       "    </tr>\n",
       "    <tr>\n",
       "      <th>2</th>\n",
       "      <td>2014</td>\n",
       "      <td>BMW</td>\n",
       "      <td>3 Series</td>\n",
       "      <td>328i SULEV</td>\n",
       "      <td>Sedan</td>\n",
       "      <td>1</td>\n",
       "      <td>wba3c1c51ek116351</td>\n",
       "      <td>CA</td>\n",
       "      <td>45.0</td>\n",
       "      <td>1331.0</td>\n",
       "      <td>gray</td>\n",
       "      <td>black</td>\n",
       "      <td>financial services remarketing (lease)</td>\n",
       "      <td>31900.0</td>\n",
       "      <td>30000.0</td>\n",
       "      <td>Jan 15 2015</td>\n",
       "    </tr>\n",
       "    <tr>\n",
       "      <th>3</th>\n",
       "      <td>2015</td>\n",
       "      <td>Volvo</td>\n",
       "      <td>S60</td>\n",
       "      <td>T5</td>\n",
       "      <td>Sedan</td>\n",
       "      <td>1</td>\n",
       "      <td>yv1612tb4f1310987</td>\n",
       "      <td>CA</td>\n",
       "      <td>41.0</td>\n",
       "      <td>14282.0</td>\n",
       "      <td>white</td>\n",
       "      <td>black</td>\n",
       "      <td>volvo na rep/world omni</td>\n",
       "      <td>27500.0</td>\n",
       "      <td>27750.0</td>\n",
       "      <td>Jan 29 2015</td>\n",
       "    </tr>\n",
       "    <tr>\n",
       "      <th>4</th>\n",
       "      <td>2014</td>\n",
       "      <td>BMW</td>\n",
       "      <td>6 Series Gran Coupe</td>\n",
       "      <td>650i</td>\n",
       "      <td>Sedan</td>\n",
       "      <td>1</td>\n",
       "      <td>wba6b2c57ed129731</td>\n",
       "      <td>CA</td>\n",
       "      <td>43.0</td>\n",
       "      <td>2641.0</td>\n",
       "      <td>gray</td>\n",
       "      <td>black</td>\n",
       "      <td>financial services remarketing (lease)</td>\n",
       "      <td>66000.0</td>\n",
       "      <td>67000.0</td>\n",
       "      <td>Dec 18 2014</td>\n",
       "    </tr>\n",
       "  </tbody>\n",
       "</table>\n",
       "</div>\n",
       "    <div class=\"colab-df-buttons\">\n",
       "\n",
       "  <div class=\"colab-df-container\">\n",
       "    <button class=\"colab-df-convert\" onclick=\"convertToInteractive('df-b3936e83-dfaf-41d7-9583-70c4b0638fbc')\"\n",
       "            title=\"Convert this dataframe to an interactive table.\"\n",
       "            style=\"display:none;\">\n",
       "\n",
       "  <svg xmlns=\"http://www.w3.org/2000/svg\" height=\"24px\" viewBox=\"0 -960 960 960\">\n",
       "    <path d=\"M120-120v-720h720v720H120Zm60-500h600v-160H180v160Zm220 220h160v-160H400v160Zm0 220h160v-160H400v160ZM180-400h160v-160H180v160Zm440 0h160v-160H620v160ZM180-180h160v-160H180v160Zm440 0h160v-160H620v160Z\"/>\n",
       "  </svg>\n",
       "    </button>\n",
       "\n",
       "  <style>\n",
       "    .colab-df-container {\n",
       "      display:flex;\n",
       "      gap: 12px;\n",
       "    }\n",
       "\n",
       "    .colab-df-convert {\n",
       "      background-color: #E8F0FE;\n",
       "      border: none;\n",
       "      border-radius: 50%;\n",
       "      cursor: pointer;\n",
       "      display: none;\n",
       "      fill: #1967D2;\n",
       "      height: 32px;\n",
       "      padding: 0 0 0 0;\n",
       "      width: 32px;\n",
       "    }\n",
       "\n",
       "    .colab-df-convert:hover {\n",
       "      background-color: #E2EBFA;\n",
       "      box-shadow: 0px 1px 2px rgba(60, 64, 67, 0.3), 0px 1px 3px 1px rgba(60, 64, 67, 0.15);\n",
       "      fill: #174EA6;\n",
       "    }\n",
       "\n",
       "    .colab-df-buttons div {\n",
       "      margin-bottom: 4px;\n",
       "    }\n",
       "\n",
       "    [theme=dark] .colab-df-convert {\n",
       "      background-color: #3B4455;\n",
       "      fill: #D2E3FC;\n",
       "    }\n",
       "\n",
       "    [theme=dark] .colab-df-convert:hover {\n",
       "      background-color: #434B5C;\n",
       "      box-shadow: 0px 1px 3px 1px rgba(0, 0, 0, 0.15);\n",
       "      filter: drop-shadow(0px 1px 2px rgba(0, 0, 0, 0.3));\n",
       "      fill: #FFFFFF;\n",
       "    }\n",
       "  </style>\n",
       "\n",
       "    <script>\n",
       "      const buttonEl =\n",
       "        document.querySelector('#df-b3936e83-dfaf-41d7-9583-70c4b0638fbc button.colab-df-convert');\n",
       "      buttonEl.style.display =\n",
       "        google.colab.kernel.accessAllowed ? 'block' : 'none';\n",
       "\n",
       "      async function convertToInteractive(key) {\n",
       "        const element = document.querySelector('#df-b3936e83-dfaf-41d7-9583-70c4b0638fbc');\n",
       "        const dataTable =\n",
       "          await google.colab.kernel.invokeFunction('convertToInteractive',\n",
       "                                                    [key], {});\n",
       "        if (!dataTable) return;\n",
       "\n",
       "        const docLinkHtml = 'Like what you see? Visit the ' +\n",
       "          '<a target=\"_blank\" href=https://colab.research.google.com/notebooks/data_table.ipynb>data table notebook</a>'\n",
       "          + ' to learn more about interactive tables.';\n",
       "        element.innerHTML = '';\n",
       "        dataTable['output_type'] = 'display_data';\n",
       "        await google.colab.output.renderOutput(dataTable, element);\n",
       "        const docLink = document.createElement('div');\n",
       "        docLink.innerHTML = docLinkHtml;\n",
       "        element.appendChild(docLink);\n",
       "      }\n",
       "    </script>\n",
       "  </div>\n",
       "\n",
       "\n",
       "<div id=\"df-b2a225f9-f07b-44b1-82f4-c49f1d286ef6\">\n",
       "  <button class=\"colab-df-quickchart\" onclick=\"quickchart('df-b2a225f9-f07b-44b1-82f4-c49f1d286ef6')\"\n",
       "            title=\"Suggest charts\"\n",
       "            style=\"display:none;\">\n",
       "\n",
       "<svg xmlns=\"http://www.w3.org/2000/svg\" height=\"24px\"viewBox=\"0 0 24 24\"\n",
       "     width=\"24px\">\n",
       "    <g>\n",
       "        <path d=\"M19 3H5c-1.1 0-2 .9-2 2v14c0 1.1.9 2 2 2h14c1.1 0 2-.9 2-2V5c0-1.1-.9-2-2-2zM9 17H7v-7h2v7zm4 0h-2V7h2v10zm4 0h-2v-4h2v4z\"/>\n",
       "    </g>\n",
       "</svg>\n",
       "  </button>\n",
       "\n",
       "<style>\n",
       "  .colab-df-quickchart {\n",
       "      --bg-color: #E8F0FE;\n",
       "      --fill-color: #1967D2;\n",
       "      --hover-bg-color: #E2EBFA;\n",
       "      --hover-fill-color: #174EA6;\n",
       "      --disabled-fill-color: #AAA;\n",
       "      --disabled-bg-color: #DDD;\n",
       "  }\n",
       "\n",
       "  [theme=dark] .colab-df-quickchart {\n",
       "      --bg-color: #3B4455;\n",
       "      --fill-color: #D2E3FC;\n",
       "      --hover-bg-color: #434B5C;\n",
       "      --hover-fill-color: #FFFFFF;\n",
       "      --disabled-bg-color: #3B4455;\n",
       "      --disabled-fill-color: #666;\n",
       "  }\n",
       "\n",
       "  .colab-df-quickchart {\n",
       "    background-color: var(--bg-color);\n",
       "    border: none;\n",
       "    border-radius: 50%;\n",
       "    cursor: pointer;\n",
       "    display: none;\n",
       "    fill: var(--fill-color);\n",
       "    height: 32px;\n",
       "    padding: 0;\n",
       "    width: 32px;\n",
       "  }\n",
       "\n",
       "  .colab-df-quickchart:hover {\n",
       "    background-color: var(--hover-bg-color);\n",
       "    box-shadow: 0 1px 2px rgba(60, 64, 67, 0.3), 0 1px 3px 1px rgba(60, 64, 67, 0.15);\n",
       "    fill: var(--button-hover-fill-color);\n",
       "  }\n",
       "\n",
       "  .colab-df-quickchart-complete:disabled,\n",
       "  .colab-df-quickchart-complete:disabled:hover {\n",
       "    background-color: var(--disabled-bg-color);\n",
       "    fill: var(--disabled-fill-color);\n",
       "    box-shadow: none;\n",
       "  }\n",
       "\n",
       "  .colab-df-spinner {\n",
       "    border: 2px solid var(--fill-color);\n",
       "    border-color: transparent;\n",
       "    border-bottom-color: var(--fill-color);\n",
       "    animation:\n",
       "      spin 1s steps(1) infinite;\n",
       "  }\n",
       "\n",
       "  @keyframes spin {\n",
       "    0% {\n",
       "      border-color: transparent;\n",
       "      border-bottom-color: var(--fill-color);\n",
       "      border-left-color: var(--fill-color);\n",
       "    }\n",
       "    20% {\n",
       "      border-color: transparent;\n",
       "      border-left-color: var(--fill-color);\n",
       "      border-top-color: var(--fill-color);\n",
       "    }\n",
       "    30% {\n",
       "      border-color: transparent;\n",
       "      border-left-color: var(--fill-color);\n",
       "      border-top-color: var(--fill-color);\n",
       "      border-right-color: var(--fill-color);\n",
       "    }\n",
       "    40% {\n",
       "      border-color: transparent;\n",
       "      border-right-color: var(--fill-color);\n",
       "      border-top-color: var(--fill-color);\n",
       "    }\n",
       "    60% {\n",
       "      border-color: transparent;\n",
       "      border-right-color: var(--fill-color);\n",
       "    }\n",
       "    80% {\n",
       "      border-color: transparent;\n",
       "      border-right-color: var(--fill-color);\n",
       "      border-bottom-color: var(--fill-color);\n",
       "    }\n",
       "    90% {\n",
       "      border-color: transparent;\n",
       "      border-bottom-color: var(--fill-color);\n",
       "    }\n",
       "  }\n",
       "</style>\n",
       "\n",
       "  <script>\n",
       "    async function quickchart(key) {\n",
       "      const quickchartButtonEl =\n",
       "        document.querySelector('#' + key + ' button');\n",
       "      quickchartButtonEl.disabled = true;  // To prevent multiple clicks.\n",
       "      quickchartButtonEl.classList.add('colab-df-spinner');\n",
       "      try {\n",
       "        const charts = await google.colab.kernel.invokeFunction(\n",
       "            'suggestCharts', [key], {});\n",
       "      } catch (error) {\n",
       "        console.error('Error during call to suggestCharts:', error);\n",
       "      }\n",
       "      quickchartButtonEl.classList.remove('colab-df-spinner');\n",
       "      quickchartButtonEl.classList.add('colab-df-quickchart-complete');\n",
       "    }\n",
       "    (() => {\n",
       "      let quickchartButtonEl =\n",
       "        document.querySelector('#df-b2a225f9-f07b-44b1-82f4-c49f1d286ef6 button');\n",
       "      quickchartButtonEl.style.display =\n",
       "        google.colab.kernel.accessAllowed ? 'block' : 'none';\n",
       "    })();\n",
       "  </script>\n",
       "</div>\n",
       "\n",
       "    </div>\n",
       "  </div>\n"
      ],
      "text/plain": [
       "   year   make                model        trim   body  transmission  \\\n",
       "0  2015    Kia              Sorento          LX    SUV             1   \n",
       "1  2015    Kia              Sorento          LX    SUV             1   \n",
       "2  2014    BMW             3 Series  328i SULEV  Sedan             1   \n",
       "3  2015  Volvo                  S60          T5  Sedan             1   \n",
       "4  2014    BMW  6 Series Gran Coupe        650i  Sedan             1   \n",
       "\n",
       "  vehicle identification number state  condition  odometer  color interior  \\\n",
       "0             5xyktca69fg566472    CA        5.0   16639.0  white    black   \n",
       "1             5xyktca69fg561319    CA        5.0    9393.0  white    beige   \n",
       "2             wba3c1c51ek116351    CA       45.0    1331.0   gray    black   \n",
       "3             yv1612tb4f1310987    CA       41.0   14282.0  white    black   \n",
       "4             wba6b2c57ed129731    CA       43.0    2641.0   gray    black   \n",
       "\n",
       "                                   seller  market_reference_price  \\\n",
       "0                 kia motors america  inc                 20500.0   \n",
       "1                 kia motors america  inc                 20800.0   \n",
       "2  financial services remarketing (lease)                 31900.0   \n",
       "3                 volvo na rep/world omni                 27500.0   \n",
       "4  financial services remarketing (lease)                 66000.0   \n",
       "\n",
       "   sellingprice sale_date_clean  \n",
       "0       21500.0    Dec 16 2014   \n",
       "1       21500.0    Dec 16 2014   \n",
       "2       30000.0    Jan 15 2015   \n",
       "3       27750.0    Jan 29 2015   \n",
       "4       67000.0    Dec 18 2014   "
      ]
     },
     "execution_count": 15,
     "metadata": {},
     "output_type": "execute_result"
    }
   ],
   "source": [
    "Q1 = df['odometer'].quantile(0.25)\n",
    "Q3 = df['odometer'].quantile(0.75)\n",
    "IQR = Q3 - Q1\n",
    "outliers = df[(df['odometer'] < (Q1 - 1.5 * IQR)) | (df['odometer'] > (Q3 + 1.5 * IQR))]\n",
    "df = df[~((df['odometer'] < (Q1 - 1.5 * IQR)) | (df['odometer'] > (Q3 + 1.5 * IQR)))]\n",
    "df.head()"
   ]
  },
  {
   "cell_type": "markdown",
   "metadata": {
    "id": "EunojvZT7UyZ"
   },
   "source": [
    "EXPLOATORY DATA ANALYSIS"
   ]
  },
  {
   "cell_type": "markdown",
   "metadata": {
    "id": "IWQF2qud8woO"
   },
   "source": [
    " Distribution of Manufacture"
   ]
  },
  {
   "cell_type": "code",
   "execution_count": 16,
   "metadata": {
    "colab": {
     "base_uri": "https://localhost:8080/",
     "height": 481
    },
    "id": "5Xhx-7HH6yMp",
    "outputId": "3c67a6ad-4b47-40e4-aba8-d7ec3f0c5b46"
   },
   "outputs": [
    {
     "data": {
      "text/plain": [
       "<Axes: title={'center': 'Top 10 Vehicle Makes'}, xlabel='make'>"
      ]
     },
     "execution_count": 16,
     "metadata": {},
     "output_type": "execute_result"
    },
    {
     "data": {
      "image/png": "[encoded data removed]",
      "text/plain": [
       "<Figure size 1500x400 with 1 Axes>"
      ]
     },
     "metadata": {},
     "output_type": "display_data"
    }
   ],
   "source": [
    "#1 Distribution of Manufacture\n",
    "import matplotlib.pyplot as plt\n",
    "manufacture_distribution = df['make'].value_counts().head(10)\n",
    "plt.figure(figsize=(15, 4))\n",
    "plt.subplot(1, 3, 1)\n",
    "manufacture_distribution.plot(kind='bar', title='Top 10 Vehicle Makes')"
   ]
  },
  {
   "cell_type": "markdown",
   "metadata": {
    "id": "LRK2JKVt8uNd"
   },
   "source": [
    "Price Distribution"
   ]
  },
  {
   "cell_type": "code",
   "execution_count": 17,
   "metadata": {
    "colab": {
     "base_uri": "https://localhost:8080/",
     "height": 582
    },
    "id": "jfFCvLgl7sw5",
    "outputId": "0d7ce247-f151-4ade-c497-82a8491187d8"
   },
   "outputs": [
    {
     "data": {
      "text/plain": [
       "Text(0, 0.5, 'Frequency')"
      ]
     },
     "execution_count": 17,
     "metadata": {},
     "output_type": "execute_result"
    },
    {
     "data": {
      "image/png": "[encoded data removed]",
      "text/plain": [
       "<Figure size 1000x600 with 1 Axes>"
      ]
     },
     "metadata": {},
     "output_type": "display_data"
    }
   ],
   "source": [
    "#2 Price Distribution\n",
    "plt.figure(figsize=(10, 6))\n",
    "sns.histplot(df['sellingprice'], kde=True)\n",
    "plt.title('Distribution of Selling Prices')\n",
    "plt.xlabel('Selling Price')\n",
    "plt.ylabel('Frequency')"
   ]
  },
  {
   "cell_type": "markdown",
   "metadata": {
    "id": "47hAJ0SA8q3s"
   },
   "source": [
    "Year of Manufacture vs. Selling Price"
   ]
  },
  {
   "cell_type": "code",
   "execution_count": 18,
   "metadata": {
    "colab": {
     "base_uri": "https://localhost:8080/",
     "height": 582
    },
    "id": "Lr2IrQc97x6C",
    "outputId": "ef5d9c65-12b5-4326-dd98-5eae97ad47ab"
   },
   "outputs": [
    {
     "data": {
      "text/plain": [
       "Text(0.5, 1.0, 'Year of Manufacture vs. Selling Price')"
      ]
     },
     "execution_count": 18,
     "metadata": {},
     "output_type": "execute_result"
    },
    {
     "data": {
      "image/png": "[encoded data removed]",
      "text/plain": [
       "<Figure size 1000x600 with 1 Axes>"
      ]
     },
     "metadata": {},
     "output_type": "display_data"
    }
   ],
   "source": [
    "# 3 Year of Manufacture vs. Selling Price\n",
    "plt.figure(figsize=(10, 6))\n",
    "sns.scatterplot(x='year', y='sellingprice', data=df, alpha=0.5)\n",
    "plt.title('Year of Manufacture vs. Selling Price')"
   ]
  },
  {
   "cell_type": "markdown",
   "metadata": {
    "id": "jrGW03QP8y36"
   },
   "source": [
    "Top 10 Models by Average Selling Price"
   ]
  },
  {
   "cell_type": "code",
   "execution_count": 20,
   "metadata": {
    "colab": {
     "base_uri": "https://localhost:8080/",
     "height": 582
    },
    "id": "GCq59hb_75i3",
    "outputId": "20d8f652-e41b-446f-ab9b-733f0cbc0260"
   },
   "outputs": [
    {
     "data": {
      "text/plain": [
       "Text(0.5, 0, 'Average Selling Price')"
      ]
     },
     "execution_count": 20,
     "metadata": {},
     "output_type": "execute_result"
    },
    {
     "data": {
      "image/png": "[encoded data removed]",
      "text/plain": [
       "<Figure size 1000x600 with 1 Axes>"
      ]
     },
     "metadata": {},
     "output_type": "display_data"
    }
   ],
   "source": [
    "#4  Top 10 Models by Average Selling Price\n",
    "topmodels = df.groupby('model')['sellingprice'].mean().sort_values(ascending=False).head(10)\n",
    "plt.figure(figsize=(10, 6))\n",
    "topmodels.plot(kind='barh', color='red')\n",
    "plt.title('Top 10 Models by Average Selling Price')\n",
    "plt.xlabel('Average Selling Price')"
   ]
  },
  {
   "cell_type": "markdown",
   "metadata": {
    "id": "qK5aMGfi82wr"
   },
   "source": [
    "Seller Analysis"
   ]
  },
  {
   "cell_type": "code",
   "execution_count": 21,
   "metadata": {
    "colab": {
     "base_uri": "https://localhost:8080/",
     "height": 959
    },
    "id": "3wYdghuX7_mE",
    "outputId": "86635240-141e-42d8-8c65-05cb72e4c051"
   },
   "outputs": [
    {
     "data": {
      "text/plain": [
       "Text(0, 0.5, 'Average Selling Price')"
      ]
     },
     "execution_count": 21,
     "metadata": {},
     "output_type": "execute_result"
    },
    {
     "data": {
      "image/png": "[encoded data removed]",
      "text/plain": [
       "<Figure size 1200x800 with 1 Axes>"
      ]
     },
     "metadata": {},
     "output_type": "display_data"
    }
   ],
   "source": [
    "#5 Seller Analysis\n",
    "# Limiting the analysis to the top 10 sellers by volume for clarity\n",
    "sellers = df['seller'].value_counts().head(10).index\n",
    "top_sellers = df[df['seller'].isin(sellers)]\n",
    "avg_price = top_sellers.groupby('seller')['sellingprice'].mean().sort_values(ascending=False)\n",
    "\n",
    "plt.figure(figsize=(12, 8))\n",
    "avg_price.plot(kind='bar', color='teal')\n",
    "plt.title('Average Selling Price by Top 10 Sellers')\n",
    "plt.ylabel('Average Selling Price')"
   ]
  },
  {
   "cell_type": "markdown",
   "metadata": {
    "id": "P3HMJH7n8Gvz"
   },
   "source": [
    "MODEL TRAINING"
   ]
  },
  {
   "cell_type": "code",
   "execution_count": 22,
   "metadata": {
    "id": "OKH-Gmij8DCb"
   },
   "outputs": [],
   "source": [
    "from sklearn.preprocessing import LabelEncoder\n",
    "\n",
    "encoder = LabelEncoder()\n",
    "df['make'] = encoder.fit_transform(df['make'])\n",
    "df['model'] = encoder.fit_transform(df['model'])\n",
    "df['trim'] = encoder.fit_transform(df['trim'])\n",
    "df['body'] = encoder.fit_transform(df['body'])\n",
    "df['vehicle identification number'] = encoder.fit_transform(df['vehicle identification number'])\n",
    "df['state'] = encoder.fit_transform(df['state'])\n",
    "df['color'] = encoder.fit_transform(df['color'])\n",
    "df['interior'] = encoder.fit_transform(df['interior'])\n",
    "df['seller'] = encoder.fit_transform(df['seller'])\n",
    "df['sale_date_clean'] = encoder.fit_transform(df['sale_date_clean'])"
   ]
  },
  {
   "cell_type": "markdown",
   "metadata": {
    "id": "rcTCRN6d8QnK"
   },
   "source": [
    "TRAIN TEST SPLIT"
   ]
  },
  {
   "cell_type": "code",
   "execution_count": 23,
   "metadata": {
    "id": "VvMFaugM8L3N"
   },
   "outputs": [],
   "source": [
    "from sklearn.model_selection import train_test_split\n",
    "\n",
    "# Separate features and target\n",
    "features = df.drop(\"sellingprice\", axis=1)\n",
    "target = df[\"sellingprice\"]\n",
    "\n",
    "# Split the data into train and test sets\n",
    "X_train, X_test, y_train, y_test = train_test_split(features, target, test_size=0.1, random_state=42)\n"
   ]
  },
  {
   "cell_type": "markdown",
   "metadata": {
    "id": "yW0-26au9v3x"
   },
   "source": [
    "BASELINE ALGORITMS :\n",
    "\n",
    "1. Linear Regresssion\n",
    "2. Decision Tree Regressor\n",
    "3. XG BOOST"
   ]
  },
  {
   "cell_type": "code",
   "execution_count": 25,
   "metadata": {
    "colab": {
     "base_uri": "https://localhost:8080/"
    },
    "collapsed": true,
    "id": "l-IZBWxV8Sq4",
    "outputId": "1614ea49-071d-4506-8472-f7e3dbe8b77f"
   },
   "outputs": [
    {
     "name": "stdout",
     "output_type": "stream",
     "text": [
      "Linear Regression Evaluation:\n",
      "Mean Squared Error: 2640062.0558433314\n",
      "Mean Absolute Error: 1045.6789825391363\n",
      "R-squared: 0.9697942997683117\n",
      "--------------------\n",
      "Decision Tree Regression Evaluation:\n",
      "Mean Squared Error: 4425812.9063238995\n",
      "Mean Absolute Error: 1366.6211762910978\n",
      "R-squared: 0.9493630168146735\n",
      "--------------------\n",
      "XGBoost Regression Evaluation:\n",
      "Mean Squared Error: 2370479.427263162\n",
      "Mean Absolute Error: 912.1276477946416\n",
      "R-squared: 0.9728786712316794\n",
      "--------------------\n"
     ]
    }
   ],
   "source": [
    "\n",
    "from sklearn.linear_model import LinearRegression\n",
    "from sklearn.tree import DecisionTreeRegressor\n",
    "from sklearn.metrics import mean_squared_error, mean_absolute_error, r2_score\n",
    "import xgboost as xgb\n",
    "\n",
    "# Initialize and train the models\n",
    "linear_model = LinearRegression()\n",
    "linear_model.fit(X_train, y_train)\n",
    "\n",
    "tree_model = DecisionTreeRegressor()\n",
    "tree_model.fit(X_train, y_train)\n",
    "\n",
    "xgb_model = xgb.XGBRegressor()\n",
    "xgb_model.fit(X_train, y_train)\n",
    "\n",
    "# Make predictions\n",
    "linear_predictions = linear_model.predict(X_test)\n",
    "tree_predictions = tree_model.predict(X_test)\n",
    "xgb_predictions = xgb_model.predict(X_test)\n",
    "\n",
    "# Evaluate the models\n",
    "def evaluate_model(y_true, y_pred, model_name):\n",
    "    mse = mean_squared_error(y_true, y_pred)\n",
    "    mae = mean_absolute_error(y_true, y_pred)\n",
    "    r2 = r2_score(y_true, y_pred)\n",
    "    print(f\"{model_name} Evaluation:\")\n",
    "    print(f\"Mean Squared Error: {mse}\")\n",
    "    print(f\"Mean Absolute Error: {mae}\")\n",
    "    print(f\"R-squared: {r2}\")\n",
    "    print(\"-\" * 20)\n",
    "\n",
    "evaluate_model(y_test, linear_predictions, \"Linear Regression\")\n",
    "evaluate_model(y_test, tree_predictions, \"Decision Tree Regression\")\n",
    "evaluate_model(y_test, xgb_predictions, \"XGBoost Regression\")"
   ]
  },
  {
   "cell_type": "markdown",
   "metadata": {
    "id": "EAfL9riKDpN-"
   },
   "source": [
    "### **Analysis of Model Performance**\n",
    "\n",
    "#### **1. Linear Regression**  \n",
    "\n",
    "✅ **Performs well but may be underfitting complex patterns** since it assumes a linear relationship between features and target values.  \n",
    "\n",
    "#### **2. Decision Tree Regression**  \n",
    "\n",
    "- **Worst performer in this comparison.**  \n",
    "- High **MSE & MAE** indicate it’s **overfitting** (too complex).  \n",
    "- **Decision trees tend to have high variance**, meaning they don’t generalize well.  \n",
    "\n",
    "#### **3. XGBoost Regression (Best Model)**  \n",
    "\n",
    "- **Best performing model** with the lowest error and highest R².  \n",
    "- Captures non-linearity well, reducing prediction errors compared to Linear Regression.  \n",
    "- **Better generalization than Decision Trees** due to boosting.  \n",
    "\n",
    "---\n",
    "\n",
    "### **Key Takeaways**\n",
    "1. **XGBoost is the best model** based on R² (0.9729), lowest **MSE**, and **MAE**.  \n",
    "2. **Linear Regression performs reasonably well**, meaning the dataset might not have too many non-linear relationships.  \n",
    "3. **Decision Tree is overfitting**, making it less reliable.  \n",
    "\n"
   ]
  },
  {
   "cell_type": "markdown",
   "metadata": {
    "id": "q3RHUfYOVsLW"
   },
   "source": [
    "                    **Modified Approaches:**\n",
    "\n",
    "**Linear Regression Models**\n",
    "\n",
    "**Modified 1**: Ridge Regression (L2 Regularization)\n",
    "\n",
    "**Modified 2:** Lasso Regression (L1 Regularization)\n",
    "\n",
    "**Tree-Based Models**\n",
    "\n",
    "**Modified 1:** Random Forest Regressor\n",
    "\n",
    "**Modified 2:** LightGBM Regressor\n",
    "\n",
    "**Boosting-Based Models**\n",
    "\n",
    "**Modified 1:** XGBoost Regressor\n",
    "\n",
    "**Modified 2:** CatBoost Regressor\n"
   ]
  },
  {
   "cell_type": "markdown",
   "metadata": {
    "id": "PfJtobkuVyzu"
   },
   "source": [
    "**Modified Algorithm 1: Ridge Regression with Optuna**\n",
    "\n"
   ]
  },
  {
   "cell_type": "code",
   "execution_count": 26,
   "metadata": {
    "colab": {
     "base_uri": "https://localhost:8080/"
    },
    "collapsed": true,
    "id": "V5xgDEExV2co",
    "outputId": "e779682c-8320-45f7-9e14-2248f7666021"
   },
   "outputs": [
    {
     "name": "stdout",
     "output_type": "stream",
     "text": [
      "Collecting optuna\n",
      "  Downloading optuna-4.2.1-py3-none-any.whl.metadata (17 kB)\n",
      "Collecting alembic>=1.5.0 (from optuna)\n",
      "  Downloading alembic-1.14.1-py3-none-any.whl.metadata (7.4 kB)\n",
      "Collecting colorlog (from optuna)\n",
      "  Downloading colorlog-6.9.0-py3-none-any.whl.metadata (10 kB)\n",
      "Requirement already satisfied: numpy in /usr/local/lib/python3.11/dist-packages (from optuna) (1.26.4)\n",
      "Requirement already satisfied: packaging>=20.0 in /usr/local/lib/python3.11/dist-packages (from optuna) (24.2)\n",
      "Requirement already satisfied: sqlalchemy>=1.4.2 in /usr/local/lib/python3.11/dist-packages (from optuna) (2.0.38)\n",
      "Requirement already satisfied: tqdm in /usr/local/lib/python3.11/dist-packages (from optuna) (4.67.1)\n",
      "Requirement already satisfied: PyYAML in /usr/local/lib/python3.11/dist-packages (from optuna) (6.0.2)\n",
      "Collecting Mako (from alembic>=1.5.0->optuna)\n",
      "  Downloading Mako-1.3.9-py3-none-any.whl.metadata (2.9 kB)\n",
      "Requirement already satisfied: typing-extensions>=4 in /usr/local/lib/python3.11/dist-packages (from alembic>=1.5.0->optuna) (4.12.2)\n",
      "Requirement already satisfied: greenlet!=0.4.17 in /usr/local/lib/python3.11/dist-packages (from sqlalchemy>=1.4.2->optuna) (3.1.1)\n",
      "Requirement already satisfied: MarkupSafe>=0.9.2 in /usr/local/lib/python3.11/dist-packages (from Mako->alembic>=1.5.0->optuna) (3.0.2)\n",
      "Downloading optuna-4.2.1-py3-none-any.whl (383 kB)\n",
      "\u001b[2K   \u001b[90m━━━━━━━━━━━━━━━━━━━━━━━━━━━━━━━━━━━━━━━━\u001b[0m \u001b[32m383.6/383.6 kB\u001b[0m \u001b[31m13.9 MB/s\u001b[0m eta \u001b[36m0:00:00\u001b[0m\n",
      "\u001b[?25hDownloading alembic-1.14.1-py3-none-any.whl (233 kB)\n",
      "\u001b[2K   \u001b[90m━━━━━━━━━━━━━━━━━━━━━━━━━━━━━━━━━━━━━━━━\u001b[0m \u001b[32m233.6/233.6 kB\u001b[0m \u001b[31m21.0 MB/s\u001b[0m eta \u001b[36m0:00:00\u001b[0m\n",
      "\u001b[?25hDownloading colorlog-6.9.0-py3-none-any.whl (11 kB)\n",
      "Downloading Mako-1.3.9-py3-none-any.whl (78 kB)\n",
      "\u001b[2K   \u001b[90m━━━━━━━━━━━━━━━━━━━━━━━━━━━━━━━━━━━━━━━━\u001b[0m \u001b[32m78.5/78.5 kB\u001b[0m \u001b[31m8.6 MB/s\u001b[0m eta \u001b[36m0:00:00\u001b[0m\n",
      "\u001b[?25hInstalling collected packages: Mako, colorlog, alembic, optuna\n",
      "Successfully installed Mako-1.3.9 alembic-1.14.1 colorlog-6.9.0 optuna-4.2.1\n"
     ]
    }
   ],
   "source": [
    "!pip install optuna"
   ]
  },
  {
   "cell_type": "code",
   "execution_count": 40,
   "metadata": {
    "colab": {
     "base_uri": "https://localhost:8080/"
    },
    "id": "5oF1jRWLHTdv",
    "outputId": "68e911fd-d3ef-46a6-b191-d79610dcc90f"
   },
   "outputs": [
    {
     "name": "stderr",
     "output_type": "stream",
     "text": [
      "[I 2025-02-20 06:55:14,229] A new study created in memory with name: no-name-65c7c787-7e47-4f79-91b2-2671e2e0ae69\n",
      "<ipython-input-40-b26da9478331>:7: FutureWarning: suggest_loguniform has been deprecated in v3.0.0. This feature will be removed in v6.0.0. See https://github.com/optuna/optuna/releases/tag/v3.0.0. Use suggest_float(..., log=True) instead.\n",
      "  alpha = trial.suggest_loguniform(\"alpha\", 1e-3, 10.0)\n",
      "[I 2025-02-20 06:55:14,256] Trial 0 finished with value: 2640061.840143147 and parameters: {'alpha': 4.729214901967339}. Best is trial 0 with value: 2640061.840143147.\n",
      "<ipython-input-40-b26da9478331>:7: FutureWarning: suggest_loguniform has been deprecated in v3.0.0. This feature will be removed in v6.0.0. See https://github.com/optuna/optuna/releases/tag/v3.0.0. Use suggest_float(..., log=True) instead.\n",
      "  alpha = trial.suggest_loguniform(\"alpha\", 1e-3, 10.0)\n",
      "[I 2025-02-20 06:55:14,281] Trial 1 finished with value: 2640062.055765912 and parameters: {'alpha': 0.0016734867537759055}. Best is trial 0 with value: 2640061.840143147.\n",
      "<ipython-input-40-b26da9478331>:7: FutureWarning: suggest_loguniform has been deprecated in v3.0.0. This feature will be removed in v6.0.0. See https://github.com/optuna/optuna/releases/tag/v3.0.0. Use suggest_float(..., log=True) instead.\n",
      "  alpha = trial.suggest_loguniform(\"alpha\", 1e-3, 10.0)\n",
      "[I 2025-02-20 06:55:14,306] Trial 2 finished with value: 2640062.03837028 and parameters: {'alpha': 0.378148064284098}. Best is trial 0 with value: 2640061.840143147.\n",
      "<ipython-input-40-b26da9478331>:7: FutureWarning: suggest_loguniform has been deprecated in v3.0.0. This feature will be removed in v6.0.0. See https://github.com/optuna/optuna/releases/tag/v3.0.0. Use suggest_float(..., log=True) instead.\n",
      "  alpha = trial.suggest_loguniform(\"alpha\", 1e-3, 10.0)\n",
      "[I 2025-02-20 06:55:14,331] Trial 3 finished with value: 2640062.0553339906 and parameters: {'alpha': 0.011010900896735678}. Best is trial 0 with value: 2640061.840143147.\n",
      "<ipython-input-40-b26da9478331>:7: FutureWarning: suggest_loguniform has been deprecated in v3.0.0. This feature will be removed in v6.0.0. See https://github.com/optuna/optuna/releases/tag/v3.0.0. Use suggest_float(..., log=True) instead.\n",
      "  alpha = trial.suggest_loguniform(\"alpha\", 1e-3, 10.0)\n",
      "[I 2025-02-20 06:55:14,356] Trial 4 finished with value: 2640062.055358179 and parameters: {'alpha': 0.010487946702507047}. Best is trial 0 with value: 2640061.840143147.\n",
      "<ipython-input-40-b26da9478331>:7: FutureWarning: suggest_loguniform has been deprecated in v3.0.0. This feature will be removed in v6.0.0. See https://github.com/optuna/optuna/releases/tag/v3.0.0. Use suggest_float(..., log=True) instead.\n",
      "  alpha = trial.suggest_loguniform(\"alpha\", 1e-3, 10.0)\n",
      "[I 2025-02-20 06:55:14,382] Trial 5 finished with value: 2640062.0467694276 and parameters: {'alpha': 0.19626926127622735}. Best is trial 0 with value: 2640061.840143147.\n",
      "<ipython-input-40-b26da9478331>:7: FutureWarning: suggest_loguniform has been deprecated in v3.0.0. This feature will be removed in v6.0.0. See https://github.com/optuna/optuna/releases/tag/v3.0.0. Use suggest_float(..., log=True) instead.\n",
      "  alpha = trial.suggest_loguniform(\"alpha\", 1e-3, 10.0)\n",
      "[I 2025-02-20 06:55:14,407] Trial 6 finished with value: 2640062.0532754487 and parameters: {'alpha': 0.05552017788350616}. Best is trial 0 with value: 2640061.840143147.\n",
      "<ipython-input-40-b26da9478331>:7: FutureWarning: suggest_loguniform has been deprecated in v3.0.0. This feature will be removed in v6.0.0. See https://github.com/optuna/optuna/releases/tag/v3.0.0. Use suggest_float(..., log=True) instead.\n",
      "  alpha = trial.suggest_loguniform(\"alpha\", 1e-3, 10.0)\n",
      "[I 2025-02-20 06:55:14,435] Trial 7 finished with value: 2640062.0547107374 and parameters: {'alpha': 0.02448547567170172}. Best is trial 0 with value: 2640061.840143147.\n"
     ]
    },
    {
     "name": "stdout",
     "output_type": "stream",
     "text": [
      "Trial 0: MSE=2640061.840143147, MAE=1045.6784314453, R²=0.9697943022361988\n",
      "Trial 1: MSE=2640062.055765912, MAE=1045.678982343766, R²=0.9697942997691974\n",
      "Trial 2: MSE=2640062.03837028, MAE=1045.6789383965947, R²=0.9697942999682257\n",
      "Trial 3: MSE=2640062.0553339906, MAE=1045.6789812536763, R²=0.9697942997741391\n",
      "Trial 4: MSE=2640062.055358179, MAE=1045.6789813147277, R²=0.9697942997738624\n",
      "Trial 5: MSE=2640062.0467694276, MAE=1045.6789596268854, R²=0.9697942998721287\n",
      "Trial 6: MSE=2640062.0532754487, MAE=1045.678976057543, R²=0.9697942997976915\n",
      "Trial 7: MSE=2640062.0547107374, MAE=1045.678979680606, R²=0.96979429978127\n"
     ]
    },
    {
     "name": "stderr",
     "output_type": "stream",
     "text": [
      "<ipython-input-40-b26da9478331>:7: FutureWarning: suggest_loguniform has been deprecated in v3.0.0. This feature will be removed in v6.0.0. See https://github.com/optuna/optuna/releases/tag/v3.0.0. Use suggest_float(..., log=True) instead.\n",
      "  alpha = trial.suggest_loguniform(\"alpha\", 1e-3, 10.0)\n",
      "[I 2025-02-20 06:55:14,466] Trial 8 finished with value: 2640062.041218622 and parameters: {'alpha': 0.31644675952225065}. Best is trial 0 with value: 2640061.840143147.\n",
      "<ipython-input-40-b26da9478331>:7: FutureWarning: suggest_loguniform has been deprecated in v3.0.0. This feature will be removed in v6.0.0. See https://github.com/optuna/optuna/releases/tag/v3.0.0. Use suggest_float(..., log=True) instead.\n",
      "  alpha = trial.suggest_loguniform(\"alpha\", 1e-3, 10.0)\n",
      "[I 2025-02-20 06:55:14,497] Trial 9 finished with value: 2640062.053553938 and parameters: {'alpha': 0.04949806434778098}. Best is trial 0 with value: 2640061.840143147.\n",
      "<ipython-input-40-b26da9478331>:7: FutureWarning: suggest_loguniform has been deprecated in v3.0.0. This feature will be removed in v6.0.0. See https://github.com/optuna/optuna/releases/tag/v3.0.0. Use suggest_float(..., log=True) instead.\n",
      "  alpha = trial.suggest_loguniform(\"alpha\", 1e-3, 10.0)\n",
      "[I 2025-02-20 06:55:14,532] Trial 10 finished with value: 2640061.652000863 and parameters: {'alpha': 8.968052258032243}. Best is trial 10 with value: 2640061.652000863.\n",
      "<ipython-input-40-b26da9478331>:7: FutureWarning: suggest_loguniform has been deprecated in v3.0.0. This feature will be removed in v6.0.0. See https://github.com/optuna/optuna/releases/tag/v3.0.0. Use suggest_float(..., log=True) instead.\n",
      "  alpha = trial.suggest_loguniform(\"alpha\", 1e-3, 10.0)\n",
      "[I 2025-02-20 06:55:14,564] Trial 11 finished with value: 2640061.6093839216 and parameters: {'alpha': 9.94378987086682}. Best is trial 11 with value: 2640061.6093839216.\n",
      "<ipython-input-40-b26da9478331>:7: FutureWarning: suggest_loguniform has been deprecated in v3.0.0. This feature will be removed in v6.0.0. See https://github.com/optuna/optuna/releases/tag/v3.0.0. Use suggest_float(..., log=True) instead.\n",
      "  alpha = trial.suggest_loguniform(\"alpha\", 1e-3, 10.0)\n",
      "[I 2025-02-20 06:55:14,598] Trial 12 finished with value: 2640061.6567261117 and parameters: {'alpha': 8.860227993682324}. Best is trial 11 with value: 2640061.6093839216.\n",
      "<ipython-input-40-b26da9478331>:7: FutureWarning: suggest_loguniform has been deprecated in v3.0.0. This feature will be removed in v6.0.0. See https://github.com/optuna/optuna/releases/tag/v3.0.0. Use suggest_float(..., log=True) instead.\n",
      "  alpha = trial.suggest_loguniform(\"alpha\", 1e-3, 10.0)\n",
      "[I 2025-02-20 06:55:14,631] Trial 13 finished with value: 2640061.965296154 and parameters: {'alpha': 1.9689123641112936}. Best is trial 11 with value: 2640061.6093839216.\n",
      "<ipython-input-40-b26da9478331>:7: FutureWarning: suggest_loguniform has been deprecated in v3.0.0. This feature will be removed in v6.0.0. See https://github.com/optuna/optuna/releases/tag/v3.0.0. Use suggest_float(..., log=True) instead.\n",
      "  alpha = trial.suggest_loguniform(\"alpha\", 1e-3, 10.0)\n",
      "[I 2025-02-20 06:55:14,663] Trial 14 finished with value: 2640061.9926492563 and parameters: {'alpha': 1.371684818853649}. Best is trial 11 with value: 2640061.6093839216.\n"
     ]
    },
    {
     "name": "stdout",
     "output_type": "stream",
     "text": [
      "Trial 8: MSE=2640062.041218622, MAE=1045.6789455986252, R²=0.969794299935637\n",
      "Trial 9: MSE=2640062.053553938, MAE=1045.678976760574, R²=0.9697942997945053\n",
      "Trial 10: MSE=2640061.652000863, MAE=1045.677938929882, R²=0.9697943043887881\n",
      "Trial 11: MSE=2640061.6093839216, MAE=1045.6778257073056, R²=0.9697943048763806\n",
      "Trial 12: MSE=2640061.6567261117, MAE=1045.6779514450163, R²=0.9697943043347251\n",
      "Trial 13: MSE=2640061.965296154, MAE=1045.6787527937556, R²=0.9697943008042876\n",
      "Trial 14: MSE=2640061.9926492563, MAE=1045.678822457894, R²=0.969794300491333\n"
     ]
    },
    {
     "name": "stderr",
     "output_type": "stream",
     "text": [
      "<ipython-input-40-b26da9478331>:7: FutureWarning: suggest_loguniform has been deprecated in v3.0.0. This feature will be removed in v6.0.0. See https://github.com/optuna/optuna/releases/tag/v3.0.0. Use suggest_float(..., log=True) instead.\n",
      "  alpha = trial.suggest_loguniform(\"alpha\", 1e-3, 10.0)\n",
      "[I 2025-02-20 06:55:14,697] Trial 15 finished with value: 2640061.98437421 and parameters: {'alpha': 1.5521368980411316}. Best is trial 11 with value: 2640061.6093839216.\n",
      "<ipython-input-40-b26da9478331>:7: FutureWarning: suggest_loguniform has been deprecated in v3.0.0. This feature will be removed in v6.0.0. See https://github.com/optuna/optuna/releases/tag/v3.0.0. Use suggest_float(..., log=True) instead.\n",
      "  alpha = trial.suggest_loguniform(\"alpha\", 1e-3, 10.0)\n",
      "[I 2025-02-20 06:55:14,729] Trial 16 finished with value: 2640061.725458295 and parameters: {'alpha': 7.299911715181329}. Best is trial 11 with value: 2640061.6093839216.\n",
      "<ipython-input-40-b26da9478331>:7: FutureWarning: suggest_loguniform has been deprecated in v3.0.0. This feature will be removed in v6.0.0. See https://github.com/optuna/optuna/releases/tag/v3.0.0. Use suggest_float(..., log=True) instead.\n",
      "  alpha = trial.suggest_loguniform(\"alpha\", 1e-3, 10.0)\n",
      "[I 2025-02-20 06:55:14,761] Trial 17 finished with value: 2640062.0221599774 and parameters: {'alpha': 0.7297311454042233}. Best is trial 11 with value: 2640061.6093839216.\n",
      "<ipython-input-40-b26da9478331>:7: FutureWarning: suggest_loguniform has been deprecated in v3.0.0. This feature will be removed in v6.0.0. See https://github.com/optuna/optuna/releases/tag/v3.0.0. Use suggest_float(..., log=True) instead.\n",
      "  alpha = trial.suggest_loguniform(\"alpha\", 1e-3, 10.0)\n",
      "[I 2025-02-20 06:55:14,794] Trial 18 finished with value: 2640061.896206546 and parameters: {'alpha': 3.4870228517199844}. Best is trial 11 with value: 2640061.6093839216.\n",
      "<ipython-input-40-b26da9478331>:7: FutureWarning: suggest_loguniform has been deprecated in v3.0.0. This feature will be removed in v6.0.0. See https://github.com/optuna/optuna/releases/tag/v3.0.0. Use suggest_float(..., log=True) instead.\n",
      "  alpha = trial.suggest_loguniform(\"alpha\", 1e-3, 10.0)\n",
      "[I 2025-02-20 06:55:14,841] Trial 19 finished with value: 2640061.6165434374 and parameters: {'alpha': 9.779455010159198}. Best is trial 11 with value: 2640061.6093839216.\n"
     ]
    },
    {
     "name": "stdout",
     "output_type": "stream",
     "text": [
      "Trial 15: MSE=2640061.98437421, MAE=1045.6788014066783, R²=0.9697943005860101\n",
      "Trial 16: MSE=2640061.725458295, MAE=1045.678132626973, R²=0.9697943035483407\n",
      "Trial 17: MSE=2640062.0221599774, MAE=1045.6788973626662, R²=0.9697943001536925\n",
      "Trial 18: MSE=2640061.896206546, MAE=1045.6785759774205, R²=0.9697943015947614\n",
      "Trial 19: MSE=2640061.6165434374, MAE=1045.6778447724685, R²=0.9697943047944666\n",
      "Best Ridge Parameters: {'alpha': 9.94378987086682}\n",
      "Best Model Final Evaluation:\n",
      "Mean Squared Error: 2640061.6093839216\n",
      "Mean Absolute Error: 1045.6778257073056\n",
      "R-squared: 0.9697943048763806\n"
     ]
    }
   ],
   "source": [
    "import optuna\n",
    "from sklearn.linear_model import Ridge\n",
    "from sklearn.metrics import mean_squared_error, mean_absolute_error, r2_score\n",
    "\n",
    "def objective(trial):\n",
    "    # Suggesting alpha parameter using Optuna\n",
    "    alpha = trial.suggest_loguniform(\"alpha\", 1e-3, 10.0)\n",
    "\n",
    "    # Initialize the Ridge model with the suggested alpha\n",
    "    model = Ridge(alpha=alpha)\n",
    "    model.fit(X_train, y_train)\n",
    "    predictions = model.predict(X_test)\n",
    "\n",
    "    # Calculate the evaluation metrics\n",
    "    mse = mean_squared_error(y_test, predictions)\n",
    "    mae = mean_absolute_error(y_test, predictions)\n",
    "    r2 = r2_score(y_test, predictions)\n",
    "\n",
    "    # Print metrics for each trial (optional)\n",
    "    print(f\"Trial {trial.number}: MSE={mse}, MAE={mae}, R²={r2}\")\n",
    "\n",
    "    # Return MSE as the objective to minimize\n",
    "    return mse\n",
    "\n",
    "# Create an Optuna study to minimize the MSE\n",
    "study = optuna.create_study(direction=\"minimize\")\n",
    "study.optimize(objective, n_trials=20)\n",
    "\n",
    "# Print the best parameters found by Optuna\n",
    "print(\"Best Ridge Parameters:\", study.best_params)\n",
    "\n",
    "# After optimization, train the final model with the best parameters\n",
    "best_params = study.best_params\n",
    "best_model = Ridge(alpha=best_params[\"alpha\"])\n",
    "best_model.fit(X_train, y_train)\n",
    "best_predictions = best_model.predict(X_test)\n",
    "\n",
    "# Final evaluation of the best model\n",
    "final_mse = mean_squared_error(y_test, best_predictions)\n",
    "final_mae = mean_absolute_error(y_test, best_predictions)\n",
    "final_r2 = r2_score(y_test, best_predictions)\n",
    "\n",
    "# Print final model evaluation metrics\n",
    "print(f\"Best Model Final Evaluation:\")\n",
    "print(f\"Mean Squared Error: {final_mse}\")\n",
    "print(f\"Mean Absolute Error: {final_mae}\")\n",
    "print(f\"R-squared: {final_r2}\")\n"
   ]
  },
  {
   "cell_type": "markdown",
   "metadata": {
    "id": "Q7n2e5bgWDM0"
   },
   "source": [
    "Modified Algorithm #2: Lasso Regression with Optuna"
   ]
  },
  {
   "cell_type": "code",
   "execution_count": 41,
   "metadata": {
    "colab": {
     "base_uri": "https://localhost:8080/"
    },
    "id": "OLmopuSzMdFu",
    "outputId": "17db9d80-a871-4b42-df10-7cc5bcd76860"
   },
   "outputs": [
    {
     "name": "stderr",
     "output_type": "stream",
     "text": [
      "[I 2025-02-20 06:55:24,590] A new study created in memory with name: no-name-61fbd7aa-1413-43e7-8129-b279f571b478\n",
      "<ipython-input-41-2e94af504c96>:7: FutureWarning: suggest_loguniform has been deprecated in v3.0.0. This feature will be removed in v6.0.0. See https://github.com/optuna/optuna/releases/tag/v3.0.0. Use suggest_float(..., log=True) instead.\n",
      "  alpha = trial.suggest_loguniform(\"alpha\", 1e-3, 10.0)\n",
      "[I 2025-02-20 06:55:24,765] Trial 0 finished with value: 2640235.9387265085 and parameters: {'alpha': 2.4273472509332237}. Best is trial 0 with value: 2640235.9387265085.\n",
      "<ipython-input-41-2e94af504c96>:7: FutureWarning: suggest_loguniform has been deprecated in v3.0.0. This feature will be removed in v6.0.0. See https://github.com/optuna/optuna/releases/tag/v3.0.0. Use suggest_float(..., log=True) instead.\n",
      "  alpha = trial.suggest_loguniform(\"alpha\", 1e-3, 10.0)\n"
     ]
    },
    {
     "name": "stdout",
     "output_type": "stream",
     "text": [
      "Trial 0: MSE=2640235.9387265085, MAE=1045.5807001455978, R²=0.9697923103248313\n"
     ]
    },
    {
     "name": "stderr",
     "output_type": "stream",
     "text": [
      "[I 2025-02-20 06:55:25,093] Trial 1 finished with value: 2640062.018841686 and parameters: {'alpha': 0.005355479853520811}. Best is trial 1 with value: 2640062.018841686.\n"
     ]
    },
    {
     "name": "stdout",
     "output_type": "stream",
     "text": [
      "Trial 1: MSE=2640062.018841686, MAE=1045.6786329813567, R²=0.969794300191658\n"
     ]
    },
    {
     "name": "stderr",
     "output_type": "stream",
     "text": [
      "<ipython-input-41-2e94af504c96>:7: FutureWarning: suggest_loguniform has been deprecated in v3.0.0. This feature will be removed in v6.0.0. See https://github.com/optuna/optuna/releases/tag/v3.0.0. Use suggest_float(..., log=True) instead.\n",
      "  alpha = trial.suggest_loguniform(\"alpha\", 1e-3, 10.0)\n",
      "[I 2025-02-20 06:55:25,332] Trial 2 finished with value: 2640173.936041623 and parameters: {'alpha': 1.9698192584409329}. Best is trial 1 with value: 2640062.018841686.\n"
     ]
    },
    {
     "name": "stdout",
     "output_type": "stream",
     "text": [
      "Trial 2: MSE=2640173.936041623, MAE=1045.586367324686, R²=0.969793019715169\n"
     ]
    },
    {
     "name": "stderr",
     "output_type": "stream",
     "text": [
      "<ipython-input-41-2e94af504c96>:7: FutureWarning: suggest_loguniform has been deprecated in v3.0.0. This feature will be removed in v6.0.0. See https://github.com/optuna/optuna/releases/tag/v3.0.0. Use suggest_float(..., log=True) instead.\n",
      "  alpha = trial.suggest_loguniform(\"alpha\", 1e-3, 10.0)\n",
      "[I 2025-02-20 06:55:25,635] Trial 3 finished with value: 2640061.904402815 and parameters: {'alpha': 0.024024230760404684}. Best is trial 3 with value: 2640061.904402815.\n"
     ]
    },
    {
     "name": "stdout",
     "output_type": "stream",
     "text": [
      "Trial 3: MSE=2640061.904402815, MAE=1045.677415636114, R²=0.9697943015009857\n"
     ]
    },
    {
     "name": "stderr",
     "output_type": "stream",
     "text": [
      "<ipython-input-41-2e94af504c96>:7: FutureWarning: suggest_loguniform has been deprecated in v3.0.0. This feature will be removed in v6.0.0. See https://github.com/optuna/optuna/releases/tag/v3.0.0. Use suggest_float(..., log=True) instead.\n",
      "  alpha = trial.suggest_loguniform(\"alpha\", 1e-3, 10.0)\n",
      "[I 2025-02-20 06:55:25,953] Trial 4 finished with value: 2640061.8992124563 and parameters: {'alpha': 0.024968964143743177}. Best is trial 4 with value: 2640061.8992124563.\n"
     ]
    },
    {
     "name": "stdout",
     "output_type": "stream",
     "text": [
      "Trial 4: MSE=2640061.8992124563, MAE=1045.6773541057726, R²=0.9697943015603699\n"
     ]
    },
    {
     "name": "stderr",
     "output_type": "stream",
     "text": [
      "<ipython-input-41-2e94af504c96>:7: FutureWarning: suggest_loguniform has been deprecated in v3.0.0. This feature will be removed in v6.0.0. See https://github.com/optuna/optuna/releases/tag/v3.0.0. Use suggest_float(..., log=True) instead.\n",
      "  alpha = trial.suggest_loguniform(\"alpha\", 1e-3, 10.0)\n",
      "[I 2025-02-20 06:55:26,267] Trial 5 finished with value: 2640061.984369435 and parameters: {'alpha': 0.010606262559136409}. Best is trial 4 with value: 2640061.8992124563.\n"
     ]
    },
    {
     "name": "stdout",
     "output_type": "stream",
     "text": [
      "Trial 5: MSE=2640061.984369435, MAE=1045.6782906019077, R²=0.9697943005860648\n"
     ]
    },
    {
     "name": "stderr",
     "output_type": "stream",
     "text": [
      "<ipython-input-41-2e94af504c96>:7: FutureWarning: suggest_loguniform has been deprecated in v3.0.0. This feature will be removed in v6.0.0. See https://github.com/optuna/optuna/releases/tag/v3.0.0. Use suggest_float(..., log=True) instead.\n",
      "  alpha = trial.suggest_loguniform(\"alpha\", 1e-3, 10.0)\n",
      "[I 2025-02-20 06:55:26,632] Trial 6 finished with value: 2640062.018728936 and parameters: {'alpha': 0.005372220935374154}. Best is trial 4 with value: 2640061.8992124563.\n"
     ]
    },
    {
     "name": "stdout",
     "output_type": "stream",
     "text": [
      "Trial 6: MSE=2640062.018728936, MAE=1045.6786318897489, R²=0.969794300192948\n"
     ]
    },
    {
     "name": "stderr",
     "output_type": "stream",
     "text": [
      "<ipython-input-41-2e94af504c96>:7: FutureWarning: suggest_loguniform has been deprecated in v3.0.0. This feature will be removed in v6.0.0. See https://github.com/optuna/optuna/releases/tag/v3.0.0. Use suggest_float(..., log=True) instead.\n",
      "  alpha = trial.suggest_loguniform(\"alpha\", 1e-3, 10.0)\n",
      "[I 2025-02-20 06:55:26,958] Trial 7 finished with value: 2640062.045578039 and parameters: {'alpha': 0.0014590746271099506}. Best is trial 4 with value: 2640061.8992124563.\n"
     ]
    },
    {
     "name": "stdout",
     "output_type": "stream",
     "text": [
      "Trial 7: MSE=2640062.045578039, MAE=1045.6788870480914, R²=0.9697942998857597\n"
     ]
    },
    {
     "name": "stderr",
     "output_type": "stream",
     "text": [
      "<ipython-input-41-2e94af504c96>:7: FutureWarning: suggest_loguniform has been deprecated in v3.0.0. This feature will be removed in v6.0.0. See https://github.com/optuna/optuna/releases/tag/v3.0.0. Use suggest_float(..., log=True) instead.\n",
      "  alpha = trial.suggest_loguniform(\"alpha\", 1e-3, 10.0)\n",
      "[I 2025-02-20 06:55:27,192] Trial 8 finished with value: 2640063.468509874 and parameters: {'alpha': 0.34477401779208333}. Best is trial 4 with value: 2640061.8992124563.\n"
     ]
    },
    {
     "name": "stdout",
     "output_type": "stream",
     "text": [
      "Trial 8: MSE=2640063.468509874, MAE=1045.6568493427724, R²=0.9697942836055923\n"
     ]
    },
    {
     "name": "stderr",
     "output_type": "stream",
     "text": [
      "<ipython-input-41-2e94af504c96>:7: FutureWarning: suggest_loguniform has been deprecated in v3.0.0. This feature will be removed in v6.0.0. See https://github.com/optuna/optuna/releases/tag/v3.0.0. Use suggest_float(..., log=True) instead.\n",
      "  alpha = trial.suggest_loguniform(\"alpha\", 1e-3, 10.0)\n",
      "[I 2025-02-20 06:55:27,407] Trial 9 finished with value: 2641965.2767577805 and parameters: {'alpha': 8.47413351515762}. Best is trial 4 with value: 2640061.8992124563.\n"
     ]
    },
    {
     "name": "stdout",
     "output_type": "stream",
     "text": [
      "Trial 9: MSE=2641965.2767577805, MAE=1045.8532002828774, R²=0.9697725244769736\n"
     ]
    },
    {
     "name": "stderr",
     "output_type": "stream",
     "text": [
      "<ipython-input-41-2e94af504c96>:7: FutureWarning: suggest_loguniform has been deprecated in v3.0.0. This feature will be removed in v6.0.0. See https://github.com/optuna/optuna/releases/tag/v3.0.0. Use suggest_float(..., log=True) instead.\n",
      "  alpha = trial.suggest_loguniform(\"alpha\", 1e-3, 10.0)\n",
      "[I 2025-02-20 06:55:27,695] Trial 10 finished with value: 2640061.705032914 and parameters: {'alpha': 0.07590027885247437}. Best is trial 10 with value: 2640061.705032914.\n"
     ]
    },
    {
     "name": "stdout",
     "output_type": "stream",
     "text": [
      "Trial 10: MSE=2640061.705032914, MAE=1045.6740526690467, R²=0.9697943037820334\n"
     ]
    },
    {
     "name": "stderr",
     "output_type": "stream",
     "text": [
      "<ipython-input-41-2e94af504c96>:7: FutureWarning: suggest_loguniform has been deprecated in v3.0.0. This feature will be removed in v6.0.0. See https://github.com/optuna/optuna/releases/tag/v3.0.0. Use suggest_float(..., log=True) instead.\n",
      "  alpha = trial.suggest_loguniform(\"alpha\", 1e-3, 10.0)\n",
      "[I 2025-02-20 06:55:27,942] Trial 11 finished with value: 2640061.6765172905 and parameters: {'alpha': 0.09404549361055835}. Best is trial 11 with value: 2640061.6765172905.\n"
     ]
    },
    {
     "name": "stdout",
     "output_type": "stream",
     "text": [
      "Trial 11: MSE=2640061.6765172905, MAE=1045.6728811758867, R²=0.9697943041082887\n"
     ]
    },
    {
     "name": "stderr",
     "output_type": "stream",
     "text": [
      "<ipython-input-41-2e94af504c96>:7: FutureWarning: suggest_loguniform has been deprecated in v3.0.0. This feature will be removed in v6.0.0. See https://github.com/optuna/optuna/releases/tag/v3.0.0. Use suggest_float(..., log=True) instead.\n",
      "  alpha = trial.suggest_loguniform(\"alpha\", 1e-3, 10.0)\n",
      "[I 2025-02-20 06:55:28,228] Trial 12 finished with value: 2640061.6844329885 and parameters: {'alpha': 0.13096987377464597}. Best is trial 11 with value: 2640061.6765172905.\n"
     ]
    },
    {
     "name": "stdout",
     "output_type": "stream",
     "text": [
      "Trial 12: MSE=2640061.6844329885, MAE=1045.670509307316, R²=0.9697943040177229\n"
     ]
    },
    {
     "name": "stderr",
     "output_type": "stream",
     "text": [
      "<ipython-input-41-2e94af504c96>:7: FutureWarning: suggest_loguniform has been deprecated in v3.0.0. This feature will be removed in v6.0.0. See https://github.com/optuna/optuna/releases/tag/v3.0.0. Use suggest_float(..., log=True) instead.\n",
      "  alpha = trial.suggest_loguniform(\"alpha\", 1e-3, 10.0)\n",
      "[I 2025-02-20 06:55:28,482] Trial 13 finished with value: 2640062.67389053 and parameters: {'alpha': 0.2852330148078855}. Best is trial 11 with value: 2640061.6765172905.\n"
     ]
    },
    {
     "name": "stdout",
     "output_type": "stream",
     "text": [
      "Trial 13: MSE=2640062.67389053, MAE=1045.660638929608, R²=0.969794292697058\n"
     ]
    },
    {
     "name": "stderr",
     "output_type": "stream",
     "text": [
      "<ipython-input-41-2e94af504c96>:7: FutureWarning: suggest_loguniform has been deprecated in v3.0.0. This feature will be removed in v6.0.0. See https://github.com/optuna/optuna/releases/tag/v3.0.0. Use suggest_float(..., log=True) instead.\n",
      "  alpha = trial.suggest_loguniform(\"alpha\", 1e-3, 10.0)\n",
      "[I 2025-02-20 06:55:28,732] Trial 14 finished with value: 2640061.7441912047 and parameters: {'alpha': 0.157355735587608}. Best is trial 11 with value: 2640061.6765172905.\n"
     ]
    },
    {
     "name": "stdout",
     "output_type": "stream",
     "text": [
      "Trial 14: MSE=2640061.7441912047, MAE=1045.6688211099233, R²=0.9697943033340122\n"
     ]
    },
    {
     "name": "stderr",
     "output_type": "stream",
     "text": [
      "<ipython-input-41-2e94af504c96>:7: FutureWarning: suggest_loguniform has been deprecated in v3.0.0. This feature will be removed in v6.0.0. See https://github.com/optuna/optuna/releases/tag/v3.0.0. Use suggest_float(..., log=True) instead.\n",
      "  alpha = trial.suggest_loguniform(\"alpha\", 1e-3, 10.0)\n",
      "[I 2025-02-20 06:55:29,024] Trial 15 finished with value: 2640061.718452898 and parameters: {'alpha': 0.07019182828916291}. Best is trial 11 with value: 2640061.6765172905.\n"
     ]
    },
    {
     "name": "stdout",
     "output_type": "stream",
     "text": [
      "Trial 15: MSE=2640061.718452898, MAE=1045.6744226734074, R²=0.9697943036284915\n"
     ]
    },
    {
     "name": "stderr",
     "output_type": "stream",
     "text": [
      "<ipython-input-41-2e94af504c96>:7: FutureWarning: suggest_loguniform has been deprecated in v3.0.0. This feature will be removed in v6.0.0. See https://github.com/optuna/optuna/releases/tag/v3.0.0. Use suggest_float(..., log=True) instead.\n",
      "  alpha = trial.suggest_loguniform(\"alpha\", 1e-3, 10.0)\n",
      "[I 2025-02-20 06:55:29,267] Trial 16 finished with value: 2640076.6160746166 and parameters: {'alpha': 0.7881118402566194}. Best is trial 11 with value: 2640061.6765172905.\n"
     ]
    },
    {
     "name": "stdout",
     "output_type": "stream",
     "text": [
      "Trial 16: MSE=2640076.6160746166, MAE=1045.631551179363, R²=0.9697941331805678\n"
     ]
    },
    {
     "name": "stderr",
     "output_type": "stream",
     "text": [
      "<ipython-input-41-2e94af504c96>:7: FutureWarning: suggest_loguniform has been deprecated in v3.0.0. This feature will be removed in v6.0.0. See https://github.com/optuna/optuna/releases/tag/v3.0.0. Use suggest_float(..., log=True) instead.\n",
      "  alpha = trial.suggest_loguniform(\"alpha\", 1e-3, 10.0)\n",
      "[I 2025-02-20 06:55:29,518] Trial 17 finished with value: 2640061.8390149325 and parameters: {'alpha': 0.03681836471382426}. Best is trial 11 with value: 2640061.6765172905.\n"
     ]
    },
    {
     "name": "stdout",
     "output_type": "stream",
     "text": [
      "Trial 17: MSE=2640061.8390149325, MAE=1045.6765860060423, R²=0.969794302249107\n"
     ]
    },
    {
     "name": "stderr",
     "output_type": "stream",
     "text": [
      "<ipython-input-41-2e94af504c96>:7: FutureWarning: suggest_loguniform has been deprecated in v3.0.0. This feature will be removed in v6.0.0. See https://github.com/optuna/optuna/releases/tag/v3.0.0. Use suggest_float(..., log=True) instead.\n",
      "  alpha = trial.suggest_loguniform(\"alpha\", 1e-3, 10.0)\n",
      "[I 2025-02-20 06:55:29,800] Trial 18 finished with value: 2640088.9177433555 and parameters: {'alpha': 1.0258620006136268}. Best is trial 11 with value: 2640061.6765172905.\n"
     ]
    },
    {
     "name": "stdout",
     "output_type": "stream",
     "text": [
      "Trial 18: MSE=2640088.9177433555, MAE=1045.6198061557511, R²=0.9697939924336799\n"
     ]
    },
    {
     "name": "stderr",
     "output_type": "stream",
     "text": [
      "<ipython-input-41-2e94af504c96>:7: FutureWarning: suggest_loguniform has been deprecated in v3.0.0. This feature will be removed in v6.0.0. See https://github.com/optuna/optuna/releases/tag/v3.0.0. Use suggest_float(..., log=True) instead.\n",
      "  alpha = trial.suggest_loguniform(\"alpha\", 1e-3, 10.0)\n",
      "[I 2025-02-20 06:55:30,098] Trial 19 finished with value: 2640062.3357009916 and parameters: {'alpha': 0.25258451575543367}. Best is trial 11 with value: 2640061.6765172905.\n"
     ]
    },
    {
     "name": "stdout",
     "output_type": "stream",
     "text": [
      "Trial 19: MSE=2640062.3357009916, MAE=1045.6627279317195, R²=0.9697942965663806\n",
      "Best Lasso Parameters: {'alpha': 0.09404549361055835}\n",
      "Best Model Final Evaluation:\n",
      "Mean Squared Error: 2640061.6765172905\n",
      "Mean Absolute Error: 1045.6728811758867\n",
      "R-squared: 0.9697943041082887\n"
     ]
    }
   ],
   "source": [
    "import optuna\n",
    "from sklearn.linear_model import Lasso\n",
    "from sklearn.metrics import mean_squared_error, mean_absolute_error, r2_score\n",
    "\n",
    "def objective(trial):\n",
    "    # Suggesting alpha parameter using Optuna\n",
    "    alpha = trial.suggest_loguniform(\"alpha\", 1e-3, 10.0)\n",
    "\n",
    "    # Initialize the Lasso model with the suggested alpha\n",
    "    model = Lasso(alpha=alpha)\n",
    "    model.fit(X_train, y_train)\n",
    "    predictions = model.predict(X_test)\n",
    "\n",
    "    # Calculate the evaluation metrics\n",
    "    mse = mean_squared_error(y_test, predictions)\n",
    "    mae = mean_absolute_error(y_test, predictions)\n",
    "    r2 = r2_score(y_test, predictions)\n",
    "\n",
    "    # Print metrics for each trial (optional)\n",
    "    print(f\"Trial {trial.number}: MSE={mse}, MAE={mae}, R²={r2}\")\n",
    "\n",
    "    # Return MSE as the objective to minimize\n",
    "    return mse\n",
    "\n",
    "# Create an Optuna study to minimize the MSE\n",
    "study = optuna.create_study(direction=\"minimize\")\n",
    "study.optimize(objective, n_trials=20)\n",
    "\n",
    "# Print the best parameters found by Optuna\n",
    "print(\"Best Lasso Parameters:\", study.best_params)\n",
    "\n",
    "# After optimization, train the final model with the best parameters\n",
    "best_params = study.best_params\n",
    "best_model = Lasso(alpha=best_params[\"alpha\"])\n",
    "best_model.fit(X_train, y_train)\n",
    "best_predictions = best_model.predict(X_test)\n",
    "\n",
    "# Final evaluation of the best model\n",
    "final_mse = mean_squared_error(y_test, best_predictions)\n",
    "final_mae = mean_absolute_error(y_test, best_predictions)\n",
    "final_r2 = r2_score(y_test, best_predictions)\n",
    "\n",
    "# Print final model evaluation metrics\n",
    "print(f\"Best Model Final Evaluation:\")\n",
    "print(f\"Mean Squared Error: {final_mse}\")\n",
    "print(f\"Mean Absolute Error: {final_mae}\")\n",
    "print(f\"R-squared: {final_r2}\")\n"
   ]
  },
  {
   "cell_type": "markdown",
   "metadata": {
    "id": "geKFrm7dWKdz"
   },
   "source": [
    "**Modified Algorithm 1:** Random Forest Regressor with Optuna\n",
    "\n",
    "\n"
   ]
  },
  {
   "cell_type": "code",
   "execution_count": 42,
   "metadata": {
    "colab": {
     "base_uri": "https://localhost:8080/"
    },
    "id": "Kcc8ZCYwNDQz",
    "outputId": "33510acc-a815-4563-da38-6cbe92085b22"
   },
   "outputs": [
    {
     "name": "stderr",
     "output_type": "stream",
     "text": [
      "[I 2025-02-20 06:55:35,349] A new study created in memory with name: no-name-c8b1989d-31f2-4b03-9dac-2b1cf11cc1b4\n",
      "[I 2025-02-20 06:56:37,787] Trial 0 finished with value: 2206371.237253106 and parameters: {'n_estimators': 111, 'max_depth': 14, 'min_samples_split': 3, 'min_samples_leaf': 8}. Best is trial 0 with value: 2206371.237253106.\n"
     ]
    },
    {
     "name": "stdout",
     "output_type": "stream",
     "text": [
      "Trial 0: MSE=2206371.237253106, MAE=937.1598573206195, R²=0.9747562796697224\n"
     ]
    },
    {
     "name": "stderr",
     "output_type": "stream",
     "text": [
      "[I 2025-02-20 06:57:12,323] Trial 1 finished with value: 2211275.9024218475 and parameters: {'n_estimators': 56, 'max_depth': 16, 'min_samples_split': 5, 'min_samples_leaf': 8}. Best is trial 0 with value: 2206371.237253106.\n"
     ]
    },
    {
     "name": "stdout",
     "output_type": "stream",
     "text": [
      "Trial 1: MSE=2211275.9024218475, MAE=938.0977149738007, R²=0.9747001640017229\n"
     ]
    },
    {
     "name": "stderr",
     "output_type": "stream",
     "text": [
      "[I 2025-02-20 06:57:45,022] Trial 2 finished with value: 2452829.591253834 and parameters: {'n_estimators': 109, 'max_depth': 7, 'min_samples_split': 8, 'min_samples_leaf': 7}. Best is trial 0 with value: 2206371.237253106.\n"
     ]
    },
    {
     "name": "stdout",
     "output_type": "stream",
     "text": [
      "Trial 2: MSE=2452829.591253834, MAE=1006.66624221809, R²=0.9719364796032565\n"
     ]
    },
    {
     "name": "stderr",
     "output_type": "stream",
     "text": [
      "[I 2025-02-20 06:58:22,938] Trial 3 finished with value: 2238595.7175975433 and parameters: {'n_estimators': 88, 'max_depth': 10, 'min_samples_split': 4, 'min_samples_leaf': 1}. Best is trial 0 with value: 2206371.237253106.\n"
     ]
    },
    {
     "name": "stdout",
     "output_type": "stream",
     "text": [
      "Trial 3: MSE=2238595.7175975433, MAE=953.7618351688124, R²=0.9743875902325739\n"
     ]
    },
    {
     "name": "stderr",
     "output_type": "stream",
     "text": [
      "[I 2025-02-20 06:59:31,648] Trial 4 finished with value: 2190170.499689871 and parameters: {'n_estimators': 113, 'max_depth': 15, 'min_samples_split': 8, 'min_samples_leaf': 1}. Best is trial 4 with value: 2190170.499689871.\n"
     ]
    },
    {
     "name": "stdout",
     "output_type": "stream",
     "text": [
      "Trial 4: MSE=2190170.499689871, MAE=941.1230609493172, R²=0.9749416369120965\n"
     ]
    },
    {
     "name": "stderr",
     "output_type": "stream",
     "text": [
      "[I 2025-02-20 07:00:09,914] Trial 5 finished with value: 2588363.6856083493 and parameters: {'n_estimators': 148, 'max_depth': 6, 'min_samples_split': 3, 'min_samples_leaf': 3}. Best is trial 4 with value: 2190170.499689871.\n"
     ]
    },
    {
     "name": "stdout",
     "output_type": "stream",
     "text": [
      "Trial 5: MSE=2588363.6856083493, MAE=1040.6299489776047, R²=0.9703857955137728\n"
     ]
    },
    {
     "name": "stderr",
     "output_type": "stream",
     "text": [
      "[I 2025-02-20 07:01:06,368] Trial 6 finished with value: 2289609.2448597886 and parameters: {'n_estimators': 128, 'max_depth': 9, 'min_samples_split': 8, 'min_samples_leaf': 10}. Best is trial 4 with value: 2190170.499689871.\n"
     ]
    },
    {
     "name": "stdout",
     "output_type": "stream",
     "text": [
      "Trial 6: MSE=2289609.2448597886, MAE=959.2483660870206, R²=0.9738039299701821\n"
     ]
    },
    {
     "name": "stderr",
     "output_type": "stream",
     "text": [
      "[I 2025-02-20 07:02:01,388] Trial 7 finished with value: 2211613.708604824 and parameters: {'n_estimators': 122, 'max_depth': 11, 'min_samples_split': 9, 'min_samples_leaf': 3}. Best is trial 4 with value: 2190170.499689871.\n"
     ]
    },
    {
     "name": "stdout",
     "output_type": "stream",
     "text": [
      "Trial 7: MSE=2211613.708604824, MAE=945.6391672789107, R²=0.974696299065186\n"
     ]
    },
    {
     "name": "stderr",
     "output_type": "stream",
     "text": [
      "[I 2025-02-20 07:02:32,280] Trial 8 finished with value: 2203916.2033423753 and parameters: {'n_estimators': 54, 'max_depth': 14, 'min_samples_split': 10, 'min_samples_leaf': 5}. Best is trial 4 with value: 2190170.499689871.\n"
     ]
    },
    {
     "name": "stdout",
     "output_type": "stream",
     "text": [
      "Trial 8: MSE=2203916.2033423753, MAE=939.3880171722232, R²=0.9747843684103648\n"
     ]
    },
    {
     "name": "stderr",
     "output_type": "stream",
     "text": [
      "[I 2025-02-20 07:02:52,289] Trial 9 finished with value: 2452404.938699793 and parameters: {'n_estimators': 67, 'max_depth': 7, 'min_samples_split': 2, 'min_samples_leaf': 8}. Best is trial 4 with value: 2190170.499689871.\n"
     ]
    },
    {
     "name": "stdout",
     "output_type": "stream",
     "text": [
      "Trial 9: MSE=2452404.938699793, MAE=1006.6277658736121, R²=0.9719413381738047\n",
      "Best Random Forest Parameters: {'n_estimators': 113, 'max_depth': 15, 'min_samples_split': 8, 'min_samples_leaf': 1}\n",
      "Best Model Final Evaluation:\n",
      "Mean Squared Error: 2190170.499689871\n",
      "Mean Absolute Error: 941.1230609493172\n",
      "R-squared: 0.9749416369120965\n"
     ]
    }
   ],
   "source": [
    "import optuna\n",
    "from sklearn.ensemble import RandomForestRegressor\n",
    "from sklearn.metrics import mean_squared_error, mean_absolute_error, r2_score\n",
    "\n",
    "def objective(trial):\n",
    "    # Suggesting hyperparameters using Optuna\n",
    "    params = {\n",
    "        \"n_estimators\": trial.suggest_int(\"n_estimators\", 50, 150),\n",
    "        \"max_depth\": trial.suggest_int(\"max_depth\", 2, 16),\n",
    "        \"min_samples_split\": trial.suggest_int(\"min_samples_split\", 2, 10),\n",
    "        \"min_samples_leaf\": trial.suggest_int(\"min_samples_leaf\", 1, 10),\n",
    "    }\n",
    "\n",
    "    # Initialize the RandomForestRegressor with the suggested parameters\n",
    "    model = RandomForestRegressor(**params, random_state=42, n_jobs=-1)\n",
    "    model.fit(X_train, y_train)\n",
    "    predictions = model.predict(X_test)\n",
    "\n",
    "    # Calculate the evaluation metrics\n",
    "    mse = mean_squared_error(y_test, predictions)\n",
    "    mae = mean_absolute_error(y_test, predictions)\n",
    "    r2 = r2_score(y_test, predictions)\n",
    "\n",
    "    # Print metrics for each trial (optional)\n",
    "    print(f\"Trial {trial.number}: MSE={mse}, MAE={mae}, R²={r2}\")\n",
    "\n",
    "    # Return MSE as the objective to minimize\n",
    "    return mse\n",
    "\n",
    "# Create an Optuna study to minimize the MSE\n",
    "study = optuna.create_study(direction=\"minimize\")\n",
    "study.optimize(objective, n_trials=10)\n",
    "\n",
    "# Print the best parameters found by Optuna\n",
    "print(\"Best Random Forest Parameters:\", study.best_params)\n",
    "\n",
    "# After optimization, train the final model with the best parameters\n",
    "best_params = study.best_params\n",
    "best_model = RandomForestRegressor(**best_params, random_state=42, n_jobs=-1)\n",
    "best_model.fit(X_train, y_train)\n",
    "best_predictions = best_model.predict(X_test)\n",
    "\n",
    "# Final evaluation of the best model\n",
    "final_mse = mean_squared_error(y_test, best_predictions)\n",
    "final_mae = mean_absolute_error(y_test, best_predictions)\n",
    "final_r2 = r2_score(y_test, best_predictions)\n",
    "\n",
    "# Print final model evaluation metrics\n",
    "print(f\"Best Model Final Evaluation:\")\n",
    "print(f\"Mean Squared Error: {final_mse}\")\n",
    "print(f\"Mean Absolute Error: {final_mae}\")\n",
    "print(f\"R-squared: {final_r2}\")\n"
   ]
  },
  {
   "cell_type": "markdown",
   "metadata": {
    "id": "HRF0xGkhYUKH"
   },
   "source": [
    "**Modified Algorithm 2**: LightGBM Regressor with *Optuna*"
   ]
  },
  {
   "cell_type": "code",
   "execution_count": 43,
   "metadata": {
    "colab": {
     "base_uri": "https://localhost:8080/"
    },
    "id": "IN-8FPIRYRIV",
    "outputId": "670327ad-f0f8-45d4-b218-a4fb07ea9977"
   },
   "outputs": [
    {
     "name": "stderr",
     "output_type": "stream",
     "text": [
      "[I 2025-02-20 07:04:38,106] A new study created in memory with name: no-name-18611693-2833-4add-8a74-943cd494f12b\n",
      "<ipython-input-43-dd10debd38ac>:7: FutureWarning: suggest_loguniform has been deprecated in v3.0.0. This feature will be removed in v6.0.0. See https://github.com/optuna/optuna/releases/tag/v3.0.0. Use suggest_float(..., log=True) instead.\n",
      "  \"learning_rate\": trial.suggest_loguniform(\"learning_rate\", 0.01, 0.2),\n"
     ]
    },
    {
     "name": "stdout",
     "output_type": "stream",
     "text": [
      "[LightGBM] [Warning] Found whitespace in feature_names, replace with underlines\n",
      "[LightGBM] [Info] Auto-choosing col-wise multi-threading, the overhead of testing was 0.015411 seconds.\n",
      "You can set `force_col_wise=true` to remove the overhead.\n",
      "[LightGBM] [Info] Total Bins 1838\n",
      "[LightGBM] [Info] Number of data points in the train set: 117978, number of used features: 15\n",
      "[LightGBM] [Info] Start training from score 13285.486082\n"
     ]
    },
    {
     "name": "stderr",
     "output_type": "stream",
     "text": [
      "[I 2025-02-20 07:04:39,504] Trial 0 finished with value: 2401865.7971427096 and parameters: {'n_estimators': 90, 'learning_rate': 0.11860715095297931, 'num_leaves': 53}. Best is trial 0 with value: 2401865.7971427096.\n"
     ]
    },
    {
     "name": "stdout",
     "output_type": "stream",
     "text": [
      "Trial 0: MSE=2401865.7971427096, MAE=905.3684591141628, R²=0.9725195708545332\n"
     ]
    },
    {
     "name": "stderr",
     "output_type": "stream",
     "text": [
      "<ipython-input-43-dd10debd38ac>:7: FutureWarning: suggest_loguniform has been deprecated in v3.0.0. This feature will be removed in v6.0.0. See https://github.com/optuna/optuna/releases/tag/v3.0.0. Use suggest_float(..., log=True) instead.\n",
      "  \"learning_rate\": trial.suggest_loguniform(\"learning_rate\", 0.01, 0.2),\n"
     ]
    },
    {
     "name": "stdout",
     "output_type": "stream",
     "text": [
      "[LightGBM] [Warning] Found whitespace in feature_names, replace with underlines\n",
      "[LightGBM] [Info] Auto-choosing col-wise multi-threading, the overhead of testing was 0.015305 seconds.\n",
      "You can set `force_col_wise=true` to remove the overhead.\n",
      "[LightGBM] [Info] Total Bins 1838\n",
      "[LightGBM] [Info] Number of data points in the train set: 117978, number of used features: 15\n",
      "[LightGBM] [Info] Start training from score 13285.486082\n"
     ]
    },
    {
     "name": "stderr",
     "output_type": "stream",
     "text": [
      "[I 2025-02-20 07:04:40,938] Trial 1 finished with value: 7035252.50292446 and parameters: {'n_estimators': 79, 'learning_rate': 0.019083784724463575, 'num_leaves': 49}. Best is trial 0 with value: 2401865.7971427096.\n"
     ]
    },
    {
     "name": "stdout",
     "output_type": "stream",
     "text": [
      "Trial 1: MSE=7035252.50292446, MAE=1839.3565930716704, R²=0.9195076768414484\n"
     ]
    },
    {
     "name": "stderr",
     "output_type": "stream",
     "text": [
      "<ipython-input-43-dd10debd38ac>:7: FutureWarning: suggest_loguniform has been deprecated in v3.0.0. This feature will be removed in v6.0.0. See https://github.com/optuna/optuna/releases/tag/v3.0.0. Use suggest_float(..., log=True) instead.\n",
      "  \"learning_rate\": trial.suggest_loguniform(\"learning_rate\", 0.01, 0.2),\n"
     ]
    },
    {
     "name": "stdout",
     "output_type": "stream",
     "text": [
      "[LightGBM] [Warning] Found whitespace in feature_names, replace with underlines\n",
      "[LightGBM] [Info] Auto-choosing col-wise multi-threading, the overhead of testing was 0.015505 seconds.\n",
      "You can set `force_col_wise=true` to remove the overhead.\n",
      "[LightGBM] [Info] Total Bins 1838\n",
      "[LightGBM] [Info] Number of data points in the train set: 117978, number of used features: 15\n",
      "[LightGBM] [Info] Start training from score 13285.486082\n"
     ]
    },
    {
     "name": "stderr",
     "output_type": "stream",
     "text": [
      "[I 2025-02-20 07:04:42,186] Trial 2 finished with value: 2423383.475163955 and parameters: {'n_estimators': 100, 'learning_rate': 0.11206949901728766, 'num_leaves': 25}. Best is trial 0 with value: 2401865.7971427096.\n"
     ]
    },
    {
     "name": "stdout",
     "output_type": "stream",
     "text": [
      "Trial 2: MSE=2423383.475163955, MAE=916.0323030469782, R²=0.9722733809854152\n"
     ]
    },
    {
     "name": "stderr",
     "output_type": "stream",
     "text": [
      "<ipython-input-43-dd10debd38ac>:7: FutureWarning: suggest_loguniform has been deprecated in v3.0.0. This feature will be removed in v6.0.0. See https://github.com/optuna/optuna/releases/tag/v3.0.0. Use suggest_float(..., log=True) instead.\n",
      "  \"learning_rate\": trial.suggest_loguniform(\"learning_rate\", 0.01, 0.2),\n"
     ]
    },
    {
     "name": "stdout",
     "output_type": "stream",
     "text": [
      "[LightGBM] [Warning] Found whitespace in feature_names, replace with underlines\n",
      "[LightGBM] [Info] Auto-choosing col-wise multi-threading, the overhead of testing was 0.015097 seconds.\n",
      "You can set `force_col_wise=true` to remove the overhead.\n",
      "[LightGBM] [Info] Total Bins 1838\n",
      "[LightGBM] [Info] Number of data points in the train set: 117978, number of used features: 15\n",
      "[LightGBM] [Info] Start training from score 13285.486082\n"
     ]
    },
    {
     "name": "stderr",
     "output_type": "stream",
     "text": [
      "[I 2025-02-20 07:04:43,349] Trial 3 finished with value: 2998522.794065797 and parameters: {'n_estimators': 73, 'learning_rate': 0.03972684555500003, 'num_leaves': 31}. Best is trial 0 with value: 2401865.7971427096.\n"
     ]
    },
    {
     "name": "stdout",
     "output_type": "stream",
     "text": [
      "Trial 3: MSE=2998522.794065797, MAE=1057.8896008077322, R²=0.9656930485952142\n"
     ]
    },
    {
     "name": "stderr",
     "output_type": "stream",
     "text": [
      "<ipython-input-43-dd10debd38ac>:7: FutureWarning: suggest_loguniform has been deprecated in v3.0.0. This feature will be removed in v6.0.0. See https://github.com/optuna/optuna/releases/tag/v3.0.0. Use suggest_float(..., log=True) instead.\n",
      "  \"learning_rate\": trial.suggest_loguniform(\"learning_rate\", 0.01, 0.2),\n"
     ]
    },
    {
     "name": "stdout",
     "output_type": "stream",
     "text": [
      "[LightGBM] [Warning] Found whitespace in feature_names, replace with underlines\n",
      "[LightGBM] [Info] Auto-choosing col-wise multi-threading, the overhead of testing was 0.014556 seconds.\n",
      "You can set `force_col_wise=true` to remove the overhead.\n",
      "[LightGBM] [Info] Total Bins 1838\n",
      "[LightGBM] [Info] Number of data points in the train set: 117978, number of used features: 15\n",
      "[LightGBM] [Info] Start training from score 13285.486082\n"
     ]
    },
    {
     "name": "stderr",
     "output_type": "stream",
     "text": [
      "[I 2025-02-20 07:04:44,809] Trial 4 finished with value: 2865096.9711203603 and parameters: {'n_estimators': 81, 'learning_rate': 0.037825617780453784, 'num_leaves': 52}. Best is trial 0 with value: 2401865.7971427096.\n"
     ]
    },
    {
     "name": "stdout",
     "output_type": "stream",
     "text": [
      "Trial 4: MSE=2865096.9711203603, MAE=1019.5405732309808, R²=0.9672196113523797\n"
     ]
    },
    {
     "name": "stderr",
     "output_type": "stream",
     "text": [
      "<ipython-input-43-dd10debd38ac>:7: FutureWarning: suggest_loguniform has been deprecated in v3.0.0. This feature will be removed in v6.0.0. See https://github.com/optuna/optuna/releases/tag/v3.0.0. Use suggest_float(..., log=True) instead.\n",
      "  \"learning_rate\": trial.suggest_loguniform(\"learning_rate\", 0.01, 0.2),\n"
     ]
    },
    {
     "name": "stdout",
     "output_type": "stream",
     "text": [
      "[LightGBM] [Warning] Found whitespace in feature_names, replace with underlines\n",
      "[LightGBM] [Info] Auto-choosing col-wise multi-threading, the overhead of testing was 0.015189 seconds.\n",
      "You can set `force_col_wise=true` to remove the overhead.\n",
      "[LightGBM] [Info] Total Bins 1838\n",
      "[LightGBM] [Info] Number of data points in the train set: 117978, number of used features: 15\n",
      "[LightGBM] [Info] Start training from score 13285.486082\n"
     ]
    },
    {
     "name": "stderr",
     "output_type": "stream",
     "text": [
      "[I 2025-02-20 07:04:45,767] Trial 5 finished with value: 2354545.953307789 and parameters: {'n_estimators': 61, 'learning_rate': 0.1907860646970819, 'num_leaves': 39}. Best is trial 5 with value: 2354545.953307789.\n"
     ]
    },
    {
     "name": "stdout",
     "output_type": "stream",
     "text": [
      "Trial 5: MSE=2354545.953307789, MAE=908.9617967634574, R²=0.9730609706351651\n"
     ]
    },
    {
     "name": "stderr",
     "output_type": "stream",
     "text": [
      "<ipython-input-43-dd10debd38ac>:7: FutureWarning: suggest_loguniform has been deprecated in v3.0.0. This feature will be removed in v6.0.0. See https://github.com/optuna/optuna/releases/tag/v3.0.0. Use suggest_float(..., log=True) instead.\n",
      "  \"learning_rate\": trial.suggest_loguniform(\"learning_rate\", 0.01, 0.2),\n"
     ]
    },
    {
     "name": "stdout",
     "output_type": "stream",
     "text": [
      "[LightGBM] [Warning] Found whitespace in feature_names, replace with underlines\n",
      "[LightGBM] [Info] Auto-choosing col-wise multi-threading, the overhead of testing was 0.016679 seconds.\n",
      "You can set `force_col_wise=true` to remove the overhead.\n",
      "[LightGBM] [Info] Total Bins 1838\n",
      "[LightGBM] [Info] Number of data points in the train set: 117978, number of used features: 15\n",
      "[LightGBM] [Info] Start training from score 13285.486082\n"
     ]
    },
    {
     "name": "stderr",
     "output_type": "stream",
     "text": [
      "[I 2025-02-20 07:04:47,608] Trial 6 finished with value: 10309437.754950497 and parameters: {'n_estimators': 88, 'learning_rate': 0.013937256156329339, 'num_leaves': 40}. Best is trial 5 with value: 2354545.953307789.\n"
     ]
    },
    {
     "name": "stdout",
     "output_type": "stream",
     "text": [
      "Trial 6: MSE=10309437.754950497, MAE=2282.9951798354114, R²=0.8820467929175962\n"
     ]
    },
    {
     "name": "stderr",
     "output_type": "stream",
     "text": [
      "<ipython-input-43-dd10debd38ac>:7: FutureWarning: suggest_loguniform has been deprecated in v3.0.0. This feature will be removed in v6.0.0. See https://github.com/optuna/optuna/releases/tag/v3.0.0. Use suggest_float(..., log=True) instead.\n",
      "  \"learning_rate\": trial.suggest_loguniform(\"learning_rate\", 0.01, 0.2),\n"
     ]
    },
    {
     "name": "stdout",
     "output_type": "stream",
     "text": [
      "[LightGBM] [Warning] Found whitespace in feature_names, replace with underlines\n",
      "[LightGBM] [Info] Auto-choosing col-wise multi-threading, the overhead of testing was 0.024608 seconds.\n",
      "You can set `force_col_wise=true` to remove the overhead.\n",
      "[LightGBM] [Info] Total Bins 1838\n",
      "[LightGBM] [Info] Number of data points in the train set: 117978, number of used features: 15\n",
      "[LightGBM] [Info] Start training from score 13285.486082\n"
     ]
    },
    {
     "name": "stderr",
     "output_type": "stream",
     "text": [
      "[I 2025-02-20 07:04:48,907] Trial 7 finished with value: 2796376.797897095 and parameters: {'n_estimators': 56, 'learning_rate': 0.06654774985157573, 'num_leaves': 22}. Best is trial 5 with value: 2354545.953307789.\n"
     ]
    },
    {
     "name": "stdout",
     "output_type": "stream",
     "text": [
      "Trial 7: MSE=2796376.797897095, MAE=984.6221019818214, R²=0.9680058583830725\n"
     ]
    },
    {
     "name": "stderr",
     "output_type": "stream",
     "text": [
      "<ipython-input-43-dd10debd38ac>:7: FutureWarning: suggest_loguniform has been deprecated in v3.0.0. This feature will be removed in v6.0.0. See https://github.com/optuna/optuna/releases/tag/v3.0.0. Use suggest_float(..., log=True) instead.\n",
      "  \"learning_rate\": trial.suggest_loguniform(\"learning_rate\", 0.01, 0.2),\n"
     ]
    },
    {
     "name": "stdout",
     "output_type": "stream",
     "text": [
      "[LightGBM] [Warning] Found whitespace in feature_names, replace with underlines\n",
      "[LightGBM] [Info] Auto-choosing col-wise multi-threading, the overhead of testing was 0.014510 seconds.\n",
      "You can set `force_col_wise=true` to remove the overhead.\n",
      "[LightGBM] [Info] Total Bins 1838\n",
      "[LightGBM] [Info] Number of data points in the train set: 117978, number of used features: 15\n",
      "[LightGBM] [Info] Start training from score 13285.486082\n"
     ]
    },
    {
     "name": "stderr",
     "output_type": "stream",
     "text": [
      "[I 2025-02-20 07:04:49,853] Trial 8 finished with value: 2886569.089551732 and parameters: {'n_estimators': 53, 'learning_rate': 0.05645189859958599, 'num_leaves': 35}. Best is trial 5 with value: 2354545.953307789.\n"
     ]
    },
    {
     "name": "stdout",
     "output_type": "stream",
     "text": [
      "Trial 8: MSE=2886569.089551732, MAE=1034.9469576222493, R²=0.9669739427434765\n"
     ]
    },
    {
     "name": "stderr",
     "output_type": "stream",
     "text": [
      "<ipython-input-43-dd10debd38ac>:7: FutureWarning: suggest_loguniform has been deprecated in v3.0.0. This feature will be removed in v6.0.0. See https://github.com/optuna/optuna/releases/tag/v3.0.0. Use suggest_float(..., log=True) instead.\n",
      "  \"learning_rate\": trial.suggest_loguniform(\"learning_rate\", 0.01, 0.2),\n"
     ]
    },
    {
     "name": "stdout",
     "output_type": "stream",
     "text": [
      "[LightGBM] [Warning] Found whitespace in feature_names, replace with underlines\n",
      "[LightGBM] [Info] Auto-choosing col-wise multi-threading, the overhead of testing was 0.014324 seconds.\n",
      "You can set `force_col_wise=true` to remove the overhead.\n",
      "[LightGBM] [Info] Total Bins 1838\n",
      "[LightGBM] [Info] Number of data points in the train set: 117978, number of used features: 15\n",
      "[LightGBM] [Info] Start training from score 13285.486082\n"
     ]
    },
    {
     "name": "stderr",
     "output_type": "stream",
     "text": [
      "[I 2025-02-20 07:04:51,278] Trial 9 finished with value: 2325123.0609557736 and parameters: {'n_estimators': 92, 'learning_rate': 0.11276601986177331, 'num_leaves': 46}. Best is trial 9 with value: 2325123.0609557736.\n"
     ]
    },
    {
     "name": "stdout",
     "output_type": "stream",
     "text": [
      "Trial 9: MSE=2325123.0609557736, MAE=906.306805911085, R²=0.9733976063079391\n",
      "Best LightGBM Parameters: {'n_estimators': 92, 'learning_rate': 0.11276601986177331, 'num_leaves': 46}\n",
      "[LightGBM] [Warning] Found whitespace in feature_names, replace with underlines\n",
      "[LightGBM] [Info] Auto-choosing col-wise multi-threading, the overhead of testing was 0.015191 seconds.\n",
      "You can set `force_col_wise=true` to remove the overhead.\n",
      "[LightGBM] [Info] Total Bins 1838\n",
      "[LightGBM] [Info] Number of data points in the train set: 117978, number of used features: 15\n",
      "[LightGBM] [Info] Start training from score 13285.486082\n",
      "Best Model Final Evaluation:\n",
      "Mean Squared Error: 2325123.0609557736\n",
      "Mean Absolute Error: 906.306805911085\n",
      "R-squared: 0.9733976063079391\n"
     ]
    }
   ],
   "source": [
    "import lightgbm as lgb\n",
    "from sklearn.metrics import mean_squared_error, mean_absolute_error, r2_score\n",
    "\n",
    "def objective(trial):\n",
    "    params = {\n",
    "        \"n_estimators\": trial.suggest_int(\"n_estimators\", 50, 100),\n",
    "        \"learning_rate\": trial.suggest_loguniform(\"learning_rate\", 0.01, 0.2),\n",
    "        \"num_leaves\": trial.suggest_int(\"num_leaves\", 20, 60),\n",
    "    }\n",
    "\n",
    "    model = lgb.LGBMRegressor(**params)\n",
    "    model.fit(X_train, y_train)\n",
    "    predictions = model.predict(X_test)\n",
    "\n",
    "    mse = mean_squared_error(y_test, predictions)\n",
    "    mae = mean_absolute_error(y_test, predictions)\n",
    "    r2 = r2_score(y_test, predictions)\n",
    "\n",
    "    print(f\"Trial {trial.number}: MSE={mse}, MAE={mae}, R²={r2}\")\n",
    "\n",
    "    return mse\n",
    "\n",
    "# Create an Optuna study to minimize the MSE\n",
    "study = optuna.create_study(direction=\"minimize\")\n",
    "study.optimize(objective, n_trials=10)\n",
    "\n",
    "# Print the best parameters found by Optuna\n",
    "print(\"Best LightGBM Parameters:\", study.best_params)\n",
    "\n",
    "# You can also directly print the best evaluation metrics\n",
    "best_params = study.best_params\n",
    "best_model = lgb.LGBMRegressor(**best_params)\n",
    "best_model.fit(X_train, y_train)\n",
    "best_predictions = best_model.predict(X_test)\n",
    "\n",
    "# Final evaluation of the best model\n",
    "final_mse = mean_squared_error(y_test, best_predictions)\n",
    "final_mae = mean_absolute_error(y_test, best_predictions)\n",
    "final_r2 = r2_score(y_test, best_predictions)\n",
    "\n",
    "print(f\"Best Model Final Evaluation:\")\n",
    "print(f\"Mean Squared Error: {final_mse}\")\n",
    "print(f\"Mean Absolute Error: {final_mae}\")\n",
    "print(f\"R-squared: {final_r2}\")\n"
   ]
  },
  {
   "cell_type": "markdown",
   "metadata": {
    "id": "_YYuKGfUY_KL"
   },
   "source": [
    "**Modified Algorithm 1**: XGBoost Regressor with Optuna"
   ]
  },
  {
   "cell_type": "code",
   "execution_count": 39,
   "metadata": {
    "colab": {
     "base_uri": "https://localhost:8080/"
    },
    "id": "RTPT5sBWZCtT",
    "outputId": "7a18ecad-c1d5-4a6f-9b60-9398eac1a0eb"
   },
   "outputs": [
    {
     "name": "stderr",
     "output_type": "stream",
     "text": [
      "[I 2025-02-20 06:52:28,108] A new study created in memory with name: no-name-98bc91b2-34c5-4a47-8839-89d8f93267a2\n",
      "<ipython-input-39-a28df8fd8148>:8: FutureWarning: suggest_loguniform has been deprecated in v3.0.0. This feature will be removed in v6.0.0. See https://github.com/optuna/optuna/releases/tag/v3.0.0. Use suggest_float(..., log=True) instead.\n",
      "  \"learning_rate\": trial.suggest_loguniform(\"learning_rate\", 0.01, 0.2),\n",
      "[I 2025-02-20 06:52:31,237] Trial 0 finished with value: 6834538.532639846 and parameters: {'n_estimators': 68, 'learning_rate': 0.022307292442467788, 'max_depth': 10}. Best is trial 0 with value: 6834538.532639846.\n",
      "<ipython-input-39-a28df8fd8148>:8: FutureWarning: suggest_loguniform has been deprecated in v3.0.0. This feature will be removed in v6.0.0. See https://github.com/optuna/optuna/releases/tag/v3.0.0. Use suggest_float(..., log=True) instead.\n",
      "  \"learning_rate\": trial.suggest_loguniform(\"learning_rate\", 0.01, 0.2),\n",
      "[I 2025-02-20 06:52:39,423] Trial 1 finished with value: 2209642.3000754383 and parameters: {'n_estimators': 91, 'learning_rate': 0.06731364379484807, 'max_depth': 12}. Best is trial 1 with value: 2209642.3000754383.\n",
      "<ipython-input-39-a28df8fd8148>:8: FutureWarning: suggest_loguniform has been deprecated in v3.0.0. This feature will be removed in v6.0.0. See https://github.com/optuna/optuna/releases/tag/v3.0.0. Use suggest_float(..., log=True) instead.\n",
      "  \"learning_rate\": trial.suggest_loguniform(\"learning_rate\", 0.01, 0.2),\n",
      "[I 2025-02-20 06:52:45,268] Trial 2 finished with value: 16442389.17707827 and parameters: {'n_estimators': 54, 'learning_rate': 0.01694450551705538, 'max_depth': 14}. Best is trial 1 with value: 2209642.3000754383.\n",
      "<ipython-input-39-a28df8fd8148>:8: FutureWarning: suggest_loguniform has been deprecated in v3.0.0. This feature will be removed in v6.0.0. See https://github.com/optuna/optuna/releases/tag/v3.0.0. Use suggest_float(..., log=True) instead.\n",
      "  \"learning_rate\": trial.suggest_loguniform(\"learning_rate\", 0.01, 0.2),\n",
      "[I 2025-02-20 06:52:57,163] Trial 3 finished with value: 2258547.7526635183 and parameters: {'n_estimators': 98, 'learning_rate': 0.05438605294468436, 'max_depth': 13}. Best is trial 1 with value: 2209642.3000754383.\n",
      "<ipython-input-39-a28df8fd8148>:8: FutureWarning: suggest_loguniform has been deprecated in v3.0.0. This feature will be removed in v6.0.0. See https://github.com/optuna/optuna/releases/tag/v3.0.0. Use suggest_float(..., log=True) instead.\n",
      "  \"learning_rate\": trial.suggest_loguniform(\"learning_rate\", 0.01, 0.2),\n",
      "[I 2025-02-20 06:52:57,962] Trial 4 finished with value: 5144037.80095701 and parameters: {'n_estimators': 92, 'learning_rate': 0.022706892150974718, 'max_depth': 4}. Best is trial 1 with value: 2209642.3000754383.\n",
      "<ipython-input-39-a28df8fd8148>:8: FutureWarning: suggest_loguniform has been deprecated in v3.0.0. This feature will be removed in v6.0.0. See https://github.com/optuna/optuna/releases/tag/v3.0.0. Use suggest_float(..., log=True) instead.\n",
      "  \"learning_rate\": trial.suggest_loguniform(\"learning_rate\", 0.01, 0.2),\n",
      "[I 2025-02-20 06:52:58,493] Trial 5 finished with value: 3037354.2132226774 and parameters: {'n_estimators': 77, 'learning_rate': 0.14881592198119983, 'max_depth': 3}. Best is trial 1 with value: 2209642.3000754383.\n",
      "<ipython-input-39-a28df8fd8148>:8: FutureWarning: suggest_loguniform has been deprecated in v3.0.0. This feature will be removed in v6.0.0. See https://github.com/optuna/optuna/releases/tag/v3.0.0. Use suggest_float(..., log=True) instead.\n",
      "  \"learning_rate\": trial.suggest_loguniform(\"learning_rate\", 0.01, 0.2),\n",
      "[I 2025-02-20 06:52:59,155] Trial 6 finished with value: 2887570.737345192 and parameters: {'n_estimators': 81, 'learning_rate': 0.08920646705083564, 'max_depth': 4}. Best is trial 1 with value: 2209642.3000754383.\n",
      "<ipython-input-39-a28df8fd8148>:8: FutureWarning: suggest_loguniform has been deprecated in v3.0.0. This feature will be removed in v6.0.0. See https://github.com/optuna/optuna/releases/tag/v3.0.0. Use suggest_float(..., log=True) instead.\n",
      "  \"learning_rate\": trial.suggest_loguniform(\"learning_rate\", 0.01, 0.2),\n",
      "[I 2025-02-20 06:53:23,593] Trial 7 finished with value: 2391279.9006255763 and parameters: {'n_estimators': 94, 'learning_rate': 0.04144817242826119, 'max_depth': 15}. Best is trial 1 with value: 2209642.3000754383.\n",
      "<ipython-input-39-a28df8fd8148>:8: FutureWarning: suggest_loguniform has been deprecated in v3.0.0. This feature will be removed in v6.0.0. See https://github.com/optuna/optuna/releases/tag/v3.0.0. Use suggest_float(..., log=True) instead.\n",
      "  \"learning_rate\": trial.suggest_loguniform(\"learning_rate\", 0.01, 0.2),\n",
      "[I 2025-02-20 06:53:25,267] Trial 8 finished with value: 2944866.5884086546 and parameters: {'n_estimators': 82, 'learning_rate': 0.08710017031190599, 'max_depth': 4}. Best is trial 1 with value: 2209642.3000754383.\n",
      "<ipython-input-39-a28df8fd8148>:8: FutureWarning: suggest_loguniform has been deprecated in v3.0.0. This feature will be removed in v6.0.0. See https://github.com/optuna/optuna/releases/tag/v3.0.0. Use suggest_float(..., log=True) instead.\n",
      "  \"learning_rate\": trial.suggest_loguniform(\"learning_rate\", 0.01, 0.2),\n",
      "[I 2025-02-20 06:53:27,939] Trial 9 finished with value: 3129316.895007249 and parameters: {'n_estimators': 65, 'learning_rate': 0.0834426029705744, 'max_depth': 4}. Best is trial 1 with value: 2209642.3000754383.\n"
     ]
    },
    {
     "name": "stdout",
     "output_type": "stream",
     "text": [
      "Best XGBoost Parameters: {'n_estimators': 91, 'learning_rate': 0.06731364379484807, 'max_depth': 12}\n",
      "Best XGBoost Model Evaluation:\n",
      "Mean Squared Error: 2209642.3000754383\n",
      "Mean Absolute Error: 914.1759342150244\n",
      "R-squared: 0.9747188545104041\n"
     ]
    }
   ],
   "source": [
    "import xgboost as xgb\n",
    "import optuna\n",
    "from sklearn.metrics import mean_squared_error, mean_absolute_error, r2_score\n",
    "\n",
    "def objective(trial):\n",
    "    params = {\n",
    "        \"n_estimators\": trial.suggest_int(\"n_estimators\", 50, 100),\n",
    "        \"learning_rate\": trial.suggest_loguniform(\"learning_rate\", 0.01, 0.2),\n",
    "        \"max_depth\": trial.suggest_int(\"max_depth\", 2, 16),\n",
    "    }\n",
    "\n",
    "    model = xgb.XGBRegressor(**params, objective=\"reg:squarederror\", random_state=42)\n",
    "    model.fit(X_train, y_train)\n",
    "    predictions = model.predict(X_test)\n",
    "\n",
    "    mse = mean_squared_error(y_test, predictions)\n",
    "    return mse\n",
    "\n",
    "study = optuna.create_study(direction=\"minimize\")\n",
    "study.optimize(objective, n_trials=10)\n",
    "\n",
    "print(\"Best XGBoost Parameters:\", study.best_params)\n",
    "\n",
    "# Train and evaluate the model with the best parameters found\n",
    "best_model = xgb.XGBRegressor(**study.best_params, objective=\"reg:squarederror\", random_state=42)\n",
    "best_model.fit(X_train, y_train)\n",
    "predictions = best_model.predict(X_test)\n",
    "\n",
    "# Calculate evaluation metrics\n",
    "mse = mean_squared_error(y_test, predictions)\n",
    "mae = mean_absolute_error(y_test, predictions)\n",
    "r2 = r2_score(y_test, predictions)\n",
    "\n",
    "# Print the evaluation results\n",
    "print(f\"Best XGBoost Model Evaluation:\")\n",
    "print(f\"Mean Squared Error: {mse}\")\n",
    "print(f\"Mean Absolute Error: {mae}\")\n",
    "print(f\"R-squared: {r2}\")\n",
    "\n"
   ]
  },
  {
   "cell_type": "markdown",
   "metadata": {
    "id": "_5izBWoOZYVq"
   },
   "source": [
    "**Modified Algorithm 2**: CatBoost Regressor with Optuna\n",
    "\n",
    "\n",
    "\n",
    "\n"
   ]
  },
  {
   "cell_type": "code",
   "execution_count": 32,
   "metadata": {
    "colab": {
     "base_uri": "https://localhost:8080/"
    },
    "id": "Gut8Wr5gZkzT",
    "outputId": "3d542dcd-f3bf-42a4-bce9-d712cd6de9fb"
   },
   "outputs": [
    {
     "name": "stdout",
     "output_type": "stream",
     "text": [
      "Collecting catboost\n",
      "  Downloading catboost-1.2.7-cp311-cp311-manylinux2014_x86_64.whl.metadata (1.2 kB)\n",
      "Requirement already satisfied: graphviz in /usr/local/lib/python3.11/dist-packages (from catboost) (0.20.3)\n",
      "Requirement already satisfied: matplotlib in /usr/local/lib/python3.11/dist-packages (from catboost) (3.10.0)\n",
      "Requirement already satisfied: numpy<2.0,>=1.16.0 in /usr/local/lib/python3.11/dist-packages (from catboost) (1.26.4)\n",
      "Requirement already satisfied: pandas>=0.24 in /usr/local/lib/python3.11/dist-packages (from catboost) (2.2.2)\n",
      "Requirement already satisfied: scipy in /usr/local/lib/python3.11/dist-packages (from catboost) (1.13.1)\n",
      "Requirement already satisfied: plotly in /usr/local/lib/python3.11/dist-packages (from catboost) (5.24.1)\n",
      "Requirement already satisfied: six in /usr/local/lib/python3.11/dist-packages (from catboost) (1.17.0)\n",
      "Requirement already satisfied: python-dateutil>=2.8.2 in /usr/local/lib/python3.11/dist-packages (from pandas>=0.24->catboost) (2.8.2)\n",
      "Requirement already satisfied: pytz>=2020.1 in /usr/local/lib/python3.11/dist-packages (from pandas>=0.24->catboost) (2025.1)\n",
      "Requirement already satisfied: tzdata>=2022.7 in /usr/local/lib/python3.11/dist-packages (from pandas>=0.24->catboost) (2025.1)\n",
      "Requirement already satisfied: contourpy>=1.0.1 in /usr/local/lib/python3.11/dist-packages (from matplotlib->catboost) (1.3.1)\n",
      "Requirement already satisfied: cycler>=0.10 in /usr/local/lib/python3.11/dist-packages (from matplotlib->catboost) (0.12.1)\n",
      "Requirement already satisfied: fonttools>=4.22.0 in /usr/local/lib/python3.11/dist-packages (from matplotlib->catboost) (4.56.0)\n",
      "Requirement already satisfied: kiwisolver>=1.3.1 in /usr/local/lib/python3.11/dist-packages (from matplotlib->catboost) (1.4.8)\n",
      "Requirement already satisfied: packaging>=20.0 in /usr/local/lib/python3.11/dist-packages (from matplotlib->catboost) (24.2)\n",
      "Requirement already satisfied: pillow>=8 in /usr/local/lib/python3.11/dist-packages (from matplotlib->catboost) (11.1.0)\n",
      "Requirement already satisfied: pyparsing>=2.3.1 in /usr/local/lib/python3.11/dist-packages (from matplotlib->catboost) (3.2.1)\n",
      "Requirement already satisfied: tenacity>=6.2.0 in /usr/local/lib/python3.11/dist-packages (from plotly->catboost) (9.0.0)\n",
      "Downloading catboost-1.2.7-cp311-cp311-manylinux2014_x86_64.whl (98.7 MB)\n",
      "\u001b[2K   \u001b[90m━━━━━━━━━━━━━━━━━━━━━━━━━━━━━━━━━━━━━━━━\u001b[0m \u001b[32m98.7/98.7 MB\u001b[0m \u001b[31m8.9 MB/s\u001b[0m eta \u001b[36m0:00:00\u001b[0m\n",
      "\u001b[?25hInstalling collected packages: catboost\n",
      "Successfully installed catboost-1.2.7\n"
     ]
    }
   ],
   "source": [
    "!pip install catboost"
   ]
  },
  {
   "cell_type": "code",
   "execution_count": 44,
   "metadata": {
    "colab": {
     "base_uri": "https://localhost:8080/"
    },
    "id": "SzZTEAz2ZYAz",
    "outputId": "45c9ec58-8dbb-43b1-8e84-25a7d4cfda89"
   },
   "outputs": [
    {
     "name": "stderr",
     "output_type": "stream",
     "text": [
      "[I 2025-02-20 07:04:59,696] A new study created in memory with name: no-name-a6c45203-7d65-4c7f-995d-9b346d2b5115\n",
      "<ipython-input-44-0646cfdc6e65>:9: FutureWarning: suggest_loguniform has been deprecated in v3.0.0. This feature will be removed in v6.0.0. See https://github.com/optuna/optuna/releases/tag/v3.0.0. Use suggest_float(..., log=True) instead.\n",
      "  \"learning_rate\": trial.suggest_loguniform(\"learning_rate\", 0.01, 0.2),\n",
      "[I 2025-02-20 07:05:01,583] Trial 0 finished with value: 5752947.082907695 and parameters: {'iterations': 81, 'learning_rate': 0.02501759312388427, 'depth': 6}. Best is trial 0 with value: 5752947.082907695.\n"
     ]
    },
    {
     "name": "stdout",
     "output_type": "stream",
     "text": [
      "Trial 0: MSE=5752947.082907695, MAE=1476.24594134648, R²=0.9341788975564187\n"
     ]
    },
    {
     "name": "stderr",
     "output_type": "stream",
     "text": [
      "<ipython-input-44-0646cfdc6e65>:9: FutureWarning: suggest_loguniform has been deprecated in v3.0.0. This feature will be removed in v6.0.0. See https://github.com/optuna/optuna/releases/tag/v3.0.0. Use suggest_float(..., log=True) instead.\n",
      "  \"learning_rate\": trial.suggest_loguniform(\"learning_rate\", 0.01, 0.2),\n",
      "[I 2025-02-20 07:05:02,717] Trial 1 finished with value: 13857688.158860182 and parameters: {'iterations': 82, 'learning_rate': 0.014657173235171685, 'depth': 4}. Best is trial 0 with value: 5752947.082907695.\n"
     ]
    },
    {
     "name": "stdout",
     "output_type": "stream",
     "text": [
      "Trial 1: MSE=13857688.158860182, MAE=2561.942477107123, R²=0.8414502517074213\n"
     ]
    },
    {
     "name": "stderr",
     "output_type": "stream",
     "text": [
      "<ipython-input-44-0646cfdc6e65>:9: FutureWarning: suggest_loguniform has been deprecated in v3.0.0. This feature will be removed in v6.0.0. See https://github.com/optuna/optuna/releases/tag/v3.0.0. Use suggest_float(..., log=True) instead.\n",
      "  \"learning_rate\": trial.suggest_loguniform(\"learning_rate\", 0.01, 0.2),\n",
      "[I 2025-02-20 07:05:04,039] Trial 2 finished with value: 5199756.185639917 and parameters: {'iterations': 55, 'learning_rate': 0.03831819628741249, 'depth': 8}. Best is trial 2 with value: 5199756.185639917.\n"
     ]
    },
    {
     "name": "stdout",
     "output_type": "stream",
     "text": [
      "Trial 2: MSE=5199756.185639917, MAE=1387.4803761246258, R²=0.9405081118174189\n"
     ]
    },
    {
     "name": "stderr",
     "output_type": "stream",
     "text": [
      "<ipython-input-44-0646cfdc6e65>:9: FutureWarning: suggest_loguniform has been deprecated in v3.0.0. This feature will be removed in v6.0.0. See https://github.com/optuna/optuna/releases/tag/v3.0.0. Use suggest_float(..., log=True) instead.\n",
      "  \"learning_rate\": trial.suggest_loguniform(\"learning_rate\", 0.01, 0.2),\n",
      "[I 2025-02-20 07:05:09,764] Trial 3 finished with value: 22571532.20925762 and parameters: {'iterations': 50, 'learning_rate': 0.01552458385137053, 'depth': 12}. Best is trial 2 with value: 5199756.185639917.\n"
     ]
    },
    {
     "name": "stdout",
     "output_type": "stream",
     "text": [
      "Trial 3: MSE=22571532.20925762, MAE=3400.076805780721, R²=0.7417526856333889\n"
     ]
    },
    {
     "name": "stderr",
     "output_type": "stream",
     "text": [
      "<ipython-input-44-0646cfdc6e65>:9: FutureWarning: suggest_loguniform has been deprecated in v3.0.0. This feature will be removed in v6.0.0. See https://github.com/optuna/optuna/releases/tag/v3.0.0. Use suggest_float(..., log=True) instead.\n",
      "  \"learning_rate\": trial.suggest_loguniform(\"learning_rate\", 0.01, 0.2),\n",
      "[I 2025-02-20 07:05:13,475] Trial 4 finished with value: 4077940.2089054515 and parameters: {'iterations': 85, 'learning_rate': 0.031673244591007996, 'depth': 9}. Best is trial 4 with value: 4077940.2089054515.\n"
     ]
    },
    {
     "name": "stdout",
     "output_type": "stream",
     "text": [
      "Trial 4: MSE=4077940.2089054515, MAE=1149.7186120020608, R²=0.953343127204031\n"
     ]
    },
    {
     "name": "stderr",
     "output_type": "stream",
     "text": [
      "<ipython-input-44-0646cfdc6e65>:9: FutureWarning: suggest_loguniform has been deprecated in v3.0.0. This feature will be removed in v6.0.0. See https://github.com/optuna/optuna/releases/tag/v3.0.0. Use suggest_float(..., log=True) instead.\n",
      "  \"learning_rate\": trial.suggest_loguniform(\"learning_rate\", 0.01, 0.2),\n",
      "[I 2025-02-20 07:05:16,261] Trial 5 finished with value: 18043678.663889233 and parameters: {'iterations': 54, 'learning_rate': 0.01700577020450265, 'depth': 10}. Best is trial 4 with value: 4077940.2089054515.\n"
     ]
    },
    {
     "name": "stdout",
     "output_type": "stream",
     "text": [
      "Trial 5: MSE=18043678.663889233, MAE=3009.182254174316, R²=0.793557144767853\n"
     ]
    },
    {
     "name": "stderr",
     "output_type": "stream",
     "text": [
      "<ipython-input-44-0646cfdc6e65>:9: FutureWarning: suggest_loguniform has been deprecated in v3.0.0. This feature will be removed in v6.0.0. See https://github.com/optuna/optuna/releases/tag/v3.0.0. Use suggest_float(..., log=True) instead.\n",
      "  \"learning_rate\": trial.suggest_loguniform(\"learning_rate\", 0.01, 0.2),\n",
      "[I 2025-02-20 07:05:17,767] Trial 6 finished with value: 5684490.794964715 and parameters: {'iterations': 63, 'learning_rate': 0.031203297342386943, 'depth': 8}. Best is trial 4 with value: 4077940.2089054515.\n"
     ]
    },
    {
     "name": "stdout",
     "output_type": "stream",
     "text": [
      "Trial 6: MSE=5684490.794964715, MAE=1477.7869861858683, R²=0.9349621254006291\n"
     ]
    },
    {
     "name": "stderr",
     "output_type": "stream",
     "text": [
      "<ipython-input-44-0646cfdc6e65>:9: FutureWarning: suggest_loguniform has been deprecated in v3.0.0. This feature will be removed in v6.0.0. See https://github.com/optuna/optuna/releases/tag/v3.0.0. Use suggest_float(..., log=True) instead.\n",
      "  \"learning_rate\": trial.suggest_loguniform(\"learning_rate\", 0.01, 0.2),\n",
      "[I 2025-02-20 07:05:20,456] Trial 7 finished with value: 13861431.428908452 and parameters: {'iterations': 90, 'learning_rate': 0.01228372197665583, 'depth': 9}. Best is trial 4 with value: 4077940.2089054515.\n"
     ]
    },
    {
     "name": "stdout",
     "output_type": "stream",
     "text": [
      "Trial 7: MSE=13861431.428908452, MAE=2589.6814044218527, R²=0.8414074238910394\n"
     ]
    },
    {
     "name": "stderr",
     "output_type": "stream",
     "text": [
      "<ipython-input-44-0646cfdc6e65>:9: FutureWarning: suggest_loguniform has been deprecated in v3.0.0. This feature will be removed in v6.0.0. See https://github.com/optuna/optuna/releases/tag/v3.0.0. Use suggest_float(..., log=True) instead.\n",
      "  \"learning_rate\": trial.suggest_loguniform(\"learning_rate\", 0.01, 0.2),\n",
      "[I 2025-02-20 07:05:21,312] Trial 8 finished with value: 3788325.5168944686 and parameters: {'iterations': 61, 'learning_rate': 0.07263178430249682, 'depth': 4}. Best is trial 8 with value: 3788325.5168944686.\n"
     ]
    },
    {
     "name": "stdout",
     "output_type": "stream",
     "text": [
      "Trial 8: MSE=3788325.5168944686, MAE=1053.303318961412, R²=0.9566566911978069\n"
     ]
    },
    {
     "name": "stderr",
     "output_type": "stream",
     "text": [
      "<ipython-input-44-0646cfdc6e65>:9: FutureWarning: suggest_loguniform has been deprecated in v3.0.0. This feature will be removed in v6.0.0. See https://github.com/optuna/optuna/releases/tag/v3.0.0. Use suggest_float(..., log=True) instead.\n",
      "  \"learning_rate\": trial.suggest_loguniform(\"learning_rate\", 0.01, 0.2),\n",
      "[I 2025-02-20 07:05:22,824] Trial 9 finished with value: 4611581.376647427 and parameters: {'iterations': 64, 'learning_rate': 0.03677973986215409, 'depth': 8}. Best is trial 8 with value: 3788325.5168944686.\n"
     ]
    },
    {
     "name": "stdout",
     "output_type": "stream",
     "text": [
      "Trial 9: MSE=4611581.376647427, MAE=1263.9735480999711, R²=0.9472375869541625\n",
      "Best CatBoost Parameters: {'iterations': 61, 'learning_rate': 0.07263178430249682, 'depth': 4}\n",
      "Best Model Final Evaluation:\n",
      "Mean Squared Error: 3788325.5168944686\n",
      "Mean Absolute Error: 1053.303318961412\n",
      "R-squared: 0.9566566911978069\n"
     ]
    }
   ],
   "source": [
    "import catboost as cb\n",
    "import optuna\n",
    "from sklearn.metrics import mean_squared_error, mean_absolute_error, r2_score\n",
    "\n",
    "def objective(trial):\n",
    "    # Suggesting parameters for CatBoost using Optuna\n",
    "    params = {\n",
    "        \"iterations\": trial.suggest_int(\"iterations\", 50, 100),\n",
    "        \"learning_rate\": trial.suggest_loguniform(\"learning_rate\", 0.01, 0.2),\n",
    "        \"depth\": trial.suggest_int(\"depth\", 4, 12),\n",
    "    }\n",
    "\n",
    "    # Initialize CatBoostRegressor with the suggested parameters\n",
    "    model = cb.CatBoostRegressor(**params, verbose=0)\n",
    "    model.fit(X_train, y_train)\n",
    "    predictions = model.predict(X_test)\n",
    "\n",
    "    # Calculate evaluation metrics\n",
    "    mse = mean_squared_error(y_test, predictions)\n",
    "    mae = mean_absolute_error(y_test, predictions)\n",
    "    r2 = r2_score(y_test, predictions)\n",
    "\n",
    "    # Print metrics for each trial (optional)\n",
    "    print(f\"Trial {trial.number}: MSE={mse}, MAE={mae}, R²={r2}\")\n",
    "\n",
    "    # Return MSE as the objective to minimize\n",
    "    return mse\n",
    "\n",
    "# Create an Optuna study to minimize the MSE\n",
    "study = optuna.create_study(direction=\"minimize\")\n",
    "study.optimize(objective, n_trials=10)\n",
    "\n",
    "# Print the best parameters found by Optuna\n",
    "print(\"Best CatBoost Parameters:\", study.best_params)\n",
    "\n",
    "# After optimization, train the final model with the best parameters\n",
    "best_params = study.best_params\n",
    "best_model = cb.CatBoostRegressor(**best_params, verbose=0)\n",
    "best_model.fit(X_train, y_train)\n",
    "best_predictions = best_model.predict(X_test)\n",
    "\n",
    "# Final evaluation of the best model\n",
    "final_mse = mean_squared_error(y_test, best_predictions)\n",
    "final_mae = mean_absolute_error(y_test, best_predictions)\n",
    "final_r2 = r2_score(y_test, best_predictions)\n",
    "\n",
    "# Print final model evaluation metrics\n",
    "print(f\"Best Model Final Evaluation:\")\n",
    "print(f\"Mean Squared Error: {final_mse}\")\n",
    "print(f\"Mean Absolute Error: {final_mae}\")\n",
    "print(f\"R-squared: {final_r2}\")\n"
   ]
  },
  {
   "cell_type": "code",
   "execution_count": 45,
   "metadata": {
    "colab": {
     "base_uri": "https://localhost:8080/"
    },
    "id": "f3fqu8cuI2kb",
    "outputId": "19da9192-af89-473e-d33d-dcd989b8783e"
   },
   "outputs": [
    {
     "name": "stdout",
     "output_type": "stream",
     "text": [
      "Ensemble Model Evaluation:\n",
      "Mean Squared Error: 2175224.143722778\n",
      "Mean Absolute Error: 937.4033522339229\n",
      "R-squared: 0.9751126424181598\n",
      "--------------------------------------------------\n"
     ]
    }
   ],
   "source": [
    "from sklearn.ensemble import VotingRegressor\n",
    "from sklearn.linear_model import Ridge\n",
    "from sklearn.ensemble import RandomForestRegressor\n",
    "import xgboost as xgb\n",
    "from sklearn.metrics import mean_squared_error, mean_absolute_error, r2_score\n",
    "\n",
    "# Define best models with their tuned hyperparameters\n",
    "ridge_best = Ridge(alpha=9.866613231759823)\n",
    "rf_best = RandomForestRegressor(n_estimators=148, max_depth=8, min_samples_split=4, min_samples_leaf=2, random_state=42, n_jobs=-1)\n",
    "xgb_best = xgb.XGBRegressor(n_estimators=50, learning_rate=0.11807122653081015, max_depth=12, objective='reg:squarederror', random_state=42)\n",
    "\n",
    "# Create a VotingRegressor with selected models\n",
    "ensemble_model = VotingRegressor(\n",
    "    estimators=[\n",
    "        ('ridge', ridge_best),\n",
    "        ('rf', rf_best),\n",
    "        ('xgb', xgb_best)\n",
    "    ]\n",
    ")\n",
    "\n",
    "# Train the ensemble model\n",
    "ensemble_model.fit(X_train, y_train)\n",
    "\n",
    "# Make predictions\n",
    "ensemble_predictions = ensemble_model.predict(X_test)\n",
    "\n",
    "# Function to evaluate model performance\n",
    "def evaluate_model(y_true, y_pred, model_name=\"Model\"):\n",
    "    mse = mean_squared_error(y_true, y_pred)\n",
    "    mae = mean_absolute_error(y_true, y_pred)\n",
    "    r2 = r2_score(y_true, y_pred)\n",
    "\n",
    "    print(f\"{model_name} Evaluation:\")\n",
    "    print(f\"Mean Squared Error: {mse}\")\n",
    "    print(f\"Mean Absolute Error: {mae}\")\n",
    "    print(f\"R-squared: {r2}\")\n",
    "    print(\"-\" * 50)\n",
    "\n",
    "# Evaluate the ensemble model\n",
    "evaluate_model(y_test, ensemble_predictions, \"Ensemble Model\")\n"
   ]
  },
  {
   "cell_type": "markdown",
   "metadata": {
    "id": "5UYzvNDMaDTJ"
   },
   "source": [
    "1. SHAP for Ridge Regression (Linear Model)"
   ]
  },
  {
   "cell_type": "code",
   "execution_count": 41,
   "metadata": {
    "colab": {
     "base_uri": "https://localhost:8080/",
     "height": 757
    },
    "id": "sIzK4_-vaEp2",
    "outputId": "9616fc14-34ad-4555-a3e0-6dd85984d894"
   },
   "outputs": [
    {
     "data": {
      "image/png": "[encoded data removed]",
      "text/plain": [
       "<Figure size 800x750 with 2 Axes>"
      ]
     },
     "metadata": {},
     "output_type": "display_data"
    }
   ],
   "source": [
    "import shap\n",
    "from sklearn.linear_model import Ridge\n",
    "\n",
    "# Train the model with best parameters\n",
    "ridge_model = Ridge(alpha=9.866613231759823)\n",
    "ridge_model.fit(X_train, y_train)\n",
    "\n",
    "# SHAP for Ridge Regression\n",
    "ridge_explainer = shap.Explainer(ridge_model, X_train)\n",
    "ridge_shap_values = ridge_explainer(X_test)\n",
    "\n",
    "# Plot SHAP values\n",
    "shap.summary_plot(ridge_shap_values, X_test)\n"
   ]
  },
  {
   "cell_type": "markdown",
   "metadata": {
    "id": "Gif5AQfjb9NZ"
   },
   "source": [
    "3. SHAP for Decision Tree Regressor (Tree-based Model)\n",
    "\n"
   ]
  },
  {
   "cell_type": "code",
   "execution_count": 43,
   "metadata": {
    "colab": {
     "base_uri": "https://localhost:8080/",
     "height": 757
    },
    "id": "wdYDrEeqb-hO",
    "outputId": "5f5a272f-fefe-4c4b-9fab-e7d891fd302f"
   },
   "outputs": [
    {
     "data": {
      "image/png": "[encoded data removed]",
      "text/plain": [
       "<Figure size 800x750 with 2 Axes>"
      ]
     },
     "metadata": {},
     "output_type": "display_data"
    }
   ],
   "source": [
    "from sklearn.tree import DecisionTreeRegressor\n",
    "\n",
    "# Train Decision Tree with best parameters\n",
    "tree_model = DecisionTreeRegressor(max_depth=13, min_samples_split=4, min_samples_leaf=2)\n",
    "tree_model.fit(X_train, y_train)\n",
    "\n",
    "# SHAP for Decision Tree Regressor\n",
    "tree_explainer = shap.TreeExplainer(tree_model)\n",
    "tree_shap_values = tree_explainer.shap_values(X_test)\n",
    "\n",
    "# Plot SHAP values\n",
    "shap.summary_plot(tree_shap_values, X_test)\n"
   ]
  },
  {
   "cell_type": "markdown",
   "metadata": {
    "id": "j1wVPI5rcKKz"
   },
   "source": [
    "5. SHAP for LightGBM Regressor (Tree-based Model)\n",
    "\n"
   ]
  },
  {
   "cell_type": "code",
   "execution_count": 46,
   "metadata": {
    "colab": {
     "base_uri": "https://localhost:8080/",
     "height": 864
    },
    "id": "t3AOIIRWcLtP",
    "outputId": "53fd1b15-426c-4d2b-92a4-105bebfb6eb5"
   },
   "outputs": [
    {
     "name": "stdout",
     "output_type": "stream",
     "text": [
      "[LightGBM] [Warning] Found whitespace in feature_names, replace with underlines\n",
      "[LightGBM] [Info] Auto-choosing col-wise multi-threading, the overhead of testing was 0.012526 seconds.\n",
      "You can set `force_col_wise=true` to remove the overhead.\n",
      "[LightGBM] [Info] Total Bins 1831\n",
      "[LightGBM] [Info] Number of data points in the train set: 92887, number of used features: 15\n",
      "[LightGBM] [Info] Start training from score 13223.778473\n"
     ]
    },
    {
     "data": {
      "image/png": "[encoded data removed]",
      "text/plain": [
       "<Figure size 800x750 with 2 Axes>"
      ]
     },
     "metadata": {},
     "output_type": "display_data"
    }
   ],
   "source": [
    "import lightgbm as lgb\n",
    "\n",
    "# Train LightGBM model with best parameters\n",
    "lgb_model = lgb.LGBMRegressor(n_estimators=100, learning_rate=0.05604154974075783, num_leaves=53)\n",
    "lgb_model.fit(X_train, y_train)\n",
    "\n",
    "# SHAP for LightGBM Regressor\n",
    "lgb_explainer = shap.TreeExplainer(lgb_model)\n",
    "lgb_shap_values = lgb_explainer.shap_values(X_test)\n",
    "\n",
    "# Plot SHAP values\n",
    "shap.summary_plot(lgb_shap_values, X_test)\n"
   ]
  },
  {
   "cell_type": "markdown",
   "metadata": {
    "id": "8pN-jcCec3F0"
   },
   "source": [
    "**Conclusion:**\n",
    "\n",
    "1. The Ensemble model emerges as the best model with the lowest error metrics and the highest R².\n",
    "\n",
    "2. XGBoost and Random Forest also show strong performance, outperforming traditional models like Linear and Decision Tree Regression.\n",
    "\n",
    "3. Models like Ridge and Lasso perform similarly to Linear Regression but with added regularization, offering minor improvements in certain cases.\n",
    "\n",
    "4. CatBoost lags behind the others in terms of R², making it less suitable for this specific dataset.\n"
   ]
  }
 ],
 "metadata": {
  "accelerator": "GPU",
  "colab": {
   "gpuType": "T4",
   "provenance": []
  },
  "kernelspec": {
   "display_name": "Python 3 (ipykernel)",
   "language": "python",
   "name": "python3"
  },
  "language_info": {
   "codemirror_mode": {
    "name": "ipython",
    "version": 3
   },
   "file_extension": ".py",
   "mimetype": "text/x-python",
   "name": "python",
   "nbconvert_exporter": "python",
   "pygments_lexer": "ipython3",
   "version": "3.9.7"
  }
 },
 "nbformat": 4,
 "nbformat_minor": 1
}
